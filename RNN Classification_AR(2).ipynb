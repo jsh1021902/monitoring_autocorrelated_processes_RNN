{
 "cells": [
  {
   "cell_type": "code",
   "execution_count": 1,
   "metadata": {},
   "outputs": [],
   "source": [
    "import numpy as np\n",
    "import torch\n",
    "from torch import nn\n",
    "import torch.optim as optim\n",
    "from torch.utils.data import TensorDataset\n",
    "from torch.utils.data import DataLoader\n",
    "import matplotlib.pyplot as plt\n",
    "from sklearn.metrics import mean_squared_error\n",
    "from pytorchtools import EarlyStopping\n",
    "import math\n",
    "from tqdm import tqdm"
   ]
  },
  {
   "cell_type": "code",
   "execution_count": 64,
   "metadata": {},
   "outputs": [
    {
     "name": "stdout",
     "output_type": "stream",
     "text": [
      "MPS 장치를 지원하도록 build가 되었는가? True\n",
      "MPS 장치가 사용 가능한가? True\n"
     ]
    }
   ],
   "source": [
    "import torch\n",
    "print(f\"MPS 장치를 지원하도록 build가 되었는가? {torch.backends.mps.is_built()}\")\n",
    "print(f\"MPS 장치가 사용 가능한가? {torch.backends.mps.is_available()}\")"
   ]
  },
  {
   "cell_type": "markdown",
   "metadata": {},
   "source": [
    "#### CUDA 사용 및 EarlyStopping 설정"
   ]
  },
  {
   "cell_type": "code",
   "execution_count": 71,
   "metadata": {},
   "outputs": [
    {
     "name": "stdout",
     "output_type": "stream",
     "text": [
      "cpu\n"
     ]
    }
   ],
   "source": [
    "device = torch.device('cuda:0') if torch.cuda.is_available() else torch.device('cpu')\n",
    "print(device)\n",
    "early_stopping = EarlyStopping(patience = 5, verbose = True)"
   ]
  },
  {
   "cell_type": "code",
   "execution_count": 65,
   "metadata": {},
   "outputs": [],
   "source": [
    "device = torch.device(\"mps\")\n",
    "early_stopping = EarlyStopping(patience = 5, verbose = True)"
   ]
  },
  {
   "cell_type": "markdown",
   "metadata": {},
   "source": [
    "맥북 M2 MAX는 NVIDEA GPU를 사용하지 않아 CUDA 지원 안 함"
   ]
  },
  {
   "cell_type": "markdown",
   "metadata": {},
   "source": [
    "#### 모델 저장"
   ]
  },
  {
   "cell_type": "code",
   "execution_count": 3,
   "metadata": {},
   "outputs": [],
   "source": [
    "def saveModel():\n",
    "    torch.save(model.state_dict(), 'model_ar2.pt') # 모델의 학습된 매개변수 파일에 저장"
   ]
  },
  {
   "cell_type": "markdown",
   "metadata": {},
   "source": [
    "#### 하이퍼 파라미터 설정"
   ]
  },
  {
   "cell_type": "code",
   "execution_count": 4,
   "metadata": {},
   "outputs": [],
   "source": [
    "# 하이퍼파라미터 설정\n",
    "length = 24            # 윈도우 사이즈 (생성할 시계열 데이터의 길이)\n",
    "hidden_size1 = 48      # 은닉층 1 크기\n",
    "hidden_size2 = 24      # 은닉층 2 크기\n",
    "hidden_size3 = 12      # 은닉층 3 크기\n",
    "hidden_size4 = 6       # 은닉층 4 크기\n",
    "learning_rate = 1e-6   # 학습률\n",
    "epoch = 400\n",
    "trainrun = 50          # 생성할 학습 데이터 시퀀스의 수 \n",
    "testrun = 25           # 생성할 평가 데이터 시퀀스의 수 \n",
    "validrun = 25          # 생성할 검증 데이터 시퀀스의 수 \n",
    "\n",
    "# 시계열 데이터 생성을 위한 매개변수\n",
    "# 자기상관계수\n",
    "# phi1값을 0, 0.25, 0.4, 0.6, 0.8별로 생성\n",
    "phi1 = np.array([np.repeat(0,8),\n",
    "                 np.repeat(0.25,8),\n",
    "                 np.repeat(0.4,8),\n",
    "                 np.repeat(0.6,8),\n",
    "                 np.repeat(0.8,8)])\n",
    "\n",
    "phi1 = np.concatenate(phi1)\n",
    "\n",
    "# phi2값을 0.1, 0.2, 0.3, 0.2, 0.1별로 생성\n",
    "phi2 = np.array([np.repeat(0.1,8),\n",
    "                 np.repeat(0.2,8),\n",
    "                 np.repeat(0.3,8),\n",
    "                 np.repeat(0.2,8),\n",
    "                 np.repeat(0.1,8)])\n",
    "\n",
    "phi2 = np.concatenate(phi2)\n",
    "\n",
    "# 변화율 크기 (= 이상상태 포함 정도, psi)\n",
    "psi1 = np.array([0, 10, 15, 20, 23, 14, 17, 23,\n",
    "                 0, 10, 15, 20, 23, 14, 17, 23,\n",
    "                 0, 10, 15, 20, 23, 14, 17, 23,\n",
    "                 0, 10, 15, 20, 23, 14, 17, 23,\n",
    "                 0, 10, 15, 20, 23, 14, 17, 23,])\n",
    "\n",
    "# 공정의 수준 변화율 (delta)\n",
    "de1 = np.array([0, 0.5, 1, 2, 3, 0, 0, 0,\n",
    "                0, 0.5, 1, 2, 3, 0, 0, 0,\n",
    "                0, 0.5, 1, 2, 3, 0, 0, 0,\n",
    "                0, 0.5, 1, 2, 3, 0, 0, 0,\n",
    "                0, 0.5, 1, 2, 3, 0, 0, 0,])\n",
    "\n",
    "# 공정의 분산 변화율 (gamma)\n",
    "ga = np.array([1, 1, 1, 1, 1, 1.5, 2, 3,\n",
    "               1, 1, 1, 1, 1, 1.5, 2, 3,\n",
    "               1, 1, 1, 1, 1, 1.5, 2, 3,\n",
    "               1, 1, 1, 1, 1, 1.5, 2, 3,\n",
    "               1, 1, 1, 1, 1, 1.5, 2, 3,])"
   ]
  },
  {
   "cell_type": "markdown",
   "metadata": {},
   "source": [
    "#### 시계열 데이터 생성"
   ]
  },
  {
   "cell_type": "code",
   "execution_count": 6,
   "metadata": {},
   "outputs": [],
   "source": [
    "np.random.seed(1)\n",
    "\n",
    "# AR(2) 시계열 데이터 생성 함수\n",
    "def ar2(phi1, phi2, delta, gamma, psi, length, run):\n",
    "    # 초기 설정\n",
    "    y = np.zeros(shape=(run, length))                                                        # 생성될 시계열 데이터를 저장할 빈 배열을 초기화. 배열의 크기는 (생성할 데이터 시퀀스의 수, 각 시퀀스의 길이) \n",
    "    sigma = math.sqrt((1 - phi2) / ((1 + phi2) * (1 - phi2 - phi1) * (1 - phi2 + phi1)))     # AR(2)모델의 표준 편차\n",
    "    \n",
    "    # 데이터 시퀀스 생성\n",
    "    for j in range(0, run):                                     # 각 run 마다 랜덤 노이즈(e)를 정규분포에서 추출하여 시계열의 기본 노이즈 생성 (과적합 방지 차원)\n",
    "        e = np.random.normal(loc=0, scale=1, size=length)       \n",
    "        x = np.array(np.repeat(0, length), dtype=np.float64)\n",
    "        \n",
    "        x[0] = e[0]                                             # x 배열 초기화하고, 첫 번째 시점의 값은 첫 번째 노이즈 값으로 설정 (시계열의 시작점에서 발생할 수 있는 임의성 반영 및 자기상관 구조 구현)\n",
    "\n",
    "        # psi 시점 이전의 데이터 생성\n",
    "        for i in range(2, psi):                                 # psi 시점 이전까지는 관리상태 데이터\n",
    "            x[i] = phi1 * x[i - 1] + phi2 * x[i - 2] + e[i]     # AR(2)모델의 관리상태\n",
    "            \n",
    "        # psi 시점 이후의 데이터 생성 및 변동성 적용\n",
    "        for i in range(psi,len(x)):                             # AR(2)모델의 이상상태\n",
    "            e[i] = gamma * e[i]\n",
    "            x[i] = phi1 * x[i - 1] + phi2 * x[i - 2] + e[i] \n",
    "        for i in range(psi,len(x)):                             # delta(변동성 크기 조절하는 매개변수)를 통한 추가 변동성 적용\n",
    "            x[i] = x[i] + delta*sigma\n",
    "        \n",
    "        # 최종 데이터 반환 (각 run에 대해 생성된 시계열 데이터를 저장)  \n",
    "        y[j] = x\n",
    "\n",
    "    return y\n",
    "\n",
    "\n",
    "# 다양한 매개변수 조합에 대한 시계열 데이터 세트 생성\n",
    "def totaldat(run,length):\n",
    "    # 빈 데이터 배열 초기화\n",
    "    y = np.zeros(shape=(len(phi1), run, length))\n",
    "    # 매개변수 조합별 데이터 생성\n",
    "    for i in range(len(phi1)):\n",
    "        y[i]= ar2(phi1[i], phi2[i], de1[i], ga[i], psi1[i], length, run)\n",
    "\n",
    "    return y\n",
    "\n",
    "\n",
    "# 훈련용 시계열 데이터\n",
    "# 데이터 생성 및 변형\n",
    "train_x = totaldat(trainrun,length)                             # 훈련용 시계열 데이터 생성\n",
    "train_x = train_x.reshape(trainrun*len(phi1), length)            # 생성된 훈련용 데이터를 적절한 형태로 재배열\n",
    "\n",
    "# 레이블 생성 및 변형\n",
    "train_y =  [np.repeat(0,trainrun),np.repeat(1,trainrun*7),      # 관리상태(1가지)는 0, 이상상태(7가지)는 1로 가정\n",
    "            np.repeat(0,trainrun),np.repeat(1,trainrun*7),\n",
    "            np.repeat(0,trainrun),np.repeat(1,trainrun*7),\n",
    "            np.repeat(0,trainrun),np.repeat(1,trainrun*7),\n",
    "            np.repeat(0,trainrun),np.repeat(1,trainrun*7),]\n",
    "train_y =  np.concatenate(train_y)\n",
    "train_y = train_y.reshape(2000,1)                               # 최종 레이블 배열의 형태를 조정 (학습용 데이터 세트 2000개)\n",
    "\n",
    "# PyTorch 텐서로 변환 및 장치 할당\n",
    "# train_x = torch.FloatTensor(train_x).to(device)\n",
    "# train_y = torch.FloatTensor(train_y).to(device)\n",
    "\n",
    "\n",
    "# 평가용 시계열 데이터\n",
    "# 데이터 생성 및 변형\n",
    "test_x = totaldat(run = testrun, length = length)\n",
    "test_x = test_x.reshape(testrun*len(phi1), length)\n",
    "\n",
    "# 레이블 생성 및 변형\n",
    "test_y = [np.repeat(0,testrun),np.repeat(1,testrun*7),\n",
    "          np.repeat(0,testrun),np.repeat(1,testrun*7),\n",
    "          np.repeat(0,testrun),np.repeat(1,testrun*7),\n",
    "          np.repeat(0,testrun),np.repeat(1,testrun*7),\n",
    "          np.repeat(0,testrun),np.repeat(1,testrun*7),]\n",
    "test_y = np.concatenate(test_y)\n",
    "test_y = test_y.reshape(1000,1)                                 # 최종 레이블 배열의 형태를 조정 (평가용 데이터 세트 1000개)\n",
    "\n",
    "# PyTorch 텐서로 변환 및 장치 할당\n",
    "# test_x = torch.FloatTensor(test_x).to(device)\n",
    "# test_y = torch.FloatTensor(test_y).to(device)\n",
    "\n",
    "\n",
    "# 검증용 시계열 데이터\n",
    "# 데이터 생성 및 변형\n",
    "valid_x = totaldat(run = validrun, length = length)\n",
    "valid_x = valid_x.reshape(validrun*len(phi1), length)\n",
    "\n",
    "# 레이블 생성 및 변형\n",
    "valid_y = [np.repeat(0,validrun),np.repeat(1,validrun*7),\n",
    "            np.repeat(0,validrun),np.repeat(1,validrun*7),\n",
    "            np.repeat(0,validrun),np.repeat(1,validrun*7),\n",
    "            np.repeat(0,validrun),np.repeat(1,validrun*7),\n",
    "            np.repeat(0,validrun),np.repeat(1,validrun*7),]\n",
    "valid_y = np.concatenate(valid_y)\n",
    "valid_y = valid_y.reshape(1000,1)                                 # 최종 레이블 배열의 형태를 조정 (검증용 데이터 세트 1000개)\n",
    "\n",
    "\n",
    "# PyTorch 텐서로 변환 및 장치 할당\n",
    "train_x = torch.FloatTensor(train_x).to(device)\n",
    "train_y = torch.FloatTensor(train_y).to(device)\n",
    "test_x = torch.FloatTensor(test_x).to(device)\n",
    "test_y = torch.FloatTensor(test_y).to(device)\n",
    "valid_x = torch.FloatTensor(valid_x).to(device)\n",
    "valid_y = torch.FloatTensor(valid_y).to(device)\n",
    "\n",
    "# DataLoader 설정\n",
    "trainset = TensorDataset(train_x, train_y)                        # 데이터와 레이블 쌍을 포함하는 데이터셋 생성\n",
    "trainloader = DataLoader(trainset, shuffle=True)                  # 데이터셋에서 미니배치 자동으로 생성 후 모델 학습 및 평가 시 배치 처리를 용이하게 함 (훈련에서는 데이터를 섞어 학습 과정에서의 일반화 능력 향상)\n",
    "testset = TensorDataset(test_x, test_y)\n",
    "testloader = DataLoader(testset,shuffle = False)                  # 학습 및 검증에서는 데이터 순서 유지\n",
    "validset = TensorDataset(valid_x, valid_y)\n",
    "validloader = DataLoader(validset,shuffle = False)"
   ]
  },
  {
   "cell_type": "markdown",
   "metadata": {},
   "source": [
    "#### 모델 구조"
   ]
  },
  {
   "cell_type": "code",
   "execution_count": 7,
   "metadata": {},
   "outputs": [],
   "source": [
    "class NeuralNetwork(nn.Module):\n",
    "    # 클래스 초기화\n",
    "    def __init__(self, input_size, hidden_size, num_layers, device):\n",
    "        super(NeuralNetwork, self).__init__()\n",
    "        self.device = device                                          \n",
    "        self.hidden_size = hidden_size                                # RNN 모델의 은닉층 크기 \n",
    "        self.num_layers = num_layers                                  # RNN 모델의 층 개수\n",
    "        \n",
    "        # 기본 RNN 레이어 생성\n",
    "        self.rnn = nn.RNN(input_size= input_size,\n",
    "                          hidden_size = hidden_size1,\n",
    "                          num_layers = num_layers,\n",
    "                          nonlinearity= \"relu\",                       # 활성화 함수로 relu를 사용\n",
    "                          batch_first= True)                          # 입력 텐서의 첫 번째 차원이 배치 크기임을 나타냄\n",
    "        \n",
    "        # 완전 연결 레이어 (여러 레이어를 연속적으로 적용할 수 있게 하기 위해 nn.Sequential을 사용)\n",
    "        self.fc = nn.Sequential(nn.Linear(hidden_size,hidden_size2),  # 선형 레이어\n",
    "                                nn.GELU(),                            # GELU 활성화 함수\n",
    "                                nn.Linear(hidden_size2,hidden_size3),\n",
    "                                nn.GELU(),\n",
    "                                nn.Linear(hidden_size3,hidden_size4),\n",
    "                                nn.GELU(),\n",
    "                                nn.Linear(hidden_size4,1),\n",
    "                                nn.Sigmoid()                          # 시그모이드 활성화함수를 사용해 출력을 [0, 1] 범위로 조정\n",
    "                                )\n",
    "\n",
    "    # 순전파 (forward)\n",
    "    def forward(self, x):\n",
    "        # 초기 hidden state 설정\n",
    "        h0 = torch.zeros(x.size()[0], self.hidden_size).to(device)    # 각 배치에 대한 초기 은닉층을 0으로 설정 (= RNN의 첫 번째 시점에서 이전 상태가 없음을 의미)\n",
    "        \n",
    "        # RNN 레이어 실행\n",
    "        out, _ = self.rnn(x, h0)                                      # 입력 데이터 x와 초기 은닉층 h0를 RNN 층에 전달함. out: RNN의 마지막 레이어로부터 나온 output feature 를 반환 (hn: hidden state를 반환)\n",
    "        \n",
    "        # 데이터 재구성 및 완전 연결 레이어 실행\n",
    "        out = out.reshape(out.shape[0], -1)                           # many to many 전략 : 시퀀스의 각 타임 스텝에 대응하는 출력 생성 \n",
    "        out = self.fc(out)                                            # out을 재구성하여 모든 시간 단계의 출력을 하나의 벡터로 평탄화하고 완전 연결 레이어를 통해 최종 예측값을 계산\n",
    "        \n",
    "        return out\n",
    "\n",
    "\n",
    "# 모델 초기화\n",
    "model = NeuralNetwork(input_size = length, hidden_size = hidden_size1, num_layers = 1, device = device).to(device)\n",
    "\n",
    "# Optimizer 설정\n",
    "optimizer = optim.Adam(model.parameters(), lr = learning_rate)\n",
    "\n",
    "# 손실 함수 설정\n",
    "criterion = nn.MSELoss()\n",
    "\n",
    "# 손실 기록을 위한 리스트 초기화\n",
    "loss_ = []                                                            # 훈련 과정에서의 손실값 기록\n",
    "n = len(trainloader)\n",
    "valoss_ = []                                                          # 검증 과정에서의 손실값 기록\n",
    "logger = {\"train_loss\": list(),\n",
    "          \"validation_loss\": list()\n",
    "         }"
   ]
  },
  {
   "cell_type": "markdown",
   "metadata": {},
   "source": [
    "#### 학습 (Training)"
   ]
  },
  {
   "cell_type": "code",
   "execution_count": 8,
   "metadata": {},
   "outputs": [
    {
     "name": "stdout",
     "output_type": "stream",
     "text": [
      "epoch 1\n",
      "train loss : 0.24202414896339178, validation loss : 0.24148082238435745\n",
      "Validation loss decreased (inf --> 0.241481).  Saving model ...\n",
      "epoch 2\n",
      "train loss : 0.24156961768865587, validation loss : 0.24102311109751462\n",
      "Validation loss decreased (0.241481 --> 0.241023).  Saving model ...\n",
      "epoch 3\n",
      "train loss : 0.2411162785689036, validation loss : 0.24056556374331314\n",
      "Validation loss decreased (0.241023 --> 0.240566).  Saving model ...\n",
      "epoch 4\n",
      "train loss : 0.24066416997089982, validation loss : 0.24010986259579659\n",
      "Validation loss decreased (0.240566 --> 0.240110).  Saving model ...\n",
      "epoch 5\n",
      "train loss : 0.24021227632462977, validation loss : 0.239654134452343\n",
      "Validation loss decreased (0.240110 --> 0.239654).  Saving model ...\n",
      "epoch 6\n",
      "train loss : 0.23976031757767, validation loss : 0.23919798113405702\n",
      "Validation loss decreased (0.239654 --> 0.239198).  Saving model ...\n",
      "epoch 7\n",
      "train loss : 0.2393075809116874, validation loss : 0.23874077544254915\n",
      "Validation loss decreased (0.239198 --> 0.238741).  Saving model ...\n",
      "epoch 8\n",
      "train loss : 0.23885303469281643, validation loss : 0.2382811172362417\n",
      "Validation loss decreased (0.238741 --> 0.238281).  Saving model ...\n",
      "epoch 9\n",
      "train loss : 0.23839634203414123, validation loss : 0.23781878127985528\n",
      "Validation loss decreased (0.238281 --> 0.237819).  Saving model ...\n",
      "epoch 10\n",
      "train loss : 0.237936343857646, validation loss : 0.23735241110920904\n",
      "Validation loss decreased (0.237819 --> 0.237352).  Saving model ...\n",
      "epoch 11\n",
      "train loss : 0.23747238307581708, validation loss : 0.23688173461637713\n",
      "Validation loss decreased (0.237352 --> 0.236882).  Saving model ...\n",
      "epoch 12\n",
      "train loss : 0.23700359930656853, validation loss : 0.23640556807940205\n",
      "Validation loss decreased (0.236882 --> 0.236406).  Saving model ...\n",
      "epoch 13\n",
      "train loss : 0.23652931841290917, validation loss : 0.23592337772708674\n",
      "Validation loss decreased (0.236406 --> 0.235923).  Saving model ...\n",
      "epoch 14\n",
      "train loss : 0.23604891175244536, validation loss : 0.23543479129565617\n",
      "Validation loss decreased (0.235923 --> 0.235435).  Saving model ...\n",
      "epoch 15\n",
      "train loss : 0.235561687079072, validation loss : 0.23493890499671302\n",
      "Validation loss decreased (0.235435 --> 0.234939).  Saving model ...\n",
      "epoch 16\n",
      "train loss : 0.2350670225159265, validation loss : 0.23443509911559524\n",
      "Validation loss decreased (0.234939 --> 0.234435).  Saving model ...\n",
      "epoch 17\n",
      "train loss : 0.234564413967378, validation loss : 0.2339227193278425\n",
      "Validation loss decreased (0.234435 --> 0.233923).  Saving model ...\n",
      "epoch 18\n",
      "train loss : 0.23405344137508008, validation loss : 0.23340175339000094\n",
      "Validation loss decreased (0.233923 --> 0.233402).  Saving model ...\n",
      "epoch 19\n",
      "train loss : 0.23353360182439023, validation loss : 0.23287131833089028\n",
      "Validation loss decreased (0.233402 --> 0.232871).  Saving model ...\n",
      "epoch 20\n",
      "train loss : 0.23300439716428517, validation loss : 0.23233128807544712\n",
      "Validation loss decreased (0.232871 --> 0.232331).  Saving model ...\n",
      "epoch 21\n",
      "train loss : 0.2324655176571437, validation loss : 0.23178126091332668\n",
      "Validation loss decreased (0.232331 --> 0.231781).  Saving model ...\n",
      "epoch 22\n",
      "train loss : 0.2319163201955909, validation loss : 0.23122044752876872\n",
      "Validation loss decreased (0.231781 --> 0.231220).  Saving model ...\n",
      "epoch 23\n",
      "train loss : 0.2313564674199923, validation loss : 0.23064849330420084\n",
      "Validation loss decreased (0.231220 --> 0.230648).  Saving model ...\n",
      "epoch 24\n",
      "train loss : 0.2307856476313124, validation loss : 0.23006533237670856\n",
      "Validation loss decreased (0.230648 --> 0.230065).  Saving model ...\n",
      "epoch 25\n",
      "train loss : 0.2302030942538381, validation loss : 0.22947002623319623\n",
      "Validation loss decreased (0.230065 --> 0.229470).  Saving model ...\n",
      "epoch 26\n",
      "train loss : 0.22960846678941296, validation loss : 0.22886226895222295\n",
      "Validation loss decreased (0.229470 --> 0.228862).  Saving model ...\n",
      "epoch 27\n",
      "train loss : 0.2290011510697228, validation loss : 0.22824139354847095\n",
      "Validation loss decreased (0.228862 --> 0.228241).  Saving model ...\n",
      "epoch 28\n",
      "train loss : 0.22838094238670809, validation loss : 0.2276074081925409\n",
      "Validation loss decreased (0.228241 --> 0.227607).  Saving model ...\n",
      "epoch 29\n",
      "train loss : 0.2277472327287341, validation loss : 0.22695957313734907\n",
      "Validation loss decreased (0.227607 --> 0.226960).  Saving model ...\n",
      "epoch 30\n",
      "train loss : 0.2270995473648111, validation loss : 0.22629750035852192\n",
      "Validation loss decreased (0.226960 --> 0.226298).  Saving model ...\n",
      "epoch 31\n",
      "train loss : 0.22643766965032103, validation loss : 0.22562099137037028\n",
      "Validation loss decreased (0.226298 --> 0.225621).  Saving model ...\n",
      "epoch 32\n",
      "train loss : 0.2257607960165478, validation loss : 0.22492900455626658\n",
      "Validation loss decreased (0.225621 --> 0.224929).  Saving model ...\n",
      "epoch 33\n",
      "train loss : 0.22506832514771005, validation loss : 0.22422129580965544\n",
      "Validation loss decreased (0.224929 --> 0.224221).  Saving model ...\n",
      "epoch 34\n",
      "train loss : 0.22435969083558985, validation loss : 0.22349690080828524\n",
      "Validation loss decreased (0.224221 --> 0.223497).  Saving model ...\n",
      "epoch 35\n",
      "train loss : 0.22363456977116208, validation loss : 0.22275636773577756\n",
      "Validation loss decreased (0.223497 --> 0.222756).  Saving model ...\n",
      "epoch 36\n",
      "train loss : 0.22289300628296202, validation loss : 0.22199931285840768\n",
      "Validation loss decreased (0.222756 --> 0.221999).  Saving model ...\n",
      "epoch 37\n",
      "train loss : 0.22213444586027714, validation loss : 0.22122532747313378\n",
      "Validation loss decreased (0.221999 --> 0.221225).  Saving model ...\n",
      "epoch 38\n",
      "train loss : 0.22135852894569305, validation loss : 0.22043401612508062\n",
      "Validation loss decreased (0.221225 --> 0.220434).  Saving model ...\n",
      "epoch 39\n",
      "train loss : 0.22056516164063644, validation loss : 0.21962566348767049\n",
      "Validation loss decreased (0.220434 --> 0.219626).  Saving model ...\n",
      "epoch 40\n",
      "train loss : 0.21975418079169468, validation loss : 0.21879998284978788\n",
      "Validation loss decreased (0.219626 --> 0.218800).  Saving model ...\n",
      "epoch 41\n",
      "train loss : 0.21892565765336341, validation loss : 0.2179573061451679\n",
      "Validation loss decreased (0.218800 --> 0.217957).  Saving model ...\n",
      "epoch 42\n",
      "train loss : 0.21807977129891518, validation loss : 0.2170978284825881\n",
      "Validation loss decreased (0.217957 --> 0.217098).  Saving model ...\n",
      "epoch 43\n",
      "train loss : 0.21721667859924224, validation loss : 0.2162219111789884\n",
      "Validation loss decreased (0.217098 --> 0.216222).  Saving model ...\n",
      "epoch 44\n",
      "train loss : 0.21633648049446164, validation loss : 0.21532962223853575\n",
      "Validation loss decreased (0.216222 --> 0.215330).  Saving model ...\n",
      "epoch 45\n",
      "train loss : 0.2154396460676359, validation loss : 0.21442154110856354\n",
      "Validation loss decreased (0.215330 --> 0.214422).  Saving model ...\n",
      "epoch 46\n",
      "train loss : 0.21452661220391245, validation loss : 0.21349821180497983\n",
      "Validation loss decreased (0.214422 --> 0.213498).  Saving model ...\n",
      "epoch 47\n",
      "train loss : 0.21359791926314384, validation loss : 0.212560666589106\n",
      "Validation loss decreased (0.213498 --> 0.212561).  Saving model ...\n",
      "epoch 48\n",
      "train loss : 0.2126543501249204, validation loss : 0.21160956066511183\n",
      "Validation loss decreased (0.212561 --> 0.211610).  Saving model ...\n",
      "epoch 49\n",
      "train loss : 0.21169692905724274, validation loss : 0.2106458699707778\n",
      "Validation loss decreased (0.211610 --> 0.210646).  Saving model ...\n",
      "epoch 50\n",
      "train loss : 0.21072648153588172, validation loss : 0.20967061436866408\n",
      "Validation loss decreased (0.210646 --> 0.209671).  Saving model ...\n",
      "epoch 51\n",
      "train loss : 0.20974383405073746, validation loss : 0.20868460764043836\n",
      "Validation loss decreased (0.209671 --> 0.208685).  Saving model ...\n",
      "epoch 52\n",
      "train loss : 0.2087499672813126, validation loss : 0.20768897223843336\n",
      "Validation loss decreased (0.208685 --> 0.207689).  Saving model ...\n",
      "epoch 53\n",
      "train loss : 0.20774629946103107, validation loss : 0.2066852702789562\n",
      "Validation loss decreased (0.207689 --> 0.206685).  Saving model ...\n",
      "epoch 54\n",
      "train loss : 0.20673395626333163, validation loss : 0.2056745651602762\n",
      "Validation loss decreased (0.206685 --> 0.205675).  Saving model ...\n",
      "epoch 55\n",
      "train loss : 0.20571430515859446, validation loss : 0.20465818434524857\n",
      "Validation loss decreased (0.205675 --> 0.204658).  Saving model ...\n",
      "epoch 56\n",
      "train loss : 0.20468844780909215, validation loss : 0.2036372298150215\n",
      "Validation loss decreased (0.204658 --> 0.203637).  Saving model ...\n",
      "epoch 57\n",
      "train loss : 0.20365768584786717, validation loss : 0.20261316586515185\n",
      "Validation loss decreased (0.203637 --> 0.202613).  Saving model ...\n",
      "epoch 58\n",
      "train loss : 0.2026234038496061, validation loss : 0.20158731859046278\n",
      "Validation loss decreased (0.202613 --> 0.201587).  Saving model ...\n",
      "epoch 59\n",
      "train loss : 0.2015870046354258, validation loss : 0.2005609484965078\n",
      "Validation loss decreased (0.201587 --> 0.200561).  Saving model ...\n",
      "epoch 60\n",
      "train loss : 0.2005497672494171, validation loss : 0.19953551538987177\n",
      "Validation loss decreased (0.200561 --> 0.199536).  Saving model ...\n",
      "epoch 61\n",
      "train loss : 0.19951275956836723, validation loss : 0.19851189599252161\n",
      "Validation loss decreased (0.199536 --> 0.198512).  Saving model ...\n",
      "epoch 62\n",
      "train loss : 0.1984773818249767, validation loss : 0.1974914622129468\n",
      "Validation loss decreased (0.198512 --> 0.197491).  Saving model ...\n",
      "epoch 63\n",
      "train loss : 0.19744494690525616, validation loss : 0.19647542509042684\n",
      "Validation loss decreased (0.197491 --> 0.196475).  Saving model ...\n",
      "epoch 64\n",
      "train loss : 0.196416479481476, validation loss : 0.19546468578249937\n",
      "Validation loss decreased (0.196475 --> 0.195465).  Saving model ...\n",
      "epoch 65\n",
      "train loss : 0.19539301688823482, validation loss : 0.19446028116197525\n",
      "Validation loss decreased (0.195465 --> 0.194460).  Saving model ...\n",
      "epoch 66\n",
      "train loss : 0.19437552085549284, validation loss : 0.19346310339953351\n",
      "Validation loss decreased (0.194460 --> 0.193463).  Saving model ...\n",
      "epoch 67\n",
      "train loss : 0.1933647831748739, validation loss : 0.1924736789508174\n",
      "Validation loss decreased (0.193463 --> 0.192474).  Saving model ...\n",
      "epoch 68\n",
      "train loss : 0.19236172596556975, validation loss : 0.19149314357877853\n",
      "Validation loss decreased (0.192474 --> 0.191493).  Saving model ...\n",
      "epoch 69\n",
      "train loss : 0.19136733885715088, validation loss : 0.1905221730392107\n",
      "Validation loss decreased (0.191493 --> 0.190522).  Saving model ...\n",
      "epoch 70\n",
      "train loss : 0.19038211340012057, validation loss : 0.1895612128950106\n",
      "Validation loss decreased (0.190522 --> 0.189561).  Saving model ...\n",
      "epoch 71\n",
      "train loss : 0.18940685313383857, validation loss : 0.18861110663556502\n",
      "Validation loss decreased (0.189561 --> 0.188611).  Saving model ...\n",
      "epoch 72\n",
      "train loss : 0.18844207755537848, validation loss : 0.1876721581955767\n",
      "Validation loss decreased (0.188611 --> 0.187672).  Saving model ...\n",
      "epoch 73\n",
      "train loss : 0.1874882934515219, validation loss : 0.1867448383294825\n",
      "Validation loss decreased (0.187672 --> 0.186745).  Saving model ...\n",
      "epoch 74\n",
      "train loss : 0.18654589959311738, validation loss : 0.1858293950904992\n",
      "Validation loss decreased (0.186745 --> 0.185829).  Saving model ...\n",
      "epoch 75\n",
      "train loss : 0.18561524840577645, validation loss : 0.18492609833549187\n",
      "Validation loss decreased (0.185829 --> 0.184926).  Saving model ...\n",
      "epoch 76\n",
      "train loss : 0.18469666377269656, validation loss : 0.18403528341386932\n",
      "Validation loss decreased (0.184926 --> 0.184035).  Saving model ...\n",
      "epoch 77\n",
      "train loss : 0.18379045110497497, validation loss : 0.18315717584484953\n",
      "Validation loss decreased (0.184035 --> 0.183157).  Saving model ...\n",
      "epoch 78\n",
      "train loss : 0.18289686258095628, validation loss : 0.18229194585724817\n",
      "Validation loss decreased (0.183157 --> 0.182292).  Saving model ...\n",
      "epoch 79\n",
      "train loss : 0.18201595666372072, validation loss : 0.18143962910092593\n",
      "Validation loss decreased (0.182292 --> 0.181440).  Saving model ...\n",
      "epoch 80\n",
      "train loss : 0.18114791234743635, validation loss : 0.18060031611414612\n",
      "Validation loss decreased (0.181440 --> 0.180600).  Saving model ...\n",
      "epoch 81\n",
      "train loss : 0.18029277850434589, validation loss : 0.1797740030921761\n",
      "Validation loss decreased (0.180600 --> 0.179774).  Saving model ...\n",
      "epoch 82\n",
      "train loss : 0.1794505912116331, validation loss : 0.17896069982647247\n",
      "Validation loss decreased (0.179774 --> 0.178961).  Saving model ...\n",
      "epoch 83\n",
      "train loss : 0.178621344770133, validation loss : 0.17816037039946792\n",
      "Validation loss decreased (0.178961 --> 0.178160).  Saving model ...\n",
      "epoch 84\n",
      "train loss : 0.17780505066608918, validation loss : 0.17737294850775315\n",
      "Validation loss decreased (0.178160 --> 0.177373).  Saving model ...\n",
      "epoch 85\n",
      "train loss : 0.17700171361538147, validation loss : 0.17659848395950245\n",
      "Validation loss decreased (0.177373 --> 0.176598).  Saving model ...\n",
      "epoch 86\n",
      "train loss : 0.17621116993832395, validation loss : 0.1758367175772312\n",
      "Validation loss decreased (0.176598 --> 0.175837).  Saving model ...\n",
      "epoch 87\n",
      "train loss : 0.17543336662966105, validation loss : 0.17508758501482913\n",
      "Validation loss decreased (0.175837 --> 0.175088).  Saving model ...\n",
      "epoch 88\n",
      "train loss : 0.17466820218890977, validation loss : 0.17435102165633065\n",
      "Validation loss decreased (0.175088 --> 0.174351).  Saving model ...\n",
      "epoch 89\n",
      "train loss : 0.1739155650444133, validation loss : 0.17362682692658335\n",
      "Validation loss decreased (0.174351 --> 0.173627).  Saving model ...\n",
      "epoch 90\n",
      "train loss : 0.17317528692895337, validation loss : 0.17291480786505375\n",
      "Validation loss decreased (0.173627 --> 0.172915).  Saving model ...\n",
      "epoch 91\n",
      "train loss : 0.17244724049564925, validation loss : 0.17221486902055058\n",
      "Validation loss decreased (0.172915 --> 0.172215).  Saving model ...\n",
      "epoch 92\n",
      "train loss : 0.1717312924850418, validation loss : 0.1715268315526802\n",
      "Validation loss decreased (0.172215 --> 0.171527).  Saving model ...\n",
      "epoch 93\n",
      "train loss : 0.1710272300219097, validation loss : 0.1708504185107373\n",
      "Validation loss decreased (0.171527 --> 0.170850).  Saving model ...\n",
      "epoch 94\n",
      "train loss : 0.17033487516030416, validation loss : 0.17018558420889396\n",
      "Validation loss decreased (0.170850 --> 0.170186).  Saving model ...\n",
      "epoch 95\n",
      "train loss : 0.16965408728726186, validation loss : 0.16953208829436742\n",
      "Validation loss decreased (0.170186 --> 0.169532).  Saving model ...\n",
      "epoch 96\n",
      "train loss : 0.1689846563930791, validation loss : 0.16888968131060986\n",
      "Validation loss decreased (0.169532 --> 0.168890).  Saving model ...\n",
      "epoch 97\n",
      "train loss : 0.1683264089596153, validation loss : 0.1682582152880234\n",
      "Validation loss decreased (0.168890 --> 0.168258).  Saving model ...\n",
      "epoch 98\n",
      "train loss : 0.16767913308122478, validation loss : 0.16763747402565865\n",
      "Validation loss decreased (0.168258 --> 0.167637).  Saving model ...\n",
      "epoch 99\n",
      "train loss : 0.16704264450967027, validation loss : 0.16702732573039467\n",
      "Validation loss decreased (0.167637 --> 0.167027).  Saving model ...\n",
      "epoch 100\n",
      "train loss : 0.16641677281973405, validation loss : 0.1664275233152328\n",
      "Validation loss decreased (0.167027 --> 0.166428).  Saving model ...\n",
      "epoch 101\n",
      "train loss : 0.16580129641652883, validation loss : 0.1658378549692384\n",
      "Validation loss decreased (0.166428 --> 0.165838).  Saving model ...\n",
      "epoch 102\n",
      "train loss : 0.1651960213744423, validation loss : 0.16525815432995583\n",
      "Validation loss decreased (0.165838 --> 0.165258).  Saving model ...\n",
      "epoch 103\n",
      "train loss : 0.1646007575529254, validation loss : 0.1646882197144458\n",
      "Validation loss decreased (0.165258 --> 0.164688).  Saving model ...\n",
      "epoch 104\n",
      "train loss : 0.1640153103156718, validation loss : 0.1641278493070827\n",
      "Validation loss decreased (0.164688 --> 0.164128).  Saving model ...\n",
      "epoch 105\n",
      "train loss : 0.16343949114285342, validation loss : 0.1635768407307263\n",
      "Validation loss decreased (0.164128 --> 0.163577).  Saving model ...\n",
      "epoch 106\n",
      "train loss : 0.16287310054618662, validation loss : 0.1630350032523408\n",
      "Validation loss decreased (0.163577 --> 0.163035).  Saving model ...\n",
      "epoch 107\n",
      "train loss : 0.16231595675056573, validation loss : 0.16250216972068451\n",
      "Validation loss decreased (0.163035 --> 0.162502).  Saving model ...\n",
      "epoch 108\n",
      "train loss : 0.16176786691887854, validation loss : 0.16197812785233284\n",
      "Validation loss decreased (0.162502 --> 0.161978).  Saving model ...\n",
      "epoch 109\n",
      "train loss : 0.16122864299650233, validation loss : 0.16146270449787797\n",
      "Validation loss decreased (0.161978 --> 0.161463).  Saving model ...\n",
      "epoch 110\n",
      "train loss : 0.16069810865201858, validation loss : 0.16095571598504793\n",
      "Validation loss decreased (0.161463 --> 0.160956).  Saving model ...\n",
      "epoch 111\n",
      "train loss : 0.16017609052391238, validation loss : 0.16045700640693458\n",
      "Validation loss decreased (0.160956 --> 0.160457).  Saving model ...\n",
      "epoch 112\n",
      "train loss : 0.1596624108498609, validation loss : 0.1599663716831207\n",
      "Validation loss decreased (0.160457 --> 0.159966).  Saving model ...\n",
      "epoch 113\n",
      "train loss : 0.1591568983719206, validation loss : 0.15948366397122257\n",
      "Validation loss decreased (0.159966 --> 0.159484).  Saving model ...\n",
      "epoch 114\n",
      "train loss : 0.1586593748721438, validation loss : 0.15900870091126548\n",
      "Validation loss decreased (0.159484 --> 0.159009).  Saving model ...\n",
      "epoch 115\n",
      "train loss : 0.15816967263378445, validation loss : 0.15854133172539991\n",
      "Validation loss decreased (0.159009 --> 0.158541).  Saving model ...\n",
      "epoch 116\n",
      "train loss : 0.15768763385169976, validation loss : 0.15808137770151712\n",
      "Validation loss decreased (0.158541 --> 0.158081).  Saving model ...\n",
      "epoch 117\n",
      "train loss : 0.15721309804937236, validation loss : 0.15762870166288892\n",
      "Validation loss decreased (0.158081 --> 0.157629).  Saving model ...\n",
      "epoch 118\n",
      "train loss : 0.15674590713468242, validation loss : 0.15718313469044562\n",
      "Validation loss decreased (0.157629 --> 0.157183).  Saving model ...\n",
      "epoch 119\n",
      "train loss : 0.15628590967208786, validation loss : 0.15674453611277775\n",
      "Validation loss decreased (0.157183 --> 0.156745).  Saving model ...\n",
      "epoch 120\n",
      "train loss : 0.15583295591824814, validation loss : 0.15631274551706387\n",
      "Validation loss decreased (0.156745 --> 0.156313).  Saving model ...\n",
      "epoch 121\n",
      "train loss : 0.15538689340636866, validation loss : 0.15588763296945712\n",
      "Validation loss decreased (0.156313 --> 0.155888).  Saving model ...\n",
      "epoch 122\n",
      "train loss : 0.15494758206710174, validation loss : 0.1554690644324754\n",
      "Validation loss decreased (0.155888 --> 0.155469).  Saving model ...\n",
      "epoch 123\n",
      "train loss : 0.15451487760832777, validation loss : 0.1550568911562492\n",
      "Validation loss decreased (0.155469 --> 0.155057).  Saving model ...\n",
      "epoch 124\n",
      "train loss : 0.15408864532692243, validation loss : 0.15465096937127057\n",
      "Validation loss decreased (0.155057 --> 0.154651).  Saving model ...\n",
      "epoch 125\n",
      "train loss : 0.15366874965125585, validation loss : 0.15425118591708245\n",
      "Validation loss decreased (0.154651 --> 0.154251).  Saving model ...\n",
      "epoch 126\n",
      "train loss : 0.15325506057007465, validation loss : 0.15385740281933544\n",
      "Validation loss decreased (0.154251 --> 0.153857).  Saving model ...\n",
      "epoch 127\n",
      "train loss : 0.15284744526192465, validation loss : 0.1534694919005624\n",
      "Validation loss decreased (0.153857 --> 0.153469).  Saving model ...\n",
      "epoch 128\n",
      "train loss : 0.15244577916832797, validation loss : 0.1530873334980239\n",
      "Validation loss decreased (0.153469 --> 0.153087).  Saving model ...\n",
      "epoch 129\n",
      "train loss : 0.15204993941561465, validation loss : 0.1527108088453871\n",
      "Validation loss decreased (0.153087 --> 0.152711).  Saving model ...\n",
      "epoch 130\n",
      "train loss : 0.15165980708582308, validation loss : 0.15233980460270125\n",
      "Validation loss decreased (0.152711 --> 0.152340).  Saving model ...\n",
      "epoch 131\n",
      "train loss : 0.15127526486239457, validation loss : 0.1519742040999359\n",
      "Validation loss decreased (0.152340 --> 0.151974).  Saving model ...\n",
      "epoch 132\n",
      "train loss : 0.15089619602798077, validation loss : 0.15161388729881323\n",
      "Validation loss decreased (0.151974 --> 0.151614).  Saving model ...\n",
      "epoch 133\n",
      "train loss : 0.150522491868647, validation loss : 0.15125875365298425\n",
      "Validation loss decreased (0.151614 --> 0.151259).  Saving model ...\n",
      "epoch 134\n",
      "train loss : 0.15015404416220524, validation loss : 0.15090869481718963\n",
      "Validation loss decreased (0.151259 --> 0.150909).  Saving model ...\n",
      "epoch 135\n",
      "train loss : 0.14979074215656513, validation loss : 0.1505636176935511\n",
      "Validation loss decreased (0.150909 --> 0.150564).  Saving model ...\n",
      "epoch 136\n",
      "train loss : 0.14943248795691025, validation loss : 0.15022340556324099\n",
      "Validation loss decreased (0.150564 --> 0.150223).  Saving model ...\n",
      "epoch 137\n",
      "train loss : 0.14907917600481488, validation loss : 0.14988796504844284\n",
      "Validation loss decreased (0.150223 --> 0.149888).  Saving model ...\n",
      "epoch 138\n",
      "train loss : 0.1487307113355901, validation loss : 0.14955721184480952\n",
      "Validation loss decreased (0.149888 --> 0.149557).  Saving model ...\n",
      "epoch 139\n",
      "train loss : 0.14838699428934599, validation loss : 0.14923104213536564\n",
      "Validation loss decreased (0.149557 --> 0.149231).  Saving model ...\n",
      "epoch 140\n",
      "train loss : 0.14804793254761595, validation loss : 0.1489093587284333\n",
      "Validation loss decreased (0.149231 --> 0.148909).  Saving model ...\n",
      "epoch 141\n",
      "train loss : 0.14771343097304515, validation loss : 0.14859208953284314\n",
      "Validation loss decreased (0.148909 --> 0.148592).  Saving model ...\n",
      "epoch 142\n",
      "train loss : 0.14738340348130619, validation loss : 0.14827913302707765\n",
      "Validation loss decreased (0.148592 --> 0.148279).  Saving model ...\n",
      "epoch 143\n",
      "train loss : 0.14705775922520245, validation loss : 0.14797040791222346\n",
      "Validation loss decreased (0.148279 --> 0.147970).  Saving model ...\n",
      "epoch 144\n",
      "train loss : 0.1467364120048963, validation loss : 0.14766583559190974\n",
      "Validation loss decreased (0.147970 --> 0.147666).  Saving model ...\n",
      "epoch 145\n",
      "train loss : 0.14641928300787196, validation loss : 0.14736532696676855\n",
      "Validation loss decreased (0.147666 --> 0.147365).  Saving model ...\n",
      "epoch 146\n",
      "train loss : 0.14610628443222146, validation loss : 0.14706880920997223\n",
      "Validation loss decreased (0.147365 --> 0.147069).  Saving model ...\n",
      "epoch 147\n",
      "train loss : 0.14579734170635833, validation loss : 0.1467762025152978\n",
      "Validation loss decreased (0.147069 --> 0.146776).  Saving model ...\n",
      "epoch 148\n",
      "train loss : 0.145492373075794, validation loss : 0.1464874350343564\n",
      "Validation loss decreased (0.146776 --> 0.146487).  Saving model ...\n",
      "epoch 149\n",
      "train loss : 0.1451913073074851, validation loss : 0.1462024282155838\n",
      "Validation loss decreased (0.146487 --> 0.146202).  Saving model ...\n",
      "epoch 150\n",
      "train loss : 0.14489407238471486, validation loss : 0.14592111868411353\n",
      "Validation loss decreased (0.146202 --> 0.145921).  Saving model ...\n",
      "epoch 151\n",
      "train loss : 0.144600590590166, validation loss : 0.14564343363821083\n",
      "Validation loss decreased (0.145921 --> 0.145643).  Saving model ...\n",
      "epoch 152\n",
      "train loss : 0.14431079586127912, validation loss : 0.14536930062896633\n",
      "Validation loss decreased (0.145643 --> 0.145369).  Saving model ...\n",
      "epoch 153\n",
      "train loss : 0.14402461126043506, validation loss : 0.14509865458688645\n",
      "Validation loss decreased (0.145369 --> 0.145099).  Saving model ...\n",
      "epoch 154\n",
      "train loss : 0.14374197913564396, validation loss : 0.1448314338434815\n",
      "Validation loss decreased (0.145099 --> 0.144831).  Saving model ...\n",
      "epoch 155\n",
      "train loss : 0.14346282372630623, validation loss : 0.1445675724040445\n",
      "Validation loss decreased (0.144831 --> 0.144568).  Saving model ...\n",
      "epoch 156\n",
      "train loss : 0.14318708964237828, validation loss : 0.1443070052583721\n",
      "Validation loss decreased (0.144568 --> 0.144307).  Saving model ...\n",
      "epoch 157\n",
      "train loss : 0.1429147073863328, validation loss : 0.14404967423125173\n",
      "Validation loss decreased (0.144307 --> 0.144050).  Saving model ...\n",
      "epoch 158\n",
      "train loss : 0.14264561873234177, validation loss : 0.14379552235664703\n",
      "Validation loss decreased (0.144050 --> 0.143796).  Saving model ...\n",
      "epoch 159\n",
      "train loss : 0.14237976355337803, validation loss : 0.14354448843430356\n",
      "Validation loss decreased (0.143796 --> 0.143544).  Saving model ...\n",
      "epoch 160\n",
      "train loss : 0.14211708343343513, validation loss : 0.14329651707140953\n",
      "Validation loss decreased (0.143544 --> 0.143297).  Saving model ...\n",
      "epoch 161\n",
      "train loss : 0.1418575209662312, validation loss : 0.1430515556145518\n",
      "Validation loss decreased (0.143297 --> 0.143052).  Saving model ...\n",
      "epoch 162\n",
      "train loss : 0.14160102175883496, validation loss : 0.14280954479457403\n",
      "Validation loss decreased (0.143052 --> 0.142810).  Saving model ...\n",
      "epoch 163\n",
      "train loss : 0.14134752849320045, validation loss : 0.14257043979353104\n",
      "Validation loss decreased (0.142810 --> 0.142570).  Saving model ...\n",
      "epoch 164\n",
      "train loss : 0.14109699055411473, validation loss : 0.14233417898027112\n",
      "Validation loss decreased (0.142570 --> 0.142334).  Saving model ...\n",
      "epoch 165\n",
      "train loss : 0.14084935512749974, validation loss : 0.14210071871598143\n",
      "Validation loss decreased (0.142334 --> 0.142101).  Saving model ...\n",
      "epoch 166\n",
      "train loss : 0.1406045686357976, validation loss : 0.14187000856354226\n",
      "Validation loss decreased (0.142101 --> 0.141870).  Saving model ...\n",
      "epoch 167\n",
      "train loss : 0.14036258353026054, validation loss : 0.14164199972044111\n",
      "Validation loss decreased (0.141870 --> 0.141642).  Saving model ...\n",
      "epoch 168\n",
      "train loss : 0.14012334900666695, validation loss : 0.1414166469286354\n",
      "Validation loss decreased (0.141642 --> 0.141417).  Saving model ...\n",
      "epoch 169\n",
      "train loss : 0.1398868229468372, validation loss : 0.14119390322745973\n",
      "Validation loss decreased (0.141417 --> 0.141194).  Saving model ...\n",
      "epoch 170\n",
      "train loss : 0.13965295310070938, validation loss : 0.14097372518041473\n",
      "Validation loss decreased (0.141194 --> 0.140974).  Saving model ...\n",
      "epoch 171\n",
      "train loss : 0.13942169638629712, validation loss : 0.1407560652681175\n",
      "Validation loss decreased (0.140974 --> 0.140756).  Saving model ...\n",
      "epoch 172\n",
      "train loss : 0.13919300862940998, validation loss : 0.14054088496243416\n",
      "Validation loss decreased (0.140756 --> 0.140541).  Saving model ...\n",
      "epoch 173\n",
      "train loss : 0.13896684413491306, validation loss : 0.14032814005502373\n",
      "Validation loss decreased (0.140541 --> 0.140328).  Saving model ...\n",
      "epoch 174\n",
      "train loss : 0.1387431610722074, validation loss : 0.1401177894118168\n",
      "Validation loss decreased (0.140328 --> 0.140118).  Saving model ...\n",
      "epoch 175\n",
      "train loss : 0.13852191863930843, validation loss : 0.1399097929413136\n",
      "Validation loss decreased (0.140118 --> 0.139910).  Saving model ...\n",
      "epoch 176\n",
      "train loss : 0.13830307784363363, validation loss : 0.13970411268382082\n",
      "Validation loss decreased (0.139910 --> 0.139704).  Saving model ...\n",
      "epoch 177\n",
      "train loss : 0.13808659633617273, validation loss : 0.13950070819114907\n",
      "Validation loss decreased (0.139704 --> 0.139501).  Saving model ...\n",
      "epoch 178\n",
      "train loss : 0.1378724364703743, validation loss : 0.13929954422965937\n",
      "Validation loss decreased (0.139501 --> 0.139300).  Saving model ...\n",
      "epoch 179\n",
      "train loss : 0.1376605596183632, validation loss : 0.13910058139747022\n",
      "Validation loss decreased (0.139300 --> 0.139101).  Saving model ...\n",
      "epoch 180\n",
      "train loss : 0.13745092792406421, validation loss : 0.13890378406333423\n",
      "Validation loss decreased (0.139101 --> 0.138904).  Saving model ...\n",
      "epoch 181\n",
      "train loss : 0.13724350488682993, validation loss : 0.1387091180028935\n",
      "Validation loss decreased (0.138904 --> 0.138709).  Saving model ...\n",
      "epoch 182\n",
      "train loss : 0.13703825424746544, validation loss : 0.13851654861969817\n",
      "Validation loss decreased (0.138709 --> 0.138517).  Saving model ...\n",
      "epoch 183\n",
      "train loss : 0.13683514160489282, validation loss : 0.13832604259708928\n",
      "Validation loss decreased (0.138517 --> 0.138326).  Saving model ...\n",
      "epoch 184\n",
      "train loss : 0.13663413221423787, validation loss : 0.13813756393251816\n",
      "Validation loss decreased (0.138326 --> 0.138138).  Saving model ...\n",
      "epoch 185\n",
      "train loss : 0.13643519369558568, validation loss : 0.13795108266574094\n",
      "Validation loss decreased (0.138138 --> 0.137951).  Saving model ...\n",
      "epoch 186\n",
      "train loss : 0.13623829138945742, validation loss : 0.13776656693974332\n",
      "Validation loss decreased (0.137951 --> 0.137767).  Saving model ...\n",
      "epoch 187\n",
      "train loss : 0.13604339340936944, validation loss : 0.13758398375855097\n",
      "Validation loss decreased (0.137767 --> 0.137584).  Saving model ...\n",
      "epoch 188\n",
      "train loss : 0.13585046904916362, validation loss : 0.13740330250201374\n",
      "Validation loss decreased (0.137584 --> 0.137403).  Saving model ...\n",
      "epoch 189\n",
      "train loss : 0.13565948976933268, validation loss : 0.13722449879408774\n",
      "Validation loss decreased (0.137403 --> 0.137224).  Saving model ...\n",
      "epoch 190\n",
      "train loss : 0.1354704203450981, validation loss : 0.1370475393149414\n",
      "Validation loss decreased (0.137224 --> 0.137048).  Saving model ...\n",
      "epoch 191\n",
      "train loss : 0.13528323408172094, validation loss : 0.13687239655287145\n",
      "Validation loss decreased (0.137048 --> 0.136872).  Saving model ...\n",
      "epoch 192\n",
      "train loss : 0.13509790138072006, validation loss : 0.13669904185933104\n",
      "Validation loss decreased (0.136872 --> 0.136699).  Saving model ...\n",
      "epoch 193\n",
      "train loss : 0.1349143935643726, validation loss : 0.1365274473317795\n",
      "Validation loss decreased (0.136699 --> 0.136527).  Saving model ...\n",
      "epoch 194\n",
      "train loss : 0.13473268190017187, validation loss : 0.13635758778486007\n",
      "Validation loss decreased (0.136527 --> 0.136358).  Saving model ...\n",
      "epoch 195\n",
      "train loss : 0.1345527400802193, validation loss : 0.13618943580338375\n",
      "Validation loss decreased (0.136358 --> 0.136189).  Saving model ...\n",
      "epoch 196\n",
      "train loss : 0.13437454020398112, validation loss : 0.13602296623251725\n",
      "Validation loss decreased (0.136189 --> 0.136023).  Saving model ...\n",
      "epoch 197\n",
      "train loss : 0.13419805751038977, validation loss : 0.13585815077609498\n",
      "Validation loss decreased (0.136023 --> 0.135858).  Saving model ...\n",
      "epoch 198\n",
      "train loss : 0.13402326607772935, validation loss : 0.13569496910846457\n",
      "Validation loss decreased (0.135858 --> 0.135695).  Saving model ...\n",
      "epoch 199\n",
      "train loss : 0.13385013962433004, validation loss : 0.13553339450135377\n",
      "Validation loss decreased (0.135695 --> 0.135533).  Saving model ...\n",
      "epoch 200\n",
      "train loss : 0.13367865551368938, validation loss : 0.13537340471402534\n",
      "Validation loss decreased (0.135533 --> 0.135373).  Saving model ...\n",
      "epoch 201\n",
      "train loss : 0.13350878936105473, validation loss : 0.13521497422677076\n",
      "Validation loss decreased (0.135373 --> 0.135215).  Saving model ...\n",
      "epoch 202\n",
      "train loss : 0.1333405171671335, validation loss : 0.13505808245847925\n",
      "Validation loss decreased (0.135215 --> 0.135058).  Saving model ...\n",
      "epoch 203\n",
      "train loss : 0.13317381406624168, validation loss : 0.13490270487991882\n",
      "Validation loss decreased (0.135058 --> 0.134903).  Saving model ...\n",
      "epoch 204\n",
      "train loss : 0.13300865764087147, validation loss : 0.13474882096961166\n",
      "Validation loss decreased (0.134903 --> 0.134749).  Saving model ...\n",
      "epoch 205\n",
      "train loss : 0.13284502532320444, validation loss : 0.13459640776398002\n",
      "Validation loss decreased (0.134749 --> 0.134596).  Saving model ...\n",
      "epoch 206\n",
      "train loss : 0.13268289890670326, validation loss : 0.13444544532739675\n",
      "Validation loss decreased (0.134596 --> 0.134445).  Saving model ...\n",
      "epoch 207\n",
      "train loss : 0.1325222502891893, validation loss : 0.13429591137916963\n",
      "Validation loss decreased (0.134445 --> 0.134296).  Saving model ...\n",
      "epoch 208\n",
      "train loss : 0.13236306285629573, validation loss : 0.13414778637693184\n",
      "Validation loss decreased (0.134296 --> 0.134148).  Saving model ...\n",
      "epoch 209\n",
      "train loss : 0.13220531508190786, validation loss : 0.1340010510013647\n",
      "Validation loss decreased (0.134148 --> 0.134001).  Saving model ...\n",
      "epoch 210\n",
      "train loss : 0.13204898674094012, validation loss : 0.1338556835846525\n",
      "Validation loss decreased (0.134001 --> 0.133856).  Saving model ...\n",
      "epoch 211\n",
      "train loss : 0.13189405632928522, validation loss : 0.1337116657976721\n",
      "Validation loss decreased (0.133856 --> 0.133712).  Saving model ...\n",
      "epoch 212\n",
      "train loss : 0.13174050748354038, validation loss : 0.13356897896701192\n",
      "Validation loss decreased (0.133712 --> 0.133569).  Saving model ...\n",
      "epoch 213\n",
      "train loss : 0.13158831939401003, validation loss : 0.13342760369164958\n",
      "Validation loss decreased (0.133569 --> 0.133428).  Saving model ...\n",
      "epoch 214\n",
      "train loss : 0.131437469840488, validation loss : 0.1332875223307152\n",
      "Validation loss decreased (0.133428 --> 0.133288).  Saving model ...\n",
      "epoch 215\n",
      "train loss : 0.13128794471976432, validation loss : 0.13314871760967026\n",
      "Validation loss decreased (0.133288 --> 0.133149).  Saving model ...\n",
      "epoch 216\n",
      "train loss : 0.131139723964482, validation loss : 0.1330111715815225\n",
      "Validation loss decreased (0.133149 --> 0.133011).  Saving model ...\n",
      "epoch 217\n",
      "train loss : 0.13099279068946423, validation loss : 0.13287486575227433\n",
      "Validation loss decreased (0.133011 --> 0.132875).  Saving model ...\n",
      "epoch 218\n",
      "train loss : 0.1308471246528947, validation loss : 0.13273978455596794\n",
      "Validation loss decreased (0.132875 --> 0.132740).  Saving model ...\n",
      "epoch 219\n",
      "train loss : 0.1307027118523034, validation loss : 0.13260591147584033\n",
      "Validation loss decreased (0.132740 --> 0.132606).  Saving model ...\n",
      "epoch 220\n",
      "train loss : 0.1305595325856184, validation loss : 0.13247322918759383\n",
      "Validation loss decreased (0.132606 --> 0.132473).  Saving model ...\n",
      "epoch 221\n",
      "train loss : 0.13041757441721075, validation loss : 0.13234172198259714\n",
      "Validation loss decreased (0.132473 --> 0.132342).  Saving model ...\n",
      "epoch 222\n",
      "train loss : 0.13027681558898965, validation loss : 0.13221137377978415\n",
      "Validation loss decreased (0.132342 --> 0.132211).  Saving model ...\n",
      "epoch 223\n",
      "train loss : 0.13013724471601373, validation loss : 0.13208216957741778\n",
      "Validation loss decreased (0.132211 --> 0.132082).  Saving model ...\n",
      "epoch 224\n",
      "train loss : 0.12999884416988874, validation loss : 0.13195409435594513\n",
      "Validation loss decreased (0.132082 --> 0.131954).  Saving model ...\n",
      "epoch 225\n",
      "train loss : 0.12986159944059011, validation loss : 0.13182713329790635\n",
      "Validation loss decreased (0.131954 --> 0.131827).  Saving model ...\n",
      "epoch 226\n",
      "train loss : 0.12972549289666108, validation loss : 0.13170127178305338\n",
      "Validation loss decreased (0.131827 --> 0.131701).  Saving model ...\n",
      "epoch 227\n",
      "train loss : 0.1295905103617007, validation loss : 0.13157649516247946\n",
      "Validation loss decreased (0.131701 --> 0.131576).  Saving model ...\n",
      "epoch 228\n",
      "train loss : 0.12945663863877777, validation loss : 0.13145278912130393\n",
      "Validation loss decreased (0.131576 --> 0.131453).  Saving model ...\n",
      "epoch 229\n",
      "train loss : 0.12932386179055674, validation loss : 0.13133014037445911\n",
      "Validation loss decreased (0.131453 --> 0.131330).  Saving model ...\n",
      "epoch 230\n",
      "train loss : 0.12919216650781248, validation loss : 0.13120853477778577\n",
      "Validation loss decreased (0.131330 --> 0.131209).  Saving model ...\n",
      "epoch 231\n",
      "train loss : 0.12906153923800756, validation loss : 0.13108795893313457\n",
      "Validation loss decreased (0.131209 --> 0.131088).  Saving model ...\n",
      "epoch 232\n",
      "train loss : 0.12893196582054947, validation loss : 0.13096839911101119\n",
      "Validation loss decreased (0.131088 --> 0.130968).  Saving model ...\n",
      "epoch 233\n",
      "train loss : 0.12880343334361813, validation loss : 0.13084984184070994\n",
      "Validation loss decreased (0.130968 --> 0.130850).  Saving model ...\n",
      "epoch 234\n",
      "train loss : 0.12867592671907827, validation loss : 0.13073227598079418\n",
      "Validation loss decreased (0.130850 --> 0.130732).  Saving model ...\n",
      "epoch 235\n",
      "train loss : 0.12854943482067346, validation loss : 0.13061568822620628\n",
      "Validation loss decreased (0.130732 --> 0.130616).  Saving model ...\n",
      "epoch 236\n",
      "train loss : 0.12842394326121614, validation loss : 0.1305000664867517\n",
      "Validation loss decreased (0.130616 --> 0.130500).  Saving model ...\n",
      "epoch 237\n",
      "train loss : 0.12829944194960388, validation loss : 0.13038539836924673\n",
      "Validation loss decreased (0.130500 --> 0.130385).  Saving model ...\n",
      "epoch 238\n",
      "train loss : 0.1281759160963663, validation loss : 0.13027167250466734\n",
      "Validation loss decreased (0.130385 --> 0.130272).  Saving model ...\n",
      "epoch 239\n",
      "train loss : 0.1280533553469612, validation loss : 0.13015887702095894\n",
      "Validation loss decreased (0.130272 --> 0.130159).  Saving model ...\n",
      "epoch 240\n",
      "train loss : 0.12793174665333756, validation loss : 0.13004700041709624\n",
      "Validation loss decreased (0.130159 --> 0.130047).  Saving model ...\n",
      "epoch 241\n",
      "train loss : 0.12781107961276225, validation loss : 0.12993603108887333\n",
      "Validation loss decreased (0.130047 --> 0.129936).  Saving model ...\n",
      "epoch 242\n",
      "train loss : 0.12769134273468896, validation loss : 0.12982595787286125\n",
      "Validation loss decreased (0.129936 --> 0.129826).  Saving model ...\n",
      "epoch 243\n",
      "train loss : 0.1275725243565078, validation loss : 0.12971676965929754\n",
      "Validation loss decreased (0.129826 --> 0.129717).  Saving model ...\n",
      "epoch 244\n",
      "train loss : 0.12745461109573125, validation loss : 0.12960845584721872\n",
      "Validation loss decreased (0.129717 --> 0.129608).  Saving model ...\n",
      "epoch 245\n",
      "train loss : 0.12733759398854066, validation loss : 0.12950100509560758\n",
      "Validation loss decreased (0.129608 --> 0.129501).  Saving model ...\n",
      "epoch 246\n",
      "train loss : 0.12722146406114238, validation loss : 0.12939440732106205\n",
      "Validation loss decreased (0.129501 --> 0.129394).  Saving model ...\n",
      "epoch 247\n",
      "train loss : 0.12710620710876472, validation loss : 0.1292886524736392\n",
      "Validation loss decreased (0.129394 --> 0.129289).  Saving model ...\n",
      "epoch 248\n",
      "train loss : 0.126991813970591, validation loss : 0.12918373055348054\n",
      "Validation loss decreased (0.129289 --> 0.129184).  Saving model ...\n",
      "epoch 249\n",
      "train loss : 0.1268782748107015, validation loss : 0.12907963040871934\n",
      "Validation loss decreased (0.129184 --> 0.129080).  Saving model ...\n",
      "epoch 250\n",
      "train loss : 0.12676557776734332, validation loss : 0.12897634387479892\n",
      "Validation loss decreased (0.129080 --> 0.128976).  Saving model ...\n",
      "epoch 251\n",
      "train loss : 0.12665371399570483, validation loss : 0.12887385982806\n",
      "Validation loss decreased (0.128976 --> 0.128874).  Saving model ...\n",
      "epoch 252\n",
      "train loss : 0.12654267495877639, validation loss : 0.12877217013938178\n",
      "Validation loss decreased (0.128874 --> 0.128772).  Saving model ...\n",
      "epoch 253\n",
      "train loss : 0.12643244934807565, validation loss : 0.12867126415449917\n",
      "Validation loss decreased (0.128772 --> 0.128671).  Saving model ...\n",
      "epoch 254\n",
      "train loss : 0.12632302756193187, validation loss : 0.12857113203936119\n",
      "Validation loss decreased (0.128671 --> 0.128571).  Saving model ...\n",
      "epoch 255\n",
      "train loss : 0.1262144034229657, validation loss : 0.1284717661644642\n",
      "Validation loss decreased (0.128571 --> 0.128472).  Saving model ...\n",
      "epoch 256\n",
      "train loss : 0.12610656316543434, validation loss : 0.12837315733403976\n",
      "Validation loss decreased (0.128472 --> 0.128373).  Saving model ...\n",
      "epoch 257\n",
      "train loss : 0.12599950004853724, validation loss : 0.12827529755103564\n",
      "Validation loss decreased (0.128373 --> 0.128275).  Saving model ...\n",
      "epoch 258\n",
      "train loss : 0.1258932042695369, validation loss : 0.12817817732696543\n",
      "Validation loss decreased (0.128275 --> 0.128178).  Saving model ...\n",
      "epoch 259\n",
      "train loss : 0.125787667526129, validation loss : 0.1280817889752508\n",
      "Validation loss decreased (0.128178 --> 0.128082).  Saving model ...\n",
      "epoch 260\n",
      "train loss : 0.12568288146491718, validation loss : 0.12798612392915384\n",
      "Validation loss decreased (0.128082 --> 0.127986).  Saving model ...\n",
      "epoch 261\n",
      "train loss : 0.12557883832418157, validation loss : 0.1278911728167875\n",
      "Validation loss decreased (0.127986 --> 0.127891).  Saving model ...\n",
      "epoch 262\n",
      "train loss : 0.1254755290604171, validation loss : 0.12779692863063322\n",
      "Validation loss decreased (0.127891 --> 0.127797).  Saving model ...\n",
      "epoch 263\n",
      "train loss : 0.12537294568884882, validation loss : 0.12770338302124418\n",
      "Validation loss decreased (0.127797 --> 0.127703).  Saving model ...\n",
      "epoch 264\n",
      "train loss : 0.1252710786821889, validation loss : 0.12761052872889075\n",
      "Validation loss decreased (0.127703 --> 0.127611).  Saving model ...\n",
      "epoch 265\n",
      "train loss : 0.1251699216243333, validation loss : 0.1275183559506787\n",
      "Validation loss decreased (0.127611 --> 0.127518).  Saving model ...\n",
      "epoch 266\n",
      "train loss : 0.12506946472837402, validation loss : 0.12742685818054736\n",
      "Validation loss decreased (0.127518 --> 0.127427).  Saving model ...\n",
      "epoch 267\n",
      "train loss : 0.12496970204908506, validation loss : 0.1273360277668764\n",
      "Validation loss decreased (0.127427 --> 0.127336).  Saving model ...\n",
      "epoch 268\n",
      "train loss : 0.12487062536586524, validation loss : 0.12724585676760236\n",
      "Validation loss decreased (0.127336 --> 0.127246).  Saving model ...\n",
      "epoch 269\n",
      "train loss : 0.12477222698922315, validation loss : 0.12715633928843353\n",
      "Validation loss decreased (0.127246 --> 0.127156).  Saving model ...\n",
      "epoch 270\n",
      "train loss : 0.12467449870141578, validation loss : 0.12706746673412317\n",
      "Validation loss decreased (0.127156 --> 0.127067).  Saving model ...\n",
      "epoch 271\n",
      "train loss : 0.12457743526066185, validation loss : 0.12697923242234538\n",
      "Validation loss decreased (0.127067 --> 0.126979).  Saving model ...\n",
      "epoch 272\n",
      "train loss : 0.12448102775571566, validation loss : 0.1268916293544933\n",
      "Validation loss decreased (0.126979 --> 0.126892).  Saving model ...\n",
      "epoch 273\n",
      "train loss : 0.12438527023132573, validation loss : 0.1268046500560643\n",
      "Validation loss decreased (0.126892 --> 0.126805).  Saving model ...\n",
      "epoch 274\n",
      "train loss : 0.12429015670029873, validation loss : 0.1267182889297979\n",
      "Validation loss decreased (0.126805 --> 0.126718).  Saving model ...\n",
      "epoch 275\n",
      "train loss : 0.12419567677420598, validation loss : 0.1266325385742098\n",
      "Validation loss decreased (0.126718 --> 0.126633).  Saving model ...\n",
      "epoch 276\n",
      "train loss : 0.1241018263990992, validation loss : 0.12654739261512604\n",
      "Validation loss decreased (0.126633 --> 0.126547).  Saving model ...\n",
      "epoch 277\n",
      "train loss : 0.12400859776496868, validation loss : 0.1264628441359647\n",
      "Validation loss decreased (0.126547 --> 0.126463).  Saving model ...\n",
      "epoch 278\n",
      "train loss : 0.12391598345479077, validation loss : 0.12637888636323125\n",
      "Validation loss decreased (0.126463 --> 0.126379).  Saving model ...\n",
      "epoch 279\n",
      "train loss : 0.12382397949563696, validation loss : 0.12629551358054847\n",
      "Validation loss decreased (0.126379 --> 0.126296).  Saving model ...\n",
      "epoch 280\n",
      "train loss : 0.1237325770621211, validation loss : 0.1262127195769406\n",
      "Validation loss decreased (0.126296 --> 0.126213).  Saving model ...\n",
      "epoch 281\n",
      "train loss : 0.12364177192110218, validation loss : 0.1261304987809811\n",
      "Validation loss decreased (0.126213 --> 0.126130).  Saving model ...\n",
      "epoch 282\n",
      "train loss : 0.12355155514910918, validation loss : 0.12604884461380697\n",
      "Validation loss decreased (0.126130 --> 0.126049).  Saving model ...\n",
      "epoch 283\n",
      "train loss : 0.12346192400461228, validation loss : 0.12596775169432806\n",
      "Validation loss decreased (0.126049 --> 0.125968).  Saving model ...\n",
      "epoch 284\n",
      "train loss : 0.12337286887428783, validation loss : 0.12588721230066502\n",
      "Validation loss decreased (0.125968 --> 0.125887).  Saving model ...\n",
      "epoch 285\n",
      "train loss : 0.12328438385387547, validation loss : 0.1258072226382267\n",
      "Validation loss decreased (0.125887 --> 0.125807).  Saving model ...\n",
      "epoch 286\n",
      "train loss : 0.12319646651507504, validation loss : 0.12572777516788416\n",
      "Validation loss decreased (0.125807 --> 0.125728).  Saving model ...\n",
      "epoch 287\n",
      "train loss : 0.12310910700023442, validation loss : 0.12564886535307404\n",
      "Validation loss decreased (0.125728 --> 0.125649).  Saving model ...\n",
      "epoch 288\n",
      "train loss : 0.1230223041703207, validation loss : 0.12557048663735854\n",
      "Validation loss decreased (0.125649 --> 0.125570).  Saving model ...\n",
      "epoch 289\n",
      "train loss : 0.12293604604966471, validation loss : 0.12549263443358025\n",
      "Validation loss decreased (0.125570 --> 0.125493).  Saving model ...\n",
      "epoch 290\n",
      "train loss : 0.12285033193740658, validation loss : 0.12541530191762063\n",
      "Validation loss decreased (0.125493 --> 0.125415).  Saving model ...\n",
      "epoch 291\n",
      "train loss : 0.12276515468186042, validation loss : 0.12533848654544136\n",
      "Validation loss decreased (0.125415 --> 0.125338).  Saving model ...\n",
      "epoch 292\n",
      "train loss : 0.12268050946744938, validation loss : 0.12526218173188708\n",
      "Validation loss decreased (0.125338 --> 0.125262).  Saving model ...\n",
      "epoch 293\n",
      "train loss : 0.12259639229230804, validation loss : 0.12518638192019085\n",
      "Validation loss decreased (0.125262 --> 0.125186).  Saving model ...\n",
      "epoch 294\n",
      "train loss : 0.12251279458756037, validation loss : 0.12511108188169853\n",
      "Validation loss decreased (0.125186 --> 0.125111).  Saving model ...\n",
      "epoch 295\n",
      "train loss : 0.12242971131966253, validation loss : 0.1250362765243192\n",
      "Validation loss decreased (0.125111 --> 0.125036).  Saving model ...\n",
      "epoch 296\n",
      "train loss : 0.12234714131777948, validation loss : 0.12496196174026397\n",
      "Validation loss decreased (0.125036 --> 0.124962).  Saving model ...\n",
      "epoch 297\n",
      "train loss : 0.12226507553576142, validation loss : 0.12488813214547322\n",
      "Validation loss decreased (0.124962 --> 0.124888).  Saving model ...\n",
      "epoch 298\n",
      "train loss : 0.1221835111150125, validation loss : 0.12481478255751319\n",
      "Validation loss decreased (0.124888 --> 0.124815).  Saving model ...\n",
      "epoch 299\n",
      "train loss : 0.12210244172478595, validation loss : 0.12474190756751366\n",
      "Validation loss decreased (0.124815 --> 0.124742).  Saving model ...\n",
      "epoch 300\n",
      "train loss : 0.12202186282451156, validation loss : 0.12466950393541372\n",
      "Validation loss decreased (0.124742 --> 0.124670).  Saving model ...\n",
      "epoch 301\n",
      "train loss : 0.12194177122077052, validation loss : 0.12459756641376998\n",
      "Validation loss decreased (0.124670 --> 0.124598).  Saving model ...\n",
      "epoch 302\n",
      "train loss : 0.1218621580963966, validation loss : 0.12452609066399455\n",
      "Validation loss decreased (0.124598 --> 0.124526).  Saving model ...\n",
      "epoch 303\n",
      "train loss : 0.12178302249990614, validation loss : 0.12445507201864446\n",
      "Validation loss decreased (0.124526 --> 0.124455).  Saving model ...\n",
      "epoch 304\n",
      "train loss : 0.12170435982736727, validation loss : 0.12438450610470024\n",
      "Validation loss decreased (0.124455 --> 0.124385).  Saving model ...\n",
      "epoch 305\n",
      "train loss : 0.12162616292390008, validation loss : 0.12431438896307422\n",
      "Validation loss decreased (0.124385 --> 0.124314).  Saving model ...\n",
      "epoch 306\n",
      "train loss : 0.12154843020677723, validation loss : 0.12424471579606672\n",
      "Validation loss decreased (0.124314 --> 0.124245).  Saving model ...\n",
      "epoch 307\n",
      "train loss : 0.12147115422652831, validation loss : 0.1241754823520377\n",
      "Validation loss decreased (0.124245 --> 0.124175).  Saving model ...\n",
      "epoch 308\n",
      "train loss : 0.12139433194892531, validation loss : 0.12410668473754907\n",
      "Validation loss decreased (0.124175 --> 0.124107).  Saving model ...\n",
      "epoch 309\n",
      "train loss : 0.12131795930313741, validation loss : 0.12403831838911397\n",
      "Validation loss decreased (0.124107 --> 0.124038).  Saving model ...\n",
      "epoch 310\n",
      "train loss : 0.1212420320574774, validation loss : 0.12397037905185422\n",
      "Validation loss decreased (0.124038 --> 0.123970).  Saving model ...\n",
      "epoch 311\n",
      "train loss : 0.1211665452921401, validation loss : 0.1239028627743366\n",
      "Validation loss decreased (0.123970 --> 0.123903).  Saving model ...\n",
      "epoch 312\n",
      "train loss : 0.12109149531394141, validation loss : 0.12383576527910382\n",
      "Validation loss decreased (0.123903 --> 0.123836).  Saving model ...\n",
      "epoch 313\n",
      "train loss : 0.12101687610728115, validation loss : 0.12376908301486221\n",
      "Validation loss decreased (0.123836 --> 0.123769).  Saving model ...\n",
      "epoch 314\n",
      "train loss : 0.12094268563890549, validation loss : 0.12370281222067228\n",
      "Validation loss decreased (0.123769 --> 0.123703).  Saving model ...\n",
      "epoch 315\n",
      "train loss : 0.12086891971192365, validation loss : 0.12363694827480923\n",
      "Validation loss decreased (0.123703 --> 0.123637).  Saving model ...\n",
      "epoch 316\n",
      "train loss : 0.1207955742803966, validation loss : 0.12357148798097327\n",
      "Validation loss decreased (0.123637 --> 0.123571).  Saving model ...\n",
      "epoch 317\n",
      "train loss : 0.12072264520195615, validation loss : 0.12350642688329218\n",
      "Validation loss decreased (0.123571 --> 0.123506).  Saving model ...\n",
      "epoch 318\n",
      "train loss : 0.12065012836049022, validation loss : 0.12344176135229265\n",
      "Validation loss decreased (0.123506 --> 0.123442).  Saving model ...\n",
      "epoch 319\n",
      "train loss : 0.12057802103410377, validation loss : 0.12337748797011606\n",
      "Validation loss decreased (0.123442 --> 0.123377).  Saving model ...\n",
      "epoch 320\n",
      "train loss : 0.12050631740177473, validation loss : 0.12331360225643428\n",
      "Validation loss decreased (0.123377 --> 0.123314).  Saving model ...\n",
      "epoch 321\n",
      "train loss : 0.12043501481379315, validation loss : 0.12325010174294954\n",
      "Validation loss decreased (0.123314 --> 0.123250).  Saving model ...\n",
      "epoch 322\n",
      "train loss : 0.12036410838315442, validation loss : 0.12318698233421564\n",
      "Validation loss decreased (0.123250 --> 0.123187).  Saving model ...\n",
      "epoch 323\n",
      "train loss : 0.1202935970225616, validation loss : 0.1231242404540979\n",
      "Validation loss decreased (0.123187 --> 0.123124).  Saving model ...\n",
      "epoch 324\n",
      "train loss : 0.12022347565929946, validation loss : 0.12306187290689784\n",
      "Validation loss decreased (0.123124 --> 0.123062).  Saving model ...\n",
      "epoch 325\n",
      "train loss : 0.12015374043618744, validation loss : 0.12299987525696036\n",
      "Validation loss decreased (0.123062 --> 0.123000).  Saving model ...\n",
      "epoch 326\n",
      "train loss : 0.12008438830847727, validation loss : 0.12293824392894127\n",
      "Validation loss decreased (0.123000 --> 0.122938).  Saving model ...\n",
      "epoch 327\n",
      "train loss : 0.12001541608393636, validation loss : 0.12287697700758417\n",
      "Validation loss decreased (0.122938 --> 0.122877).  Saving model ...\n",
      "epoch 328\n",
      "train loss : 0.11994682055618719, validation loss : 0.12281607050182153\n",
      "Validation loss decreased (0.122877 --> 0.122816).  Saving model ...\n",
      "epoch 329\n",
      "train loss : 0.11987859650338674, validation loss : 0.12275552097760127\n",
      "Validation loss decreased (0.122816 --> 0.122756).  Saving model ...\n",
      "epoch 330\n",
      "train loss : 0.11981074143101929, validation loss : 0.12269532542345463\n",
      "Validation loss decreased (0.122756 --> 0.122695).  Saving model ...\n",
      "epoch 331\n",
      "train loss : 0.11974325255513175, validation loss : 0.12263547994815915\n",
      "Validation loss decreased (0.122695 --> 0.122635).  Saving model ...\n",
      "epoch 332\n",
      "train loss : 0.11967612669249815, validation loss : 0.12257598269166235\n",
      "Validation loss decreased (0.122635 --> 0.122576).  Saving model ...\n",
      "epoch 333\n",
      "train loss : 0.1196093623231502, validation loss : 0.12251682984728665\n",
      "Validation loss decreased (0.122576 --> 0.122517).  Saving model ...\n",
      "epoch 334\n",
      "train loss : 0.11954295245999906, validation loss : 0.12245801769184973\n",
      "Validation loss decreased (0.122517 --> 0.122458).  Saving model ...\n",
      "epoch 335\n",
      "train loss : 0.11947689625513032, validation loss : 0.12239954429890136\n",
      "Validation loss decreased (0.122458 --> 0.122400).  Saving model ...\n",
      "epoch 336\n",
      "train loss : 0.11941118995020451, validation loss : 0.12234140601708454\n",
      "Validation loss decreased (0.122400 --> 0.122341).  Saving model ...\n",
      "epoch 337\n",
      "train loss : 0.11934583103462147, validation loss : 0.12228360074179458\n",
      "Validation loss decreased (0.122341 --> 0.122284).  Saving model ...\n",
      "epoch 338\n",
      "train loss : 0.11928081679300608, validation loss : 0.12222612453854277\n",
      "Validation loss decreased (0.122284 --> 0.122226).  Saving model ...\n",
      "epoch 339\n",
      "train loss : 0.11921614286023548, validation loss : 0.12216897497180546\n",
      "Validation loss decreased (0.122226 --> 0.122169).  Saving model ...\n",
      "epoch 340\n",
      "train loss : 0.11915180844411416, validation loss : 0.12211214908950982\n",
      "Validation loss decreased (0.122169 --> 0.122112).  Saving model ...\n",
      "epoch 341\n",
      "train loss : 0.11908780735052829, validation loss : 0.12205564378567943\n",
      "Validation loss decreased (0.122112 --> 0.122056).  Saving model ...\n",
      "epoch 342\n",
      "train loss : 0.1190241410263873, validation loss : 0.12199945648085764\n",
      "Validation loss decreased (0.122056 --> 0.121999).  Saving model ...\n",
      "epoch 343\n",
      "train loss : 0.11896080287598068, validation loss : 0.12194358372467576\n",
      "Validation loss decreased (0.121999 --> 0.121944).  Saving model ...\n",
      "epoch 344\n",
      "train loss : 0.11889779083235048, validation loss : 0.12188802378111675\n",
      "Validation loss decreased (0.121944 --> 0.121888).  Saving model ...\n",
      "epoch 345\n",
      "train loss : 0.11883510233828741, validation loss : 0.12183277369698813\n",
      "Validation loss decreased (0.121888 --> 0.121833).  Saving model ...\n",
      "epoch 346\n",
      "train loss : 0.11877273440856109, validation loss : 0.12177783088476543\n",
      "Validation loss decreased (0.121833 --> 0.121778).  Saving model ...\n",
      "epoch 347\n",
      "train loss : 0.11871068492926215, validation loss : 0.12172319267604165\n",
      "Validation loss decreased (0.121778 --> 0.121723).  Saving model ...\n",
      "epoch 348\n",
      "train loss : 0.11864895056226894, validation loss : 0.12166885631590355\n",
      "Validation loss decreased (0.121723 --> 0.121669).  Saving model ...\n",
      "epoch 349\n",
      "train loss : 0.1185875287985242, validation loss : 0.12161481916690929\n",
      "Validation loss decreased (0.121669 --> 0.121615).  Saving model ...\n",
      "epoch 350\n",
      "train loss : 0.11852641721383797, validation loss : 0.12156107796570828\n",
      "Validation loss decreased (0.121615 --> 0.121561).  Saving model ...\n",
      "epoch 351\n",
      "train loss : 0.11846561306201965, validation loss : 0.12150763110569185\n",
      "Validation loss decreased (0.121561 --> 0.121508).  Saving model ...\n",
      "epoch 352\n",
      "train loss : 0.11840511190393134, validation loss : 0.1214544761747352\n",
      "Validation loss decreased (0.121508 --> 0.121454).  Saving model ...\n",
      "epoch 353\n",
      "train loss : 0.11834491299671224, validation loss : 0.1214016107911779\n",
      "Validation loss decreased (0.121454 --> 0.121402).  Saving model ...\n",
      "epoch 354\n",
      "train loss : 0.11828501493014448, validation loss : 0.12134903141678863\n",
      "Validation loss decreased (0.121402 --> 0.121349).  Saving model ...\n",
      "epoch 355\n",
      "train loss : 0.11822541410530905, validation loss : 0.121296737077475\n",
      "Validation loss decreased (0.121349 --> 0.121297).  Saving model ...\n",
      "epoch 356\n",
      "train loss : 0.11816610730158421, validation loss : 0.1212447250475194\n",
      "Validation loss decreased (0.121297 --> 0.121245).  Saving model ...\n",
      "epoch 357\n",
      "train loss : 0.11810709450447528, validation loss : 0.121192992927176\n",
      "Validation loss decreased (0.121245 --> 0.121193).  Saving model ...\n",
      "epoch 358\n",
      "train loss : 0.11804837086020044, validation loss : 0.12114153804007045\n",
      "Validation loss decreased (0.121193 --> 0.121142).  Saving model ...\n",
      "epoch 359\n",
      "train loss : 0.11798993517826564, validation loss : 0.12109035841115999\n",
      "Validation loss decreased (0.121142 --> 0.121090).  Saving model ...\n",
      "epoch 360\n",
      "train loss : 0.11793178447718719, validation loss : 0.12103945163357334\n",
      "Validation loss decreased (0.121090 --> 0.121039).  Saving model ...\n",
      "epoch 361\n",
      "train loss : 0.11787391582727208, validation loss : 0.12098881572817961\n",
      "Validation loss decreased (0.121039 --> 0.120989).  Saving model ...\n",
      "epoch 362\n",
      "train loss : 0.11781632939764834, validation loss : 0.12093844789046956\n",
      "Validation loss decreased (0.120989 --> 0.120938).  Saving model ...\n",
      "epoch 363\n",
      "train loss : 0.11775902096294609, validation loss : 0.12088834632480627\n",
      "Validation loss decreased (0.120938 --> 0.120888).  Saving model ...\n",
      "epoch 364\n",
      "train loss : 0.11770198830889497, validation loss : 0.12083850893119381\n",
      "Validation loss decreased (0.120888 --> 0.120839).  Saving model ...\n",
      "epoch 365\n",
      "train loss : 0.11764522941768493, validation loss : 0.12078893347424169\n",
      "Validation loss decreased (0.120839 --> 0.120789).  Saving model ...\n",
      "epoch 366\n",
      "train loss : 0.11758874354972747, validation loss : 0.12073961753298641\n",
      "Validation loss decreased (0.120789 --> 0.120740).  Saving model ...\n",
      "epoch 367\n",
      "train loss : 0.11753252743845943, validation loss : 0.12069055879318577\n",
      "Validation loss decreased (0.120740 --> 0.120691).  Saving model ...\n",
      "epoch 368\n",
      "train loss : 0.11747657760794299, validation loss : 0.12064175646368244\n",
      "Validation loss decreased (0.120691 --> 0.120642).  Saving model ...\n",
      "epoch 369\n",
      "train loss : 0.11742089343942969, validation loss : 0.12059320703267536\n",
      "Validation loss decreased (0.120642 --> 0.120593).  Saving model ...\n",
      "epoch 370\n",
      "train loss : 0.11736547250433255, validation loss : 0.12054490845533533\n",
      "Validation loss decreased (0.120593 --> 0.120545).  Saving model ...\n",
      "epoch 371\n",
      "train loss : 0.11731031146991752, validation loss : 0.12049685974943891\n",
      "Validation loss decreased (0.120545 --> 0.120497).  Saving model ...\n",
      "epoch 372\n",
      "train loss : 0.11725540947667382, validation loss : 0.12044905840823215\n",
      "Validation loss decreased (0.120497 --> 0.120449).  Saving model ...\n",
      "epoch 373\n",
      "train loss : 0.11720076406125568, validation loss : 0.12040150184894455\n",
      "Validation loss decreased (0.120449 --> 0.120402).  Saving model ...\n",
      "epoch 374\n",
      "train loss : 0.11714637322586, validation loss : 0.12035418906081341\n",
      "Validation loss decreased (0.120402 --> 0.120354).  Saving model ...\n",
      "epoch 375\n",
      "train loss : 0.11709223592462115, validation loss : 0.12030711799286488\n",
      "Validation loss decreased (0.120354 --> 0.120307).  Saving model ...\n",
      "epoch 376\n",
      "train loss : 0.11703834865912494, validation loss : 0.12026028661270455\n",
      "Validation loss decreased (0.120307 --> 0.120260).  Saving model ...\n",
      "epoch 377\n",
      "train loss : 0.11698471001354657, validation loss : 0.12021369317220357\n",
      "Validation loss decreased (0.120260 --> 0.120214).  Saving model ...\n",
      "epoch 378\n",
      "train loss : 0.11693131782430984, validation loss : 0.1201673356197113\n",
      "Validation loss decreased (0.120214 --> 0.120167).  Saving model ...\n",
      "epoch 379\n",
      "train loss : 0.11687817089216333, validation loss : 0.12012121237012605\n",
      "Validation loss decreased (0.120167 --> 0.120121).  Saving model ...\n",
      "epoch 380\n",
      "train loss : 0.11682526630902841, validation loss : 0.12007532158556179\n",
      "Validation loss decreased (0.120121 --> 0.120075).  Saving model ...\n",
      "epoch 381\n",
      "train loss : 0.11677260173937186, validation loss : 0.12002966093430016\n",
      "Validation loss decreased (0.120075 --> 0.120030).  Saving model ...\n",
      "epoch 382\n",
      "train loss : 0.11672017766115277, validation loss : 0.11998422912337064\n",
      "Validation loss decreased (0.120030 --> 0.119984).  Saving model ...\n",
      "epoch 383\n",
      "train loss : 0.11666799024059553, validation loss : 0.11993902424123652\n",
      "Validation loss decreased (0.119984 --> 0.119939).  Saving model ...\n",
      "epoch 384\n",
      "train loss : 0.11661603984067286, validation loss : 0.11989404444577277\n",
      "Validation loss decreased (0.119939 --> 0.119894).  Saving model ...\n",
      "epoch 385\n",
      "train loss : 0.11656432206947431, validation loss : 0.11984928819980843\n",
      "Validation loss decreased (0.119894 --> 0.119849).  Saving model ...\n",
      "epoch 386\n",
      "train loss : 0.11651283527297004, validation loss : 0.11980475317863623\n",
      "Validation loss decreased (0.119849 --> 0.119805).  Saving model ...\n",
      "epoch 387\n",
      "train loss : 0.11646157860248242, validation loss : 0.11976043793036371\n",
      "Validation loss decreased (0.119805 --> 0.119760).  Saving model ...\n",
      "epoch 388\n",
      "train loss : 0.1164105499962718, validation loss : 0.11971634057623197\n",
      "Validation loss decreased (0.119760 --> 0.119716).  Saving model ...\n",
      "epoch 389\n",
      "train loss : 0.11635974806251229, validation loss : 0.11967246007399371\n",
      "Validation loss decreased (0.119716 --> 0.119672).  Saving model ...\n",
      "epoch 390\n",
      "train loss : 0.11630917150142149, validation loss : 0.11962879430627753\n",
      "Validation loss decreased (0.119672 --> 0.119629).  Saving model ...\n",
      "epoch 391\n",
      "train loss : 0.1162588175550131, validation loss : 0.11958534250771986\n",
      "Validation loss decreased (0.119629 --> 0.119585).  Saving model ...\n",
      "epoch 392\n",
      "train loss : 0.11620868522241745, validation loss : 0.11954210139711675\n",
      "Validation loss decreased (0.119585 --> 0.119542).  Saving model ...\n",
      "epoch 393\n",
      "train loss : 0.11615877181488785, validation loss : 0.11949907119712402\n",
      "Validation loss decreased (0.119542 --> 0.119499).  Saving model ...\n",
      "epoch 394\n",
      "train loss : 0.1161090768535079, validation loss : 0.11945624917525245\n",
      "Validation loss decreased (0.119499 --> 0.119456).  Saving model ...\n",
      "epoch 395\n",
      "train loss : 0.11605959845385656, validation loss : 0.11941363437816724\n",
      "Validation loss decreased (0.119456 --> 0.119414).  Saving model ...\n",
      "epoch 396\n",
      "train loss : 0.11601033459866683, validation loss : 0.11937122527519378\n",
      "Validation loss decreased (0.119414 --> 0.119371).  Saving model ...\n",
      "epoch 397\n",
      "train loss : 0.11596128464566034, validation loss : 0.11932901972384972\n",
      "Validation loss decreased (0.119371 --> 0.119329).  Saving model ...\n",
      "epoch 398\n",
      "train loss : 0.11591244707504432, validation loss : 0.11928701666972279\n",
      "Validation loss decreased (0.119329 --> 0.119287).  Saving model ...\n",
      "epoch 399\n",
      "train loss : 0.11586381852678089, validation loss : 0.11924521428203588\n",
      "Validation loss decreased (0.119287 --> 0.119245).  Saving model ...\n",
      "epoch 400\n",
      "train loss : 0.11581539833782567, validation loss : 0.1192036111782304\n",
      "Validation loss decreased (0.119245 --> 0.119204).  Saving model ...\n"
     ]
    },
    {
     "data": {
      "image/png": "[encoded data removed]",
      "text/plain": [
       "<Figure size 640x480 with 1 Axes>"
      ]
     },
     "metadata": {},
     "output_type": "display_data"
    }
   ],
   "source": [
    "def training(epochs) :\n",
    "    # epoch 별 훈련 및 검증 루프 (trainloader를 반복하여 모델 훈련시키고, validloader를 사용해 모델의 성능 검증)\n",
    "    for epoch in range(epochs):\n",
    "        running_train_loss = 0.0\n",
    "        running_vall_loss = 0.0\n",
    "        total = 0\n",
    "\n",
    "        # 훈련 과정\n",
    "        for data in trainloader:\n",
    "            model.train()\n",
    "            inputs, outputs = data\n",
    "            optimizer.zero_grad()                                                     # Optimizer Gradient를 0으로 초기화. 이는 각 미니배치마다 Gradient가 누적되는 것을 방지\n",
    "            predicted_outputs = model(inputs)                                         # 모델을 사용하여 입력 데이터에 대한 예측값을 계산\n",
    "            train_loss = criterion(predicted_outputs, outputs)                        # 계산된 예측값과 실제 레이블 간의 손실을 계산\n",
    "            train_loss.backward()                                                     # 손실에 대한 역전파를 수행하여 Gradient를 계산\n",
    "            optimizer.step()                                                          # 계산된 Gradient를 사용하여 모델 매개변수를 업데이트\n",
    "            running_train_loss += train_loss.item()                                   # track the loss value\n",
    "        loss_.append(running_train_loss / n)\n",
    "        \n",
    "        # 검증 과정\n",
    "        with torch.no_grad():                                                         # Gradient 계산을 비활성화하여 메모리 사용량을 줄이고 계산 속도를 향상 \n",
    "            model.eval()\n",
    "            for data in validloader:\n",
    "                inputs, outputs = data\n",
    "                predicted_outputs = model(inputs)\n",
    "                val_loss = criterion(predicted_outputs, outputs)\n",
    "\n",
    "                # The label with the highest value will be our prediction\n",
    "                _, predicted = torch.max(predicted_outputs,1)\n",
    "                running_vall_loss += val_loss.item()\n",
    "                total += outputs.size(0)\n",
    "                val_loss_value = running_vall_loss/len(validloader)\n",
    "        valoss_.append(val_loss_value)\n",
    "\n",
    "        avgtrainloss = np.mean(loss_)\n",
    "        avgvalidloss = np.mean(valoss_)\n",
    "        print('epoch', epoch + 1)\n",
    "        print(f'train loss : {avgtrainloss}, validation loss : {avgvalidloss}')\n",
    "        \n",
    "        # EarlyStopping\n",
    "        early_stopping(avgvalidloss, model)                                           # 검증 손실을 기준으로 조기 종료 조건 확인\n",
    "        if early_stopping.early_stop:                                                 # 조건 만족 시 조기 종료\n",
    "            break\n",
    "\n",
    "    # 모델 저장    \n",
    "    saveModel()\n",
    "training(epochs = epoch)\n",
    "\n",
    "\n",
    "# 손실 시각화\n",
    "plt.plot(loss_)\n",
    "plt.plot(valoss_)\n",
    "plt.legend(['Train','Valid'])\n",
    "plt.xlabel('Epoch')\n",
    "plt.ylabel('Loss')\n",
    "plt.show()"
   ]
  },
  {
   "cell_type": "markdown",
   "metadata": {},
   "source": [
    "#### 달민이 모델"
   ]
  },
  {
   "cell_type": "code",
   "execution_count": 69,
   "metadata": {},
   "outputs": [
    {
     "data": {
      "text/plain": [
       "<All keys matched successfully>"
      ]
     },
     "execution_count": 69,
     "metadata": {},
     "output_type": "execute_result"
    }
   ],
   "source": [
    "model.load_state_dict(torch.load('model_ar2 (1).pt', map_location=torch.device('cpu')))"
   ]
  },
  {
   "cell_type": "markdown",
   "metadata": {},
   "source": [
    "#### 평가 (Evaluation)"
   ]
  },
  {
   "cell_type": "code",
   "execution_count": 9,
   "metadata": {},
   "outputs": [
    {
     "name": "stderr",
     "output_type": "stream",
     "text": [
      "  0%|          | 0/1000 [00:00<?, ?it/s]"
     ]
    },
    {
     "name": "stderr",
     "output_type": "stream",
     "text": [
      "100%|██████████| 1000/1000 [01:06<00:00, 15.05it/s]\n"
     ]
    }
   ],
   "source": [
    "def evaluation(dataloader):\n",
    "  # 초기화\n",
    "  estimated_outputs = torch.tensor([], dtype=torch.float64,device = device)  # 예측값을 저장하는 텐서.\n",
    "  predictions = torch.tensor([], dtype=torch.float64, device = device) # 실제값을 저장하는 텐서.\n",
    "\n",
    "  # 평가 모드 설정\n",
    "  with torch.no_grad():\n",
    "    model.eval()                                                       # 평가를 할 땐 반드시 eval()을 사용해야 한다.\n",
    "\n",
    "    # 데이터 로더를 통한 반복\n",
    "    for data in dataloader:\n",
    "        inputs, values = data\n",
    "        outputs = model(inputs)\n",
    "\n",
    "        # 예측값 및 실제값 저장\n",
    "        estimated_outputs = torch.cat((estimated_outputs, outputs), 0)             # cat함수를 통해 예측값을 누적.\n",
    "        predictions = torch.cat((predictions, values), 0)                        # cat함수를 통해 실제값을 누적.\n",
    "  \n",
    "  # CPU로 이동 및 NumPy 배열 변환\n",
    "  estimated_outputs =estimated_outputs.to(device= \"cpu\")\n",
    "  estimated_outputs = estimated_outputs.numpy()                                    # 넘파이 배열로 변경.\n",
    "  predictions = predictions.to(device= \"cpu\")\n",
    "  predictions = predictions.numpy()                                              # 넘파이 배열로 변경.\n",
    "  \n",
    "  # RMSE 계산\n",
    "  rmse = np.sqrt(mean_squared_error(estimated_outputs, predictions))              # sklearn을 이용해 RMSE를 계산.\n",
    "\n",
    "  return rmse,predictions,estimated_outputs\n",
    "\n",
    "preds = []\n",
    "for i in tqdm(range(1000)):\n",
    "  test_rmse, predictions, estimated_outputs = evaluation(testloader)\n",
    "  preds.append(estimated_outputs)"
   ]
  },
  {
   "cell_type": "code",
   "execution_count": 10,
   "metadata": {},
   "outputs": [
    {
     "data": {
      "text/plain": [
       "0.3210958122071271"
      ]
     },
     "execution_count": 10,
     "metadata": {},
     "output_type": "execute_result"
    }
   ],
   "source": [
    "test_rmse"
   ]
  },
  {
   "cell_type": "code",
   "execution_count": 11,
   "metadata": {},
   "outputs": [
    {
     "data": {
      "text/plain": [
       "array([[0.],\n",
       "       [0.],\n",
       "       [0.],\n",
       "       [0.],\n",
       "       [0.],\n",
       "       [0.],\n",
       "       [0.],\n",
       "       [0.],\n",
       "       [0.],\n",
       "       [0.],\n",
       "       [0.],\n",
       "       [0.],\n",
       "       [0.],\n",
       "       [0.],\n",
       "       [0.],\n",
       "       [0.],\n",
       "       [0.],\n",
       "       [0.],\n",
       "       [0.],\n",
       "       [0.],\n",
       "       [0.],\n",
       "       [0.],\n",
       "       [0.],\n",
       "       [0.],\n",
       "       [0.],\n",
       "       [1.],\n",
       "       [1.],\n",
       "       [1.],\n",
       "       [1.],\n",
       "       [1.],\n",
       "       [1.],\n",
       "       [1.],\n",
       "       [1.],\n",
       "       [1.],\n",
       "       [1.],\n",
       "       [1.],\n",
       "       [1.],\n",
       "       [1.],\n",
       "       [1.],\n",
       "       [1.],\n",
       "       [1.],\n",
       "       [1.],\n",
       "       [1.],\n",
       "       [1.],\n",
       "       [1.],\n",
       "       [1.],\n",
       "       [1.],\n",
       "       [1.],\n",
       "       [1.],\n",
       "       [1.],\n",
       "       [1.],\n",
       "       [1.],\n",
       "       [1.],\n",
       "       [1.],\n",
       "       [1.],\n",
       "       [1.],\n",
       "       [1.],\n",
       "       [1.],\n",
       "       [1.],\n",
       "       [1.],\n",
       "       [1.],\n",
       "       [1.],\n",
       "       [1.],\n",
       "       [1.],\n",
       "       [1.],\n",
       "       [1.],\n",
       "       [1.],\n",
       "       [1.],\n",
       "       [1.],\n",
       "       [1.],\n",
       "       [1.],\n",
       "       [1.],\n",
       "       [1.],\n",
       "       [1.],\n",
       "       [1.],\n",
       "       [1.],\n",
       "       [1.],\n",
       "       [1.],\n",
       "       [1.],\n",
       "       [1.],\n",
       "       [1.],\n",
       "       [1.],\n",
       "       [1.],\n",
       "       [1.],\n",
       "       [1.],\n",
       "       [1.],\n",
       "       [1.],\n",
       "       [1.],\n",
       "       [1.],\n",
       "       [1.],\n",
       "       [1.],\n",
       "       [1.],\n",
       "       [1.],\n",
       "       [1.],\n",
       "       [1.],\n",
       "       [1.],\n",
       "       [1.],\n",
       "       [1.],\n",
       "       [1.],\n",
       "       [1.],\n",
       "       [1.],\n",
       "       [1.],\n",
       "       [1.],\n",
       "       [1.],\n",
       "       [1.],\n",
       "       [1.],\n",
       "       [1.],\n",
       "       [1.],\n",
       "       [1.],\n",
       "       [1.],\n",
       "       [1.],\n",
       "       [1.],\n",
       "       [1.],\n",
       "       [1.],\n",
       "       [1.],\n",
       "       [1.],\n",
       "       [1.],\n",
       "       [1.],\n",
       "       [1.],\n",
       "       [1.],\n",
       "       [1.],\n",
       "       [1.],\n",
       "       [1.],\n",
       "       [1.],\n",
       "       [1.],\n",
       "       [1.],\n",
       "       [1.],\n",
       "       [1.],\n",
       "       [1.],\n",
       "       [1.],\n",
       "       [1.],\n",
       "       [1.],\n",
       "       [1.],\n",
       "       [1.],\n",
       "       [1.],\n",
       "       [1.],\n",
       "       [1.],\n",
       "       [1.],\n",
       "       [1.],\n",
       "       [1.],\n",
       "       [1.],\n",
       "       [1.],\n",
       "       [1.],\n",
       "       [1.],\n",
       "       [1.],\n",
       "       [1.],\n",
       "       [1.],\n",
       "       [1.],\n",
       "       [1.],\n",
       "       [1.],\n",
       "       [1.],\n",
       "       [1.],\n",
       "       [1.],\n",
       "       [1.],\n",
       "       [1.],\n",
       "       [1.],\n",
       "       [1.],\n",
       "       [1.],\n",
       "       [1.],\n",
       "       [1.],\n",
       "       [1.],\n",
       "       [1.],\n",
       "       [1.],\n",
       "       [1.],\n",
       "       [1.],\n",
       "       [1.],\n",
       "       [1.],\n",
       "       [1.],\n",
       "       [1.],\n",
       "       [1.],\n",
       "       [1.],\n",
       "       [1.],\n",
       "       [1.],\n",
       "       [1.],\n",
       "       [1.],\n",
       "       [1.],\n",
       "       [1.],\n",
       "       [1.],\n",
       "       [1.],\n",
       "       [1.],\n",
       "       [1.],\n",
       "       [1.],\n",
       "       [1.],\n",
       "       [1.],\n",
       "       [1.],\n",
       "       [1.],\n",
       "       [1.],\n",
       "       [1.],\n",
       "       [1.],\n",
       "       [1.],\n",
       "       [1.],\n",
       "       [1.],\n",
       "       [1.],\n",
       "       [1.],\n",
       "       [1.],\n",
       "       [1.],\n",
       "       [1.],\n",
       "       [1.],\n",
       "       [1.],\n",
       "       [1.],\n",
       "       [0.],\n",
       "       [0.],\n",
       "       [0.],\n",
       "       [0.],\n",
       "       [0.],\n",
       "       [0.],\n",
       "       [0.],\n",
       "       [0.],\n",
       "       [0.],\n",
       "       [0.],\n",
       "       [0.],\n",
       "       [0.],\n",
       "       [0.],\n",
       "       [0.],\n",
       "       [0.],\n",
       "       [0.],\n",
       "       [0.],\n",
       "       [0.],\n",
       "       [0.],\n",
       "       [0.],\n",
       "       [0.],\n",
       "       [0.],\n",
       "       [0.],\n",
       "       [0.],\n",
       "       [0.],\n",
       "       [1.],\n",
       "       [1.],\n",
       "       [1.],\n",
       "       [1.],\n",
       "       [1.],\n",
       "       [1.],\n",
       "       [1.],\n",
       "       [1.],\n",
       "       [1.],\n",
       "       [1.],\n",
       "       [1.],\n",
       "       [1.],\n",
       "       [1.],\n",
       "       [1.],\n",
       "       [1.],\n",
       "       [1.],\n",
       "       [1.],\n",
       "       [1.],\n",
       "       [1.],\n",
       "       [1.],\n",
       "       [1.],\n",
       "       [1.],\n",
       "       [1.],\n",
       "       [1.],\n",
       "       [1.],\n",
       "       [1.],\n",
       "       [1.],\n",
       "       [1.],\n",
       "       [1.],\n",
       "       [1.],\n",
       "       [1.],\n",
       "       [1.],\n",
       "       [1.],\n",
       "       [1.],\n",
       "       [1.],\n",
       "       [1.],\n",
       "       [1.],\n",
       "       [1.],\n",
       "       [1.],\n",
       "       [1.],\n",
       "       [1.],\n",
       "       [1.],\n",
       "       [1.],\n",
       "       [1.],\n",
       "       [1.],\n",
       "       [1.],\n",
       "       [1.],\n",
       "       [1.],\n",
       "       [1.],\n",
       "       [1.],\n",
       "       [1.],\n",
       "       [1.],\n",
       "       [1.],\n",
       "       [1.],\n",
       "       [1.],\n",
       "       [1.],\n",
       "       [1.],\n",
       "       [1.],\n",
       "       [1.],\n",
       "       [1.],\n",
       "       [1.],\n",
       "       [1.],\n",
       "       [1.],\n",
       "       [1.],\n",
       "       [1.],\n",
       "       [1.],\n",
       "       [1.],\n",
       "       [1.],\n",
       "       [1.],\n",
       "       [1.],\n",
       "       [1.],\n",
       "       [1.],\n",
       "       [1.],\n",
       "       [1.],\n",
       "       [1.],\n",
       "       [1.],\n",
       "       [1.],\n",
       "       [1.],\n",
       "       [1.],\n",
       "       [1.],\n",
       "       [1.],\n",
       "       [1.],\n",
       "       [1.],\n",
       "       [1.],\n",
       "       [1.],\n",
       "       [1.],\n",
       "       [1.],\n",
       "       [1.],\n",
       "       [1.],\n",
       "       [1.],\n",
       "       [1.],\n",
       "       [1.],\n",
       "       [1.],\n",
       "       [1.],\n",
       "       [1.],\n",
       "       [1.],\n",
       "       [1.],\n",
       "       [1.],\n",
       "       [1.],\n",
       "       [1.],\n",
       "       [1.],\n",
       "       [1.],\n",
       "       [1.],\n",
       "       [1.],\n",
       "       [1.],\n",
       "       [1.],\n",
       "       [1.],\n",
       "       [1.],\n",
       "       [1.],\n",
       "       [1.],\n",
       "       [1.],\n",
       "       [1.],\n",
       "       [1.],\n",
       "       [1.],\n",
       "       [1.],\n",
       "       [1.],\n",
       "       [1.],\n",
       "       [1.],\n",
       "       [1.],\n",
       "       [1.],\n",
       "       [1.],\n",
       "       [1.],\n",
       "       [1.],\n",
       "       [1.],\n",
       "       [1.],\n",
       "       [1.],\n",
       "       [1.],\n",
       "       [1.],\n",
       "       [1.],\n",
       "       [1.],\n",
       "       [1.],\n",
       "       [1.],\n",
       "       [1.],\n",
       "       [1.],\n",
       "       [1.],\n",
       "       [1.],\n",
       "       [1.],\n",
       "       [1.],\n",
       "       [1.],\n",
       "       [1.],\n",
       "       [1.],\n",
       "       [1.],\n",
       "       [1.],\n",
       "       [1.],\n",
       "       [1.],\n",
       "       [1.],\n",
       "       [1.],\n",
       "       [1.],\n",
       "       [1.],\n",
       "       [1.],\n",
       "       [1.],\n",
       "       [1.],\n",
       "       [1.],\n",
       "       [1.],\n",
       "       [1.],\n",
       "       [1.],\n",
       "       [1.],\n",
       "       [1.],\n",
       "       [1.],\n",
       "       [1.],\n",
       "       [1.],\n",
       "       [1.],\n",
       "       [1.],\n",
       "       [1.],\n",
       "       [1.],\n",
       "       [1.],\n",
       "       [1.],\n",
       "       [1.],\n",
       "       [1.],\n",
       "       [1.],\n",
       "       [1.],\n",
       "       [1.],\n",
       "       [1.],\n",
       "       [1.],\n",
       "       [1.],\n",
       "       [0.],\n",
       "       [0.],\n",
       "       [0.],\n",
       "       [0.],\n",
       "       [0.],\n",
       "       [0.],\n",
       "       [0.],\n",
       "       [0.],\n",
       "       [0.],\n",
       "       [0.],\n",
       "       [0.],\n",
       "       [0.],\n",
       "       [0.],\n",
       "       [0.],\n",
       "       [0.],\n",
       "       [0.],\n",
       "       [0.],\n",
       "       [0.],\n",
       "       [0.],\n",
       "       [0.],\n",
       "       [0.],\n",
       "       [0.],\n",
       "       [0.],\n",
       "       [0.],\n",
       "       [0.],\n",
       "       [1.],\n",
       "       [1.],\n",
       "       [1.],\n",
       "       [1.],\n",
       "       [1.],\n",
       "       [1.],\n",
       "       [1.],\n",
       "       [1.],\n",
       "       [1.],\n",
       "       [1.],\n",
       "       [1.],\n",
       "       [1.],\n",
       "       [1.],\n",
       "       [1.],\n",
       "       [1.],\n",
       "       [1.],\n",
       "       [1.],\n",
       "       [1.],\n",
       "       [1.],\n",
       "       [1.],\n",
       "       [1.],\n",
       "       [1.],\n",
       "       [1.],\n",
       "       [1.],\n",
       "       [1.],\n",
       "       [1.],\n",
       "       [1.],\n",
       "       [1.],\n",
       "       [1.],\n",
       "       [1.],\n",
       "       [1.],\n",
       "       [1.],\n",
       "       [1.],\n",
       "       [1.],\n",
       "       [1.],\n",
       "       [1.],\n",
       "       [1.],\n",
       "       [1.],\n",
       "       [1.],\n",
       "       [1.],\n",
       "       [1.],\n",
       "       [1.],\n",
       "       [1.],\n",
       "       [1.],\n",
       "       [1.],\n",
       "       [1.],\n",
       "       [1.],\n",
       "       [1.],\n",
       "       [1.],\n",
       "       [1.],\n",
       "       [1.],\n",
       "       [1.],\n",
       "       [1.],\n",
       "       [1.],\n",
       "       [1.],\n",
       "       [1.],\n",
       "       [1.],\n",
       "       [1.],\n",
       "       [1.],\n",
       "       [1.],\n",
       "       [1.],\n",
       "       [1.],\n",
       "       [1.],\n",
       "       [1.],\n",
       "       [1.],\n",
       "       [1.],\n",
       "       [1.],\n",
       "       [1.],\n",
       "       [1.],\n",
       "       [1.],\n",
       "       [1.],\n",
       "       [1.],\n",
       "       [1.],\n",
       "       [1.],\n",
       "       [1.],\n",
       "       [1.],\n",
       "       [1.],\n",
       "       [1.],\n",
       "       [1.],\n",
       "       [1.],\n",
       "       [1.],\n",
       "       [1.],\n",
       "       [1.],\n",
       "       [1.],\n",
       "       [1.],\n",
       "       [1.],\n",
       "       [1.],\n",
       "       [1.],\n",
       "       [1.],\n",
       "       [1.],\n",
       "       [1.],\n",
       "       [1.],\n",
       "       [1.],\n",
       "       [1.],\n",
       "       [1.],\n",
       "       [1.],\n",
       "       [1.],\n",
       "       [1.],\n",
       "       [1.],\n",
       "       [1.],\n",
       "       [1.],\n",
       "       [1.],\n",
       "       [1.],\n",
       "       [1.],\n",
       "       [1.],\n",
       "       [1.],\n",
       "       [1.],\n",
       "       [1.],\n",
       "       [1.],\n",
       "       [1.],\n",
       "       [1.],\n",
       "       [1.],\n",
       "       [1.],\n",
       "       [1.],\n",
       "       [1.],\n",
       "       [1.],\n",
       "       [1.],\n",
       "       [1.],\n",
       "       [1.],\n",
       "       [1.],\n",
       "       [1.],\n",
       "       [1.],\n",
       "       [1.],\n",
       "       [1.],\n",
       "       [1.],\n",
       "       [1.],\n",
       "       [1.],\n",
       "       [1.],\n",
       "       [1.],\n",
       "       [1.],\n",
       "       [1.],\n",
       "       [1.],\n",
       "       [1.],\n",
       "       [1.],\n",
       "       [1.],\n",
       "       [1.],\n",
       "       [1.],\n",
       "       [1.],\n",
       "       [1.],\n",
       "       [1.],\n",
       "       [1.],\n",
       "       [1.],\n",
       "       [1.],\n",
       "       [1.],\n",
       "       [1.],\n",
       "       [1.],\n",
       "       [1.],\n",
       "       [1.],\n",
       "       [1.],\n",
       "       [1.],\n",
       "       [1.],\n",
       "       [1.],\n",
       "       [1.],\n",
       "       [1.],\n",
       "       [1.],\n",
       "       [1.],\n",
       "       [1.],\n",
       "       [1.],\n",
       "       [1.],\n",
       "       [1.],\n",
       "       [1.],\n",
       "       [1.],\n",
       "       [1.],\n",
       "       [1.],\n",
       "       [1.],\n",
       "       [1.],\n",
       "       [1.],\n",
       "       [1.],\n",
       "       [1.],\n",
       "       [1.],\n",
       "       [1.],\n",
       "       [1.],\n",
       "       [1.],\n",
       "       [1.],\n",
       "       [1.],\n",
       "       [0.],\n",
       "       [0.],\n",
       "       [0.],\n",
       "       [0.],\n",
       "       [0.],\n",
       "       [0.],\n",
       "       [0.],\n",
       "       [0.],\n",
       "       [0.],\n",
       "       [0.],\n",
       "       [0.],\n",
       "       [0.],\n",
       "       [0.],\n",
       "       [0.],\n",
       "       [0.],\n",
       "       [0.],\n",
       "       [0.],\n",
       "       [0.],\n",
       "       [0.],\n",
       "       [0.],\n",
       "       [0.],\n",
       "       [0.],\n",
       "       [0.],\n",
       "       [0.],\n",
       "       [0.],\n",
       "       [1.],\n",
       "       [1.],\n",
       "       [1.],\n",
       "       [1.],\n",
       "       [1.],\n",
       "       [1.],\n",
       "       [1.],\n",
       "       [1.],\n",
       "       [1.],\n",
       "       [1.],\n",
       "       [1.],\n",
       "       [1.],\n",
       "       [1.],\n",
       "       [1.],\n",
       "       [1.],\n",
       "       [1.],\n",
       "       [1.],\n",
       "       [1.],\n",
       "       [1.],\n",
       "       [1.],\n",
       "       [1.],\n",
       "       [1.],\n",
       "       [1.],\n",
       "       [1.],\n",
       "       [1.],\n",
       "       [1.],\n",
       "       [1.],\n",
       "       [1.],\n",
       "       [1.],\n",
       "       [1.],\n",
       "       [1.],\n",
       "       [1.],\n",
       "       [1.],\n",
       "       [1.],\n",
       "       [1.],\n",
       "       [1.],\n",
       "       [1.],\n",
       "       [1.],\n",
       "       [1.],\n",
       "       [1.],\n",
       "       [1.],\n",
       "       [1.],\n",
       "       [1.],\n",
       "       [1.],\n",
       "       [1.],\n",
       "       [1.],\n",
       "       [1.],\n",
       "       [1.],\n",
       "       [1.],\n",
       "       [1.],\n",
       "       [1.],\n",
       "       [1.],\n",
       "       [1.],\n",
       "       [1.],\n",
       "       [1.],\n",
       "       [1.],\n",
       "       [1.],\n",
       "       [1.],\n",
       "       [1.],\n",
       "       [1.],\n",
       "       [1.],\n",
       "       [1.],\n",
       "       [1.],\n",
       "       [1.],\n",
       "       [1.],\n",
       "       [1.],\n",
       "       [1.],\n",
       "       [1.],\n",
       "       [1.],\n",
       "       [1.],\n",
       "       [1.],\n",
       "       [1.],\n",
       "       [1.],\n",
       "       [1.],\n",
       "       [1.],\n",
       "       [1.],\n",
       "       [1.],\n",
       "       [1.],\n",
       "       [1.],\n",
       "       [1.],\n",
       "       [1.],\n",
       "       [1.],\n",
       "       [1.],\n",
       "       [1.],\n",
       "       [1.],\n",
       "       [1.],\n",
       "       [1.],\n",
       "       [1.],\n",
       "       [1.],\n",
       "       [1.],\n",
       "       [1.],\n",
       "       [1.],\n",
       "       [1.],\n",
       "       [1.],\n",
       "       [1.],\n",
       "       [1.],\n",
       "       [1.],\n",
       "       [1.],\n",
       "       [1.],\n",
       "       [1.],\n",
       "       [1.],\n",
       "       [1.],\n",
       "       [1.],\n",
       "       [1.],\n",
       "       [1.],\n",
       "       [1.],\n",
       "       [1.],\n",
       "       [1.],\n",
       "       [1.],\n",
       "       [1.],\n",
       "       [1.],\n",
       "       [1.],\n",
       "       [1.],\n",
       "       [1.],\n",
       "       [1.],\n",
       "       [1.],\n",
       "       [1.],\n",
       "       [1.],\n",
       "       [1.],\n",
       "       [1.],\n",
       "       [1.],\n",
       "       [1.],\n",
       "       [1.],\n",
       "       [1.],\n",
       "       [1.],\n",
       "       [1.],\n",
       "       [1.],\n",
       "       [1.],\n",
       "       [1.],\n",
       "       [1.],\n",
       "       [1.],\n",
       "       [1.],\n",
       "       [1.],\n",
       "       [1.],\n",
       "       [1.],\n",
       "       [1.],\n",
       "       [1.],\n",
       "       [1.],\n",
       "       [1.],\n",
       "       [1.],\n",
       "       [1.],\n",
       "       [1.],\n",
       "       [1.],\n",
       "       [1.],\n",
       "       [1.],\n",
       "       [1.],\n",
       "       [1.],\n",
       "       [1.],\n",
       "       [1.],\n",
       "       [1.],\n",
       "       [1.],\n",
       "       [1.],\n",
       "       [1.],\n",
       "       [1.],\n",
       "       [1.],\n",
       "       [1.],\n",
       "       [1.],\n",
       "       [1.],\n",
       "       [1.],\n",
       "       [1.],\n",
       "       [1.],\n",
       "       [1.],\n",
       "       [1.],\n",
       "       [1.],\n",
       "       [1.],\n",
       "       [1.],\n",
       "       [1.],\n",
       "       [1.],\n",
       "       [1.],\n",
       "       [1.],\n",
       "       [1.],\n",
       "       [1.],\n",
       "       [1.],\n",
       "       [1.],\n",
       "       [1.],\n",
       "       [0.],\n",
       "       [0.],\n",
       "       [0.],\n",
       "       [0.],\n",
       "       [0.],\n",
       "       [0.],\n",
       "       [0.],\n",
       "       [0.],\n",
       "       [0.],\n",
       "       [0.],\n",
       "       [0.],\n",
       "       [0.],\n",
       "       [0.],\n",
       "       [0.],\n",
       "       [0.],\n",
       "       [0.],\n",
       "       [0.],\n",
       "       [0.],\n",
       "       [0.],\n",
       "       [0.],\n",
       "       [0.],\n",
       "       [0.],\n",
       "       [0.],\n",
       "       [0.],\n",
       "       [0.],\n",
       "       [1.],\n",
       "       [1.],\n",
       "       [1.],\n",
       "       [1.],\n",
       "       [1.],\n",
       "       [1.],\n",
       "       [1.],\n",
       "       [1.],\n",
       "       [1.],\n",
       "       [1.],\n",
       "       [1.],\n",
       "       [1.],\n",
       "       [1.],\n",
       "       [1.],\n",
       "       [1.],\n",
       "       [1.],\n",
       "       [1.],\n",
       "       [1.],\n",
       "       [1.],\n",
       "       [1.],\n",
       "       [1.],\n",
       "       [1.],\n",
       "       [1.],\n",
       "       [1.],\n",
       "       [1.],\n",
       "       [1.],\n",
       "       [1.],\n",
       "       [1.],\n",
       "       [1.],\n",
       "       [1.],\n",
       "       [1.],\n",
       "       [1.],\n",
       "       [1.],\n",
       "       [1.],\n",
       "       [1.],\n",
       "       [1.],\n",
       "       [1.],\n",
       "       [1.],\n",
       "       [1.],\n",
       "       [1.],\n",
       "       [1.],\n",
       "       [1.],\n",
       "       [1.],\n",
       "       [1.],\n",
       "       [1.],\n",
       "       [1.],\n",
       "       [1.],\n",
       "       [1.],\n",
       "       [1.],\n",
       "       [1.],\n",
       "       [1.],\n",
       "       [1.],\n",
       "       [1.],\n",
       "       [1.],\n",
       "       [1.],\n",
       "       [1.],\n",
       "       [1.],\n",
       "       [1.],\n",
       "       [1.],\n",
       "       [1.],\n",
       "       [1.],\n",
       "       [1.],\n",
       "       [1.],\n",
       "       [1.],\n",
       "       [1.],\n",
       "       [1.],\n",
       "       [1.],\n",
       "       [1.],\n",
       "       [1.],\n",
       "       [1.],\n",
       "       [1.],\n",
       "       [1.],\n",
       "       [1.],\n",
       "       [1.],\n",
       "       [1.],\n",
       "       [1.],\n",
       "       [1.],\n",
       "       [1.],\n",
       "       [1.],\n",
       "       [1.],\n",
       "       [1.],\n",
       "       [1.],\n",
       "       [1.],\n",
       "       [1.],\n",
       "       [1.],\n",
       "       [1.],\n",
       "       [1.],\n",
       "       [1.],\n",
       "       [1.],\n",
       "       [1.],\n",
       "       [1.],\n",
       "       [1.],\n",
       "       [1.],\n",
       "       [1.],\n",
       "       [1.],\n",
       "       [1.],\n",
       "       [1.],\n",
       "       [1.],\n",
       "       [1.],\n",
       "       [1.],\n",
       "       [1.],\n",
       "       [1.],\n",
       "       [1.],\n",
       "       [1.],\n",
       "       [1.],\n",
       "       [1.],\n",
       "       [1.],\n",
       "       [1.],\n",
       "       [1.],\n",
       "       [1.],\n",
       "       [1.],\n",
       "       [1.],\n",
       "       [1.],\n",
       "       [1.],\n",
       "       [1.],\n",
       "       [1.],\n",
       "       [1.],\n",
       "       [1.],\n",
       "       [1.],\n",
       "       [1.],\n",
       "       [1.],\n",
       "       [1.],\n",
       "       [1.],\n",
       "       [1.],\n",
       "       [1.],\n",
       "       [1.],\n",
       "       [1.],\n",
       "       [1.],\n",
       "       [1.],\n",
       "       [1.],\n",
       "       [1.],\n",
       "       [1.],\n",
       "       [1.],\n",
       "       [1.],\n",
       "       [1.],\n",
       "       [1.],\n",
       "       [1.],\n",
       "       [1.],\n",
       "       [1.],\n",
       "       [1.],\n",
       "       [1.],\n",
       "       [1.],\n",
       "       [1.],\n",
       "       [1.],\n",
       "       [1.],\n",
       "       [1.],\n",
       "       [1.],\n",
       "       [1.],\n",
       "       [1.],\n",
       "       [1.],\n",
       "       [1.],\n",
       "       [1.],\n",
       "       [1.],\n",
       "       [1.],\n",
       "       [1.],\n",
       "       [1.],\n",
       "       [1.],\n",
       "       [1.],\n",
       "       [1.],\n",
       "       [1.],\n",
       "       [1.],\n",
       "       [1.],\n",
       "       [1.],\n",
       "       [1.],\n",
       "       [1.],\n",
       "       [1.],\n",
       "       [1.],\n",
       "       [1.],\n",
       "       [1.],\n",
       "       [1.],\n",
       "       [1.],\n",
       "       [1.],\n",
       "       [1.],\n",
       "       [1.],\n",
       "       [1.]])"
      ]
     },
     "execution_count": 11,
     "metadata": {},
     "output_type": "execute_result"
    }
   ],
   "source": [
    "predictions"
   ]
  },
  {
   "cell_type": "code",
   "execution_count": 12,
   "metadata": {},
   "outputs": [
    {
     "data": {
      "text/plain": [
       "array([[0.7821998 ],\n",
       "       [0.83982658],\n",
       "       [0.77403665],\n",
       "       [0.62148333],\n",
       "       [0.78675836],\n",
       "       [0.75819427],\n",
       "       [0.7998004 ],\n",
       "       [0.69956738],\n",
       "       [0.78173149],\n",
       "       [0.76679116],\n",
       "       [0.74079448],\n",
       "       [0.66229481],\n",
       "       [0.69019449],\n",
       "       [0.75259888],\n",
       "       [0.71311814],\n",
       "       [0.76573884],\n",
       "       [0.80625784],\n",
       "       [0.87208831],\n",
       "       [0.81293368],\n",
       "       [0.77436054],\n",
       "       [0.81803423],\n",
       "       [0.72611529],\n",
       "       [0.86476004],\n",
       "       [0.78441077],\n",
       "       [0.71765935],\n",
       "       [0.87803841],\n",
       "       [0.89394104],\n",
       "       [0.77584332],\n",
       "       [0.91251945],\n",
       "       [0.77104455],\n",
       "       [0.82289732],\n",
       "       [0.91138232],\n",
       "       [0.82247818],\n",
       "       [0.92272192],\n",
       "       [0.75296676],\n",
       "       [0.73627496],\n",
       "       [0.91939318],\n",
       "       [0.7798512 ],\n",
       "       [0.87305886],\n",
       "       [0.888879  ],\n",
       "       [0.82453054],\n",
       "       [0.74014944],\n",
       "       [0.81846642],\n",
       "       [0.86826783],\n",
       "       [0.90126306],\n",
       "       [0.89990807],\n",
       "       [0.67415071],\n",
       "       [0.93699324],\n",
       "       [0.88224626],\n",
       "       [0.9316026 ],\n",
       "       [0.87524992],\n",
       "       [0.9665001 ],\n",
       "       [0.89705914],\n",
       "       [0.86841917],\n",
       "       [0.95098853],\n",
       "       [0.91643733],\n",
       "       [0.90212977],\n",
       "       [0.81818277],\n",
       "       [0.93468082],\n",
       "       [0.94333845],\n",
       "       [0.93304837],\n",
       "       [0.88647908],\n",
       "       [0.92305261],\n",
       "       [0.8837958 ],\n",
       "       [0.90394193],\n",
       "       [0.90998375],\n",
       "       [0.87980711],\n",
       "       [0.92943281],\n",
       "       [0.89497548],\n",
       "       [0.91122162],\n",
       "       [0.92054904],\n",
       "       [0.91752779],\n",
       "       [0.83320385],\n",
       "       [0.84387296],\n",
       "       [0.93927473],\n",
       "       [0.93944353],\n",
       "       [0.95151073],\n",
       "       [0.91815084],\n",
       "       [0.93611962],\n",
       "       [0.94706166],\n",
       "       [0.9351638 ],\n",
       "       [0.96488434],\n",
       "       [0.9593581 ],\n",
       "       [0.889835  ],\n",
       "       [0.96521378],\n",
       "       [0.92897862],\n",
       "       [0.91747344],\n",
       "       [0.95757592],\n",
       "       [0.94051886],\n",
       "       [0.90683961],\n",
       "       [0.92497802],\n",
       "       [0.94778478],\n",
       "       [0.95350575],\n",
       "       [0.9160592 ],\n",
       "       [0.9408142 ],\n",
       "       [0.94316512],\n",
       "       [0.96505398],\n",
       "       [0.92491949],\n",
       "       [0.97410834],\n",
       "       [0.86289972],\n",
       "       [0.93411022],\n",
       "       [0.93991262],\n",
       "       [0.9276495 ],\n",
       "       [0.86016673],\n",
       "       [0.91562277],\n",
       "       [0.90417022],\n",
       "       [0.80287892],\n",
       "       [0.8677119 ],\n",
       "       [0.86593002],\n",
       "       [0.88696426],\n",
       "       [0.89211595],\n",
       "       [0.95756626],\n",
       "       [0.89387351],\n",
       "       [0.93027896],\n",
       "       [0.81705493],\n",
       "       [0.79671013],\n",
       "       [0.86169732],\n",
       "       [0.95564437],\n",
       "       [0.8390615 ],\n",
       "       [0.79940689],\n",
       "       [0.88212025],\n",
       "       [0.90106422],\n",
       "       [0.91469753],\n",
       "       [0.89670843],\n",
       "       [0.78589165],\n",
       "       [0.86623269],\n",
       "       [0.89356101],\n",
       "       [0.86823481],\n",
       "       [0.80369276],\n",
       "       [0.93583691],\n",
       "       [0.8175745 ],\n",
       "       [0.80004263],\n",
       "       [0.86550653],\n",
       "       [0.74481738],\n",
       "       [0.91203898],\n",
       "       [0.83773732],\n",
       "       [0.83235079],\n",
       "       [0.75959849],\n",
       "       [0.6894902 ],\n",
       "       [0.85772991],\n",
       "       [0.78673697],\n",
       "       [0.84945899],\n",
       "       [0.7405327 ],\n",
       "       [0.79381484],\n",
       "       [0.96785426],\n",
       "       [0.83252031],\n",
       "       [0.75623065],\n",
       "       [0.81653017],\n",
       "       [0.91649467],\n",
       "       [0.6481719 ],\n",
       "       [0.77739763],\n",
       "       [0.95290041],\n",
       "       [0.84320849],\n",
       "       [0.9417035 ],\n",
       "       [0.88726622],\n",
       "       [0.67915261],\n",
       "       [0.88964796],\n",
       "       [0.91073471],\n",
       "       [0.90470779],\n",
       "       [0.83627737],\n",
       "       [0.85542589],\n",
       "       [0.84940928],\n",
       "       [0.81068337],\n",
       "       [0.88549232],\n",
       "       [0.82200754],\n",
       "       [0.88287473],\n",
       "       [0.96929562],\n",
       "       [0.79522783],\n",
       "       [0.86222768],\n",
       "       [0.87264526],\n",
       "       [0.81451219],\n",
       "       [0.76908565],\n",
       "       [0.67282885],\n",
       "       [0.89146131],\n",
       "       [0.93606478],\n",
       "       [0.95681864],\n",
       "       [0.88691652],\n",
       "       [0.81771398],\n",
       "       [0.75196838],\n",
       "       [0.86576074],\n",
       "       [0.76288617],\n",
       "       [0.95331794],\n",
       "       [0.73441577],\n",
       "       [0.82570869],\n",
       "       [0.87589288],\n",
       "       [0.81773221],\n",
       "       [0.83867711],\n",
       "       [0.82255965],\n",
       "       [0.81630617],\n",
       "       [0.7882973 ],\n",
       "       [0.71590602],\n",
       "       [0.70252401],\n",
       "       [0.74129367],\n",
       "       [0.80102837],\n",
       "       [0.7469933 ],\n",
       "       [0.76741081],\n",
       "       [0.91504806],\n",
       "       [0.82232112],\n",
       "       [0.69015813],\n",
       "       [0.80300009],\n",
       "       [0.80248946],\n",
       "       [0.89478159],\n",
       "       [0.80105931],\n",
       "       [0.72291261],\n",
       "       [0.80597228],\n",
       "       [0.74961579],\n",
       "       [0.70369381],\n",
       "       [0.83709133],\n",
       "       [0.8068468 ],\n",
       "       [0.77134466],\n",
       "       [0.87356758],\n",
       "       [0.7385174 ],\n",
       "       [0.69939792],\n",
       "       [0.9083522 ],\n",
       "       [0.7057969 ],\n",
       "       [0.86480772],\n",
       "       [0.75477403],\n",
       "       [0.68453473],\n",
       "       [0.67511088],\n",
       "       [0.71712363],\n",
       "       [0.68099457],\n",
       "       [0.75509411],\n",
       "       [0.80783379],\n",
       "       [0.71870387],\n",
       "       [0.81146234],\n",
       "       [0.76276666],\n",
       "       [0.94538158],\n",
       "       [0.95581281],\n",
       "       [0.9485603 ],\n",
       "       [0.77332509],\n",
       "       [0.88771731],\n",
       "       [0.85682315],\n",
       "       [0.65740091],\n",
       "       [0.8837139 ],\n",
       "       [0.87263608],\n",
       "       [0.85617507],\n",
       "       [0.88027221],\n",
       "       [0.96040559],\n",
       "       [0.85455269],\n",
       "       [0.80261165],\n",
       "       [0.65423089],\n",
       "       [0.93383157],\n",
       "       [0.87412792],\n",
       "       [0.82217783],\n",
       "       [0.80087161],\n",
       "       [0.90115601],\n",
       "       [0.91540247],\n",
       "       [0.9361105 ],\n",
       "       [0.97384542],\n",
       "       [0.96244907],\n",
       "       [0.91966182],\n",
       "       [0.97125638],\n",
       "       [0.87376183],\n",
       "       [0.97886318],\n",
       "       [0.96886772],\n",
       "       [0.9691636 ],\n",
       "       [0.90557009],\n",
       "       [0.89156997],\n",
       "       [0.93708241],\n",
       "       [0.97940916],\n",
       "       [0.95389467],\n",
       "       [0.90676928],\n",
       "       [0.97213215],\n",
       "       [0.81927747],\n",
       "       [0.87257785],\n",
       "       [0.95390153],\n",
       "       [0.98316622],\n",
       "       [0.854231  ],\n",
       "       [0.87505591],\n",
       "       [0.63180345],\n",
       "       [0.97096813],\n",
       "       [0.82938051],\n",
       "       [0.90493673],\n",
       "       [0.9007169 ],\n",
       "       [0.92565811],\n",
       "       [0.95806473],\n",
       "       [0.96142513],\n",
       "       [0.95867747],\n",
       "       [0.96659797],\n",
       "       [0.86281514],\n",
       "       [0.98153424],\n",
       "       [0.93561137],\n",
       "       [0.94711649],\n",
       "       [0.93429661],\n",
       "       [0.95715427],\n",
       "       [0.92335618],\n",
       "       [0.79502547],\n",
       "       [0.96093851],\n",
       "       [0.89728498],\n",
       "       [0.96233666],\n",
       "       [0.95209074],\n",
       "       [0.90333438],\n",
       "       [0.97709823],\n",
       "       [0.85601962],\n",
       "       [0.96060288],\n",
       "       [0.97058815],\n",
       "       [0.96468127],\n",
       "       [0.97911316],\n",
       "       [0.93142271],\n",
       "       [0.89497566],\n",
       "       [0.93228221],\n",
       "       [0.97837329],\n",
       "       [0.96923155],\n",
       "       [0.84304053],\n",
       "       [0.96508384],\n",
       "       [0.88117379],\n",
       "       [0.84822828],\n",
       "       [0.86084259],\n",
       "       [0.93946618],\n",
       "       [0.86365342],\n",
       "       [0.966353  ],\n",
       "       [0.96769321],\n",
       "       [0.97492075],\n",
       "       [0.89198416],\n",
       "       [0.92136699],\n",
       "       [0.9422369 ],\n",
       "       [0.92842239],\n",
       "       [0.90324908],\n",
       "       [0.9549855 ],\n",
       "       [0.74792403],\n",
       "       [0.958579  ],\n",
       "       [0.92491937],\n",
       "       [0.963377  ],\n",
       "       [0.88104832],\n",
       "       [0.92528826],\n",
       "       [0.84979546],\n",
       "       [0.68405437],\n",
       "       [0.78288931],\n",
       "       [0.89129812],\n",
       "       [0.75000358],\n",
       "       [0.86899221],\n",
       "       [0.81687278],\n",
       "       [0.91241008],\n",
       "       [0.84502077],\n",
       "       [0.8155455 ],\n",
       "       [0.87781864],\n",
       "       [0.90859598],\n",
       "       [0.73267823],\n",
       "       [0.93704462],\n",
       "       [0.84619015],\n",
       "       [0.96113068],\n",
       "       [0.80242461],\n",
       "       [0.82245713],\n",
       "       [0.93061209],\n",
       "       [0.98766965],\n",
       "       [0.76303744],\n",
       "       [0.82683253],\n",
       "       [0.94049567],\n",
       "       [0.76420933],\n",
       "       [0.83712542],\n",
       "       [0.87593025],\n",
       "       [0.82579327],\n",
       "       [0.79411203],\n",
       "       [0.85543728],\n",
       "       [0.94132191],\n",
       "       [0.84767115],\n",
       "       [0.70899642],\n",
       "       [0.89400625],\n",
       "       [0.90685916],\n",
       "       [0.87678987],\n",
       "       [0.90103471],\n",
       "       [0.81561089],\n",
       "       [0.81709301],\n",
       "       [0.77824169],\n",
       "       [0.70943373],\n",
       "       [0.80022019],\n",
       "       [0.85352194],\n",
       "       [0.87722242],\n",
       "       [0.78123999],\n",
       "       [0.82026941],\n",
       "       [0.92621922],\n",
       "       [0.86238211],\n",
       "       [0.9904924 ],\n",
       "       [0.98763043],\n",
       "       [0.69187909],\n",
       "       [0.90492213],\n",
       "       [0.70765287],\n",
       "       [0.65650457],\n",
       "       [0.94682443],\n",
       "       [0.96337235],\n",
       "       [0.79482806],\n",
       "       [0.65842885],\n",
       "       [0.76041573],\n",
       "       [0.76063985],\n",
       "       [0.77277964],\n",
       "       [0.89375353],\n",
       "       [0.7448228 ],\n",
       "       [0.84301198],\n",
       "       [0.73823237],\n",
       "       [0.95759296],\n",
       "       [0.73256677],\n",
       "       [0.70644075],\n",
       "       [0.89165592],\n",
       "       [0.79140079],\n",
       "       [0.85218018],\n",
       "       [0.9437598 ],\n",
       "       [0.8729521 ],\n",
       "       [0.80772126],\n",
       "       [0.63701147],\n",
       "       [0.8033374 ],\n",
       "       [0.71112996],\n",
       "       [0.75161797],\n",
       "       [0.71828836],\n",
       "       [0.91165441],\n",
       "       [0.68309093],\n",
       "       [0.91343379],\n",
       "       [0.78895229],\n",
       "       [0.95955187],\n",
       "       [0.88221651],\n",
       "       [0.95916635],\n",
       "       [0.74473274],\n",
       "       [0.77123082],\n",
       "       [0.65005058],\n",
       "       [0.96601528],\n",
       "       [0.90404409],\n",
       "       [0.8907243 ],\n",
       "       [0.88277191],\n",
       "       [0.85474348],\n",
       "       [0.96032262],\n",
       "       [0.87031686],\n",
       "       [0.84674263],\n",
       "       [0.92033017],\n",
       "       [0.94429928],\n",
       "       [0.90405113],\n",
       "       [0.83527905],\n",
       "       [0.79472601],\n",
       "       [0.8920185 ],\n",
       "       [0.91469514],\n",
       "       [0.84842974],\n",
       "       [0.89697289],\n",
       "       [0.7832036 ],\n",
       "       [0.740484  ],\n",
       "       [0.89687908],\n",
       "       [0.86052877],\n",
       "       [0.78047538],\n",
       "       [0.82329065],\n",
       "       [0.93088388],\n",
       "       [0.87010705],\n",
       "       [0.9498384 ],\n",
       "       [0.71368265],\n",
       "       [0.98798776],\n",
       "       [0.86277008],\n",
       "       [0.89256406],\n",
       "       [0.98781908],\n",
       "       [0.80596995],\n",
       "       [0.82447648],\n",
       "       [0.94266868],\n",
       "       [0.88421017],\n",
       "       [0.88621199],\n",
       "       [0.80882126],\n",
       "       [0.91454506],\n",
       "       [0.7523182 ],\n",
       "       [0.97422284],\n",
       "       [0.87956929],\n",
       "       [0.9164378 ],\n",
       "       [0.97018945],\n",
       "       [0.9167946 ],\n",
       "       [0.93286651],\n",
       "       [0.77428681],\n",
       "       [0.96638417],\n",
       "       [0.9042899 ],\n",
       "       [0.7929762 ],\n",
       "       [0.96618992],\n",
       "       [0.97321069],\n",
       "       [0.81592864],\n",
       "       [0.95399219],\n",
       "       [0.83403033],\n",
       "       [0.97052211],\n",
       "       [0.98012197],\n",
       "       [0.94858271],\n",
       "       [0.9037143 ],\n",
       "       [0.97501546],\n",
       "       [0.83960164],\n",
       "       [0.9740029 ],\n",
       "       [0.99265516],\n",
       "       [0.93081677],\n",
       "       [0.95393729],\n",
       "       [0.9730866 ],\n",
       "       [0.99792421],\n",
       "       [0.83289635],\n",
       "       [0.9881826 ],\n",
       "       [0.95623302],\n",
       "       [0.95476127],\n",
       "       [0.98780674],\n",
       "       [0.91690058],\n",
       "       [0.80604941],\n",
       "       [0.9751007 ],\n",
       "       [0.99492234],\n",
       "       [0.83725953],\n",
       "       [0.96826339],\n",
       "       [0.97150552],\n",
       "       [0.98581958],\n",
       "       [0.99160004],\n",
       "       [0.99773681],\n",
       "       [0.95074612],\n",
       "       [0.98192859],\n",
       "       [0.72044331],\n",
       "       [0.98440892],\n",
       "       [0.83135164],\n",
       "       [0.96243972],\n",
       "       [0.98423082],\n",
       "       [0.85842043],\n",
       "       [0.98683959],\n",
       "       [0.93704212],\n",
       "       [0.93107337],\n",
       "       [0.95815974],\n",
       "       [0.80244887],\n",
       "       [0.87185675],\n",
       "       [0.9180609 ],\n",
       "       [0.92752564],\n",
       "       [0.96883518],\n",
       "       [0.94329774],\n",
       "       [0.90303403],\n",
       "       [0.88793117],\n",
       "       [0.7913087 ],\n",
       "       [0.95172632],\n",
       "       [0.88884979],\n",
       "       [0.89278561],\n",
       "       [0.78163642],\n",
       "       [0.95807964],\n",
       "       [0.89901036],\n",
       "       [0.93485844],\n",
       "       [0.93493199],\n",
       "       [0.90374714],\n",
       "       [0.88940752],\n",
       "       [0.96980572],\n",
       "       [0.88183868],\n",
       "       [0.78664732],\n",
       "       [0.79180479],\n",
       "       [0.88487685],\n",
       "       [0.81871837],\n",
       "       [0.76836389],\n",
       "       [0.99626297],\n",
       "       [0.80218828],\n",
       "       [0.82959932],\n",
       "       [0.93101501],\n",
       "       [0.75375098],\n",
       "       [0.88140959],\n",
       "       [0.8616612 ],\n",
       "       [0.78750122],\n",
       "       [0.78360128],\n",
       "       [0.73467374],\n",
       "       [0.81331587],\n",
       "       [0.89594847],\n",
       "       [0.94434255],\n",
       "       [0.7410211 ],\n",
       "       [0.90346503],\n",
       "       [0.8901602 ],\n",
       "       [0.72160655],\n",
       "       [0.77312708],\n",
       "       [0.90346766],\n",
       "       [0.81279927],\n",
       "       [0.96456194],\n",
       "       [0.99463427],\n",
       "       [0.85637295],\n",
       "       [0.71000344],\n",
       "       [0.86518127],\n",
       "       [0.86808318],\n",
       "       [0.76387417],\n",
       "       [0.92367464],\n",
       "       [0.84794778],\n",
       "       [0.97889882],\n",
       "       [0.79608029],\n",
       "       [0.98357105],\n",
       "       [0.88279933],\n",
       "       [0.86193389],\n",
       "       [0.86415309],\n",
       "       [0.89370942],\n",
       "       [0.73271173],\n",
       "       [0.75745267],\n",
       "       [0.77351123],\n",
       "       [0.88328177],\n",
       "       [0.8857643 ],\n",
       "       [0.96133024],\n",
       "       [0.72251666],\n",
       "       [0.95311219],\n",
       "       [0.89306998],\n",
       "       [0.93083495],\n",
       "       [0.65843362],\n",
       "       [0.71976697],\n",
       "       [0.90840888],\n",
       "       [0.63545215],\n",
       "       [0.83686846],\n",
       "       [0.78882456],\n",
       "       [0.77019894],\n",
       "       [0.88622743],\n",
       "       [0.92300862],\n",
       "       [0.99422097],\n",
       "       [0.78390115],\n",
       "       [0.77355248],\n",
       "       [0.65226847],\n",
       "       [0.88513803],\n",
       "       [0.91328019],\n",
       "       [0.78648823],\n",
       "       [0.81036741],\n",
       "       [0.76565856],\n",
       "       [0.7651099 ],\n",
       "       [0.89064789],\n",
       "       [0.82041758],\n",
       "       [0.65549517],\n",
       "       [0.79316503],\n",
       "       [0.75127572],\n",
       "       [0.87385631],\n",
       "       [0.77791679],\n",
       "       [0.82470131],\n",
       "       [0.74323934],\n",
       "       [0.73979771],\n",
       "       [0.9079904 ],\n",
       "       [0.68332648],\n",
       "       [0.9552424 ],\n",
       "       [0.8040207 ],\n",
       "       [0.75292647],\n",
       "       [0.95676017],\n",
       "       [0.94842571],\n",
       "       [0.76950121],\n",
       "       [0.7053501 ],\n",
       "       [0.94433182],\n",
       "       [0.83008826],\n",
       "       [0.98446006],\n",
       "       [0.85470408],\n",
       "       [0.83366889],\n",
       "       [0.69640666],\n",
       "       [0.94381648],\n",
       "       [0.93604261],\n",
       "       [0.72278416],\n",
       "       [0.92861837],\n",
       "       [0.96976566],\n",
       "       [0.86246711],\n",
       "       [0.88630873],\n",
       "       [0.99578947],\n",
       "       [0.66431367],\n",
       "       [0.80529922],\n",
       "       [0.9696629 ],\n",
       "       [0.67102522],\n",
       "       [0.9585439 ],\n",
       "       [0.83187437],\n",
       "       [0.93594205],\n",
       "       [0.65254509],\n",
       "       [0.73099101],\n",
       "       [0.72919995],\n",
       "       [0.90815973],\n",
       "       [0.91013712],\n",
       "       [0.95859188],\n",
       "       [0.70995307],\n",
       "       [0.71984732],\n",
       "       [0.76708484],\n",
       "       [0.97436178],\n",
       "       [0.85828322],\n",
       "       [0.72245842],\n",
       "       [0.9421891 ],\n",
       "       [0.88564575],\n",
       "       [0.85233599],\n",
       "       [0.82354176],\n",
       "       [0.74518895],\n",
       "       [0.89715105],\n",
       "       [0.87953681],\n",
       "       [0.88602126],\n",
       "       [0.92157686],\n",
       "       [0.99327773],\n",
       "       [0.90949714],\n",
       "       [0.73466313],\n",
       "       [0.98895663],\n",
       "       [0.95468891],\n",
       "       [0.75002849],\n",
       "       [0.69758821],\n",
       "       [0.91059208],\n",
       "       [0.94110423],\n",
       "       [0.98679394],\n",
       "       [0.89876175],\n",
       "       [0.87644202],\n",
       "       [0.96383005],\n",
       "       [0.66871983],\n",
       "       [0.91516358],\n",
       "       [0.98786551],\n",
       "       [0.99843198],\n",
       "       [0.91494775],\n",
       "       [0.97224784],\n",
       "       [0.98773766],\n",
       "       [0.9873324 ],\n",
       "       [0.97744524],\n",
       "       [0.87685353],\n",
       "       [0.97613436],\n",
       "       [0.99317825],\n",
       "       [0.99584645],\n",
       "       [0.98363739],\n",
       "       [0.95517349],\n",
       "       [0.98552704],\n",
       "       [0.98578173],\n",
       "       [0.98880762],\n",
       "       [0.95112514],\n",
       "       [0.99022442],\n",
       "       [0.91609794],\n",
       "       [0.98945773],\n",
       "       [0.98886371],\n",
       "       [0.97134858],\n",
       "       [0.98384446],\n",
       "       [0.98633444],\n",
       "       [0.99525094],\n",
       "       [0.80007559],\n",
       "       [0.79434007],\n",
       "       [0.93673635],\n",
       "       [0.84920382],\n",
       "       [0.98930758],\n",
       "       [0.83273625],\n",
       "       [0.93059105],\n",
       "       [0.93405855],\n",
       "       [0.87088907],\n",
       "       [0.95737839],\n",
       "       [0.95488137],\n",
       "       [0.99735332],\n",
       "       [0.85671002],\n",
       "       [0.93751335],\n",
       "       [0.79793596],\n",
       "       [0.89674783],\n",
       "       [0.96998674],\n",
       "       [0.96675336],\n",
       "       [0.84400874],\n",
       "       [0.99049008],\n",
       "       [0.96985459],\n",
       "       [0.98717928],\n",
       "       [0.83702648],\n",
       "       [0.96978486],\n",
       "       [0.98391551],\n",
       "       [0.99623871],\n",
       "       [0.91216999],\n",
       "       [0.84850585],\n",
       "       [0.85061622],\n",
       "       [0.97339702],\n",
       "       [0.80744398],\n",
       "       [0.8422212 ],\n",
       "       [0.99857736],\n",
       "       [0.98238027],\n",
       "       [0.94396275],\n",
       "       [0.94792378],\n",
       "       [0.79160964],\n",
       "       [0.78505987],\n",
       "       [0.95839214],\n",
       "       [0.88352102],\n",
       "       [0.74850702],\n",
       "       [0.86816931],\n",
       "       [0.69673955],\n",
       "       [0.93426597],\n",
       "       [0.80988216],\n",
       "       [0.72627473],\n",
       "       [0.81873077],\n",
       "       [0.87010485],\n",
       "       [0.87719893],\n",
       "       [0.82061315],\n",
       "       [0.92972773],\n",
       "       [0.78209424],\n",
       "       [0.92903465],\n",
       "       [0.99405378],\n",
       "       [0.8372103 ],\n",
       "       [0.85966039],\n",
       "       [0.9263894 ],\n",
       "       [0.80973065],\n",
       "       [0.98063719],\n",
       "       [0.95116991],\n",
       "       [0.8243987 ],\n",
       "       [0.84775048],\n",
       "       [0.86075932],\n",
       "       [0.74835825],\n",
       "       [0.66550428],\n",
       "       [0.92000717],\n",
       "       [0.76743615],\n",
       "       [0.99108279],\n",
       "       [0.96547389],\n",
       "       [0.93510282],\n",
       "       [0.78053796],\n",
       "       [0.98682332],\n",
       "       [0.78784043],\n",
       "       [0.95991379],\n",
       "       [0.77945834],\n",
       "       [0.97098678],\n",
       "       [0.9386608 ],\n",
       "       [0.82146311],\n",
       "       [0.77439606],\n",
       "       [0.85990423],\n",
       "       [0.97041005],\n",
       "       [0.78133368],\n",
       "       [0.95894182],\n",
       "       [0.82949549],\n",
       "       [0.93586552],\n",
       "       [0.87871444],\n",
       "       [0.96415162],\n",
       "       [0.96801978],\n",
       "       [0.81270808],\n",
       "       [0.96364367],\n",
       "       [0.76848936],\n",
       "       [0.96212202],\n",
       "       [0.77117789],\n",
       "       [0.87159973],\n",
       "       [0.73300278],\n",
       "       [0.96079415],\n",
       "       [0.88009411],\n",
       "       [0.99525982],\n",
       "       [0.84821302],\n",
       "       [0.74170166],\n",
       "       [0.89247149],\n",
       "       [0.69799101],\n",
       "       [0.70144719],\n",
       "       [0.81643981],\n",
       "       [0.96912944],\n",
       "       [0.98946893],\n",
       "       [0.84720302],\n",
       "       [0.71326196],\n",
       "       [0.87466842],\n",
       "       [0.85489118],\n",
       "       [0.81684703],\n",
       "       [0.99413151],\n",
       "       [0.88014084],\n",
       "       [0.83385748],\n",
       "       [0.86680466],\n",
       "       [0.97921157],\n",
       "       [0.88280022],\n",
       "       [0.94657767],\n",
       "       [0.99222749],\n",
       "       [0.70832658],\n",
       "       [0.86165416],\n",
       "       [0.97970217],\n",
       "       [0.83783913],\n",
       "       [0.76281571],\n",
       "       [0.99174857],\n",
       "       [0.98632997],\n",
       "       [0.84924132],\n",
       "       [0.9155764 ],\n",
       "       [0.99949241],\n",
       "       [0.93415475],\n",
       "       [0.78506058],\n",
       "       [0.97038537],\n",
       "       [0.83085805],\n",
       "       [0.68758762],\n",
       "       [0.99735886],\n",
       "       [0.91521919],\n",
       "       [0.99933261],\n",
       "       [0.89118552],\n",
       "       [0.64649624],\n",
       "       [0.91321284],\n",
       "       [0.89319175],\n",
       "       [0.95376509],\n",
       "       [0.95134628],\n",
       "       [0.91121668],\n",
       "       [0.98704797],\n",
       "       [0.99796045],\n",
       "       [0.75124848],\n",
       "       [0.8973065 ],\n",
       "       [0.99931157],\n",
       "       [0.93947458],\n",
       "       [0.98623276],\n",
       "       [0.67322052],\n",
       "       [0.81413782],\n",
       "       [0.98687738],\n",
       "       [0.99055672],\n",
       "       [0.99719316],\n",
       "       [0.93264484],\n",
       "       [0.99903202],\n",
       "       [0.84470189],\n",
       "       [0.89969379],\n",
       "       [0.89871025],\n",
       "       [0.91389126],\n",
       "       [0.9782601 ],\n",
       "       [0.99796033],\n",
       "       [0.99939191],\n",
       "       [0.98813337],\n",
       "       [0.98790669],\n",
       "       [0.98988086],\n",
       "       [0.99068201],\n",
       "       [0.69160229],\n",
       "       [0.64533788],\n",
       "       [0.99893039],\n",
       "       [0.97240973],\n",
       "       [0.99066275],\n",
       "       [0.95126212],\n",
       "       [0.96330917],\n",
       "       [0.95266956],\n",
       "       [0.98425353],\n",
       "       [0.99993694],\n",
       "       [0.9909122 ],\n",
       "       [0.98401284],\n",
       "       [0.95292985],\n",
       "       [0.99690056],\n",
       "       [0.99709749],\n",
       "       [0.99959499],\n",
       "       [0.99827862],\n",
       "       [0.99916172],\n",
       "       [0.97558618],\n",
       "       [0.92012608],\n",
       "       [0.86252236],\n",
       "       [0.81323344],\n",
       "       [0.99584806],\n",
       "       [0.99193925],\n",
       "       [0.99422151],\n",
       "       [0.97650415],\n",
       "       [0.93196422],\n",
       "       [0.98023933],\n",
       "       [0.9844625 ],\n",
       "       [0.99937612],\n",
       "       [0.86944681],\n",
       "       [0.99506146],\n",
       "       [0.99584913],\n",
       "       [0.92072463],\n",
       "       [0.95706648],\n",
       "       [0.92101246],\n",
       "       [0.93242031],\n",
       "       [0.98846161],\n",
       "       [0.96762097],\n",
       "       [0.99582964],\n",
       "       [0.9962042 ],\n",
       "       [0.98959827],\n",
       "       [0.97827518],\n",
       "       [0.99705577],\n",
       "       [0.94748825],\n",
       "       [0.90108263],\n",
       "       [0.99473935],\n",
       "       [0.95442462],\n",
       "       [0.94952846],\n",
       "       [0.89594698],\n",
       "       [0.9846229 ],\n",
       "       [0.96006685],\n",
       "       [0.98997635],\n",
       "       [0.99730206],\n",
       "       [0.94772029],\n",
       "       [0.97701949],\n",
       "       [0.88626707],\n",
       "       [0.96433616],\n",
       "       [0.99076957],\n",
       "       [0.68095219],\n",
       "       [0.98243034],\n",
       "       [0.91281408],\n",
       "       [0.94856888],\n",
       "       [0.86414158],\n",
       "       [0.82751697],\n",
       "       [0.85562378],\n",
       "       [0.90824974],\n",
       "       [0.90513653],\n",
       "       [0.98536128],\n",
       "       [0.98801535],\n",
       "       [0.7846753 ],\n",
       "       [0.87589204],\n",
       "       [0.82645416],\n",
       "       [0.8872664 ],\n",
       "       [0.9439587 ],\n",
       "       [0.75994712],\n",
       "       [0.91681641],\n",
       "       [0.9998709 ],\n",
       "       [0.9734326 ],\n",
       "       [0.98976958],\n",
       "       [0.78073299],\n",
       "       [0.9864248 ],\n",
       "       [0.91122311],\n",
       "       [0.99999106],\n",
       "       [0.86012518],\n",
       "       [0.95527589],\n",
       "       [0.84466553],\n",
       "       [0.92324084],\n",
       "       [0.97908098],\n",
       "       [0.8844381 ],\n",
       "       [0.91760147],\n",
       "       [0.99163669],\n",
       "       [0.90870661],\n",
       "       [0.91748565],\n",
       "       [0.76430976],\n",
       "       [0.91568756],\n",
       "       [0.89958328],\n",
       "       [0.91237891],\n",
       "       [0.96492583],\n",
       "       [0.81727397],\n",
       "       [0.97798449],\n",
       "       [0.93112111],\n",
       "       [0.79921359],\n",
       "       [0.95975447],\n",
       "       [0.86407745],\n",
       "       [0.99664164],\n",
       "       [0.90953308],\n",
       "       [0.99750286],\n",
       "       [0.81842417],\n",
       "       [0.75457376],\n",
       "       [0.87444329],\n",
       "       [0.994865  ],\n",
       "       [0.8827318 ],\n",
       "       [0.99236065],\n",
       "       [0.64355689],\n",
       "       [0.68820435],\n",
       "       [0.86470616],\n",
       "       [0.78704321],\n",
       "       [0.84581059],\n",
       "       [0.90069574],\n",
       "       [0.7888391 ],\n",
       "       [0.75553548],\n",
       "       [0.83627713],\n",
       "       [0.84783608],\n",
       "       [0.93475318],\n",
       "       [0.91496032],\n",
       "       [0.9141863 ],\n",
       "       [0.88727212],\n",
       "       [0.90262282],\n",
       "       [0.73114604],\n",
       "       [0.9177134 ],\n",
       "       [0.94695133],\n",
       "       [0.84802282]])"
      ]
     },
     "execution_count": 12,
     "metadata": {},
     "output_type": "execute_result"
    }
   ],
   "source": [
    "estimated_outputs"
   ]
  },
  {
   "cell_type": "code",
   "execution_count": 17,
   "metadata": {},
   "outputs": [
    {
     "data": {
      "text/plain": [
       "(1000, 1)"
      ]
     },
     "execution_count": 17,
     "metadata": {},
     "output_type": "execute_result"
    }
   ],
   "source": [
    "estimated_outputs.shape"
   ]
  },
  {
   "cell_type": "markdown",
   "metadata": {},
   "source": [
    "#### 달민이 모델 평가"
   ]
  },
  {
   "cell_type": "code",
   "execution_count": 73,
   "metadata": {},
   "outputs": [
    {
     "name": "stderr",
     "output_type": "stream",
     "text": [
      "100%|██████████| 1000/1000 [01:10<00:00, 14.13it/s]\n"
     ]
    }
   ],
   "source": [
    "def evaluation(dataloader):\n",
    "  # 초기화\n",
    "  estimated_outputs = torch.tensor([], dtype=torch.float64,device = device)  # 예측값을 저장하는 텐서.\n",
    "  predictions = torch.tensor([], dtype=torch.float64, device = device) # 실제값을 저장하는 텐서.\n",
    "\n",
    "  # 평가 모드 설정\n",
    "  with torch.no_grad():\n",
    "    model.eval()                                                       # 평가를 할 땐 반드시 eval()을 사용해야 한다.\n",
    "\n",
    "    # 데이터 로더를 통한 반복\n",
    "    for data in dataloader:\n",
    "        inputs, values = data\n",
    "        outputs = model(inputs)\n",
    "\n",
    "        # 예측값 및 실제값 저장\n",
    "        estimated_outputs = torch.cat((estimated_outputs, outputs), 0)             # cat함수를 통해 예측값을 누적.\n",
    "        predictions = torch.cat((predictions, values), 0)                        # cat함수를 통해 실제값을 누적.\n",
    "  \n",
    "  # CPU로 이동 및 NumPy 배열 변환\n",
    "  estimated_outputs =estimated_outputs.to(device= \"cpu\")\n",
    "  estimated_outputs = estimated_outputs.numpy()                                    # 넘파이 배열로 변경.\n",
    "  predictions = predictions.to(device= \"cpu\")\n",
    "  predictions = predictions.numpy()                                              # 넘파이 배열로 변경.\n",
    "  \n",
    "  # RMSE 계산\n",
    "  rmse = np.sqrt(mean_squared_error(estimated_outputs, predictions))              # sklearn을 이용해 RMSE를 계산.\n",
    "\n",
    "  return rmse,predictions,estimated_outputs\n",
    "\n",
    "preds = []\n",
    "for i in tqdm(range(1000)):\n",
    "  test_rmse, predictions, estimated_outputs = evaluation(testloader)\n",
    "  preds.append(estimated_outputs)"
   ]
  },
  {
   "cell_type": "markdown",
   "metadata": {},
   "source": [
    "#### 실제값과 예측값 시각화"
   ]
  },
  {
   "cell_type": "code",
   "execution_count": 13,
   "metadata": {},
   "outputs": [
    {
     "data": {
      "image/png": "[encoded data removed]",
      "text/plain": [
       "<Figure size 1000x600 with 1 Axes>"
      ]
     },
     "metadata": {},
     "output_type": "display_data"
    }
   ],
   "source": [
    "# 실제 값과 예측값을 시각화하는 코드\n",
    "plt.figure(figsize=(10, 6))  # 그래프 크기 설정\n",
    "plt.plot(predictions, label='Actual Values')  # 실제 값 그래프\n",
    "plt.plot(estimated_outputs, label='Predicted Values', alpha=0.7)  # 예측 값 그래프, 투명도를 주어 구분하기 쉽게 함\n",
    "plt.title('Actual vs Predicted Values')  # 그래프 제목\n",
    "plt.xlabel('Sample Index')  # x축 라벨\n",
    "plt.ylabel('Value')  # y축 라벨\n",
    "plt.legend()  # 범례 표시\n",
    "plt.show()  # 그래프 표시"
   ]
  },
  {
   "cell_type": "markdown",
   "metadata": {},
   "source": [
    "#### 실제값과 예측값 시각화 달민 모델"
   ]
  },
  {
   "cell_type": "code",
   "execution_count": 74,
   "metadata": {},
   "outputs": [
    {
     "data": {
      "image/png": "[encoded data removed]",
      "text/plain": [
       "<Figure size 1000x600 with 1 Axes>"
      ]
     },
     "metadata": {},
     "output_type": "display_data"
    }
   ],
   "source": [
    "# 실제 값과 예측값을 시각화하는 코드\n",
    "plt.figure(figsize=(10, 6))  # 그래프 크기 설정\n",
    "plt.plot(predictions, label='Actual Values')  # 실제 값 그래프\n",
    "plt.plot(estimated_outputs, label='Predicted Values', alpha=0.7)  # 예측 값 그래프, 투명도를 주어 구분하기 쉽게 함\n",
    "plt.title('Actual vs Predicted Values')  # 그래프 제목\n",
    "plt.xlabel('Sample Index')  # x축 라벨\n",
    "plt.ylabel('Value')  # y축 라벨\n",
    "plt.legend()  # 범례 표시\n",
    "plt.show()  # 그래프 표시"
   ]
  },
  {
   "cell_type": "markdown",
   "metadata": {},
   "source": [
    "#### ARL0 구하기"
   ]
  },
  {
   "cell_type": "code",
   "execution_count": 75,
   "metadata": {},
   "outputs": [],
   "source": [
    "np.random.seed(1)\n",
    "\n",
    "l = 24\n",
    "\n",
    "def ar2gen(phi1, phi2, psi, delta,gamma, length) :\n",
    "\n",
    "    e = np.random.normal(loc=0, scale = 1,size = length)\n",
    "    sigma = math.sqrt((1 - phi2) / ((1 + phi2) * (1 - phi2 - phi1) * (1 - phi2 + phi1)))\n",
    "    x = np.array(np.repeat(0, length), dtype= np.float64)\n",
    "    x[0] = e[0]\n",
    "    z = np.array(np.repeat(0, length), dtype=np.float64)\n",
    "\n",
    "    for i in range(2, psi):\n",
    "        x[i] = phi1 * x[i - 1] + phi2 * x[i - 2] + e[i]\n",
    "        z[i] = x[i]\n",
    "    for i in range(psi,len(x)):\n",
    "        x[i] = phi1 * x[i - 1] + phi2 * x[i - 2] + gamma*e[i]\n",
    "        z[i] = x[i]\n",
    "    for i in range(psi,len(z)):\n",
    "        z[i] = z[i] + delta * sigma\n",
    "\n",
    "    return z"
   ]
  },
  {
   "cell_type": "code",
   "execution_count": 76,
   "metadata": {},
   "outputs": [],
   "source": [
    "def arl(phi1, phi2, delta, gamma, run, length, cl) :\n",
    "    rl = np.array([], dtype=np.float64)\n",
    "\n",
    "    for i in tqdm(range(run)) :\n",
    "        y = ar2gen(phi1, phi2, psi=l-1, delta=delta, gamma = gamma,length=length)\n",
    "        a = np.array([length-l])\n",
    "        x = np.zeros(shape=(length-l, l))\n",
    "        for j in range(length-l):\n",
    "            x[j] = y[j: j + l]\n",
    "        x = torch.FloatTensor(x).to(device)\n",
    "\n",
    "        model.eval()\n",
    "        with torch.no_grad():\n",
    "            for j in range(0,len(x)):\n",
    "                input = x[[j]]\n",
    "\n",
    "                output = model(input)\n",
    "\n",
    "                if output[0] > cl :\n",
    "\n",
    "                    a = np.array([j + 1])\n",
    "                    #print(output)\n",
    "                    break\n",
    "                elif j == len(x):\n",
    "                    a = len(x)\n",
    "\n",
    "            #print(a)\n",
    "            rl = np.append(rl,a)\n",
    "\n",
    "    arl = np.mean(rl)\n",
    "    #print(f'cl = {cl}')\n",
    "    return arl\n"
   ]
  },
  {
   "cell_type": "markdown",
   "metadata": {},
   "source": [
    "#### ARL1 함수"
   ]
  },
  {
   "cell_type": "code",
   "execution_count": 77,
   "metadata": {},
   "outputs": [],
   "source": [
    "def arl1(phi1, phi2, run, length, cl):\n",
    "    a5 = arl(phi1, phi2, 0.5, 1, run, length, cl)\n",
    "    a1 = arl(phi1, phi2, 1, 1, run, length, cl)\n",
    "    a2 = arl(phi1, phi2, 2, 1, run, length, cl)\n",
    "    a3 = arl(phi1, phi2, 3, 1, run, length, cl)\n",
    "    b5 = arl(phi1, phi2, 0.5, 1.5,run, length, cl)\n",
    "    b1 = arl(phi1, phi2, 1, 1.5, run, length, cl)\n",
    "    b2 = arl(phi1, phi2, 2, 1.5, run, length, cl)\n",
    "    b3 = arl(phi1, phi2, 3, 1, run, length, cl)\n",
    "    c1 = arl(phi1, phi2, 0, 1.5, run, length, cl)\n",
    "    c2 = arl(phi1, phi2, 0, 2, run, length, cl)\n",
    "    c3 = arl(phi1, phi2, 0, 3, run, length, cl)\n",
    "    print(f'0.5: {a5}, 1:{a1},2:{a2},3:{a3}')\n",
    "    print(f'0.5:{b5},1:{b1},2:{b2},3:{b3}')\n",
    "    print(f'1.5:{c1},2:{c2},3:{c3}')"
   ]
  },
  {
   "cell_type": "markdown",
   "metadata": {},
   "source": [
    "### ARL 구하기"
   ]
  },
  {
   "cell_type": "markdown",
   "metadata": {},
   "source": [
    "#### Case1)  phi1 = 0, phi2 = 0.1"
   ]
  },
  {
   "cell_type": "markdown",
   "metadata": {},
   "source": [
    "##### threshold 임의 추정\n",
    "* ARL0이 약 370.4가 나오도록 이진탐색 방법을 이용하여 threshold를 구한다. "
   ]
  },
  {
   "cell_type": "code",
   "execution_count": 20,
   "metadata": {},
   "outputs": [
    {
     "name": "stderr",
     "output_type": "stream",
     "text": [
      "100%|██████████| 10000/10000 [00:38<00:00, 259.79it/s]\n"
     ]
    },
    {
     "data": {
      "text/plain": [
       "57.0128"
      ]
     },
     "execution_count": 20,
     "metadata": {},
     "output_type": "execute_result"
    }
   ],
   "source": [
    "# threshold 0.9\n",
    "arl(phi1=0, phi2=0.1, delta = 0, gamma = 1, run = 10000, length = 1000, cl = 0.9)"
   ]
  },
  {
   "cell_type": "code",
   "execution_count": 21,
   "metadata": {},
   "outputs": [
    {
     "name": "stderr",
     "output_type": "stream",
     "text": [
      "100%|██████████| 10000/10000 [06:57<00:00, 23.98it/s]\n"
     ]
    },
    {
     "data": {
      "text/plain": [
       "761.3145"
      ]
     },
     "execution_count": 21,
     "metadata": {},
     "output_type": "execute_result"
    }
   ],
   "source": [
    "# threshold 0.95\n",
    "arl(phi1=0, phi2=0.1, delta = 0, gamma = 1, run = 10000, length = 1000, cl = 0.95)"
   ]
  },
  {
   "cell_type": "code",
   "execution_count": 22,
   "metadata": {},
   "outputs": [
    {
     "name": "stderr",
     "output_type": "stream",
     "text": [
      "100%|██████████| 10000/10000 [02:29<00:00, 67.06it/s]\n"
     ]
    },
    {
     "data": {
      "text/plain": [
       "263.0422"
      ]
     },
     "execution_count": 22,
     "metadata": {},
     "output_type": "execute_result"
    }
   ],
   "source": [
    "# threshold 0.93\n",
    "arl(phi1=0, phi2=0.1, delta = 0, gamma = 1, run = 10000, length = 1000, cl = 0.93)"
   ]
  },
  {
   "cell_type": "code",
   "execution_count": 23,
   "metadata": {},
   "outputs": [
    {
     "name": "stderr",
     "output_type": "stream",
     "text": [
      "100%|██████████| 10000/10000 [04:32<00:00, 36.74it/s]\n"
     ]
    },
    {
     "data": {
      "text/plain": [
       "488.7296"
      ]
     },
     "execution_count": 23,
     "metadata": {},
     "output_type": "execute_result"
    }
   ],
   "source": [
    "# threshold 0.94\n",
    "arl(phi1=0, phi2=0.1, delta = 0, gamma = 1, run = 10000, length = 1000, cl = 0.94)"
   ]
  },
  {
   "cell_type": "code",
   "execution_count": 24,
   "metadata": {},
   "outputs": [
    {
     "name": "stderr",
     "output_type": "stream",
     "text": [
      "100%|██████████| 10000/10000 [03:26<00:00, 48.31it/s]\n"
     ]
    },
    {
     "data": {
      "text/plain": [
       "368.9851"
      ]
     },
     "execution_count": 24,
     "metadata": {},
     "output_type": "execute_result"
    }
   ],
   "source": [
    "# threshold 0.935\n",
    "arl(phi1=0, phi2=0.1, delta = 0, gamma = 1, run = 10000, length = 1000, cl = 0.935)"
   ]
  },
  {
   "cell_type": "code",
   "execution_count": 25,
   "metadata": {},
   "outputs": [
    {
     "name": "stderr",
     "output_type": "stream",
     "text": [
      "100%|██████████| 10000/10000 [03:32<00:00, 47.08it/s]\n"
     ]
    },
    {
     "data": {
      "text/plain": [
       "381.1398"
      ]
     },
     "execution_count": 25,
     "metadata": {},
     "output_type": "execute_result"
    }
   ],
   "source": [
    "# threshold 0.9355\n",
    "arl(phi1=0, phi2=0.1, delta = 0, gamma = 1, run = 10000, length = 1000, cl = 0.9355)"
   ]
  },
  {
   "cell_type": "code",
   "execution_count": 26,
   "metadata": {},
   "outputs": [
    {
     "name": "stderr",
     "output_type": "stream",
     "text": [
      "100%|██████████| 10000/10000 [03:29<00:00, 47.79it/s]\n"
     ]
    },
    {
     "data": {
      "text/plain": [
       "371.8606"
      ]
     },
     "execution_count": 26,
     "metadata": {},
     "output_type": "execute_result"
    }
   ],
   "source": [
    "# threshold 0.9353\n",
    "arl(phi1=0, phi2=0.1, delta = 0, gamma = 1, run = 10000, length = 1000, cl = 0.9353)"
   ]
  },
  {
   "cell_type": "markdown",
   "metadata": {},
   "source": [
    "#### test"
   ]
  },
  {
   "cell_type": "markdown",
   "metadata": {},
   "source": [
    "##### 이전 threshold 돌려보기"
   ]
  },
  {
   "cell_type": "code",
   "execution_count": 17,
   "metadata": {},
   "outputs": [
    {
     "name": "stderr",
     "output_type": "stream",
     "text": [
      "100%|██████████| 10000/10000 [02:30<00:00, 66.26it/s]\n"
     ]
    },
    {
     "data": {
      "text/plain": [
       "268.3254"
      ]
     },
     "execution_count": 17,
     "metadata": {},
     "output_type": "execute_result"
    }
   ],
   "source": [
    "# threshold 0.93005\n",
    "arl(phi1=0, phi2=0.1, delta = 0, gamma = 1, run = 10000, length = 1000, cl = 0.93005)"
   ]
  },
  {
   "cell_type": "code",
   "execution_count": 18,
   "metadata": {},
   "outputs": [
    {
     "name": "stderr",
     "output_type": "stream",
     "text": [
      "100%|██████████| 10000/10000 [02:33<00:00, 65.35it/s]\n"
     ]
    },
    {
     "data": {
      "text/plain": [
       "269.1863"
      ]
     },
     "execution_count": 18,
     "metadata": {},
     "output_type": "execute_result"
    }
   ],
   "source": [
    "# threshold 0.93005\n",
    "arl(phi1=0, phi2=0.1, delta = 0, gamma = 1, run = 10000, length = 1000, cl = 0.93005)"
   ]
  },
  {
   "cell_type": "code",
   "execution_count": 27,
   "metadata": {},
   "outputs": [
    {
     "name": "stderr",
     "output_type": "stream",
     "text": [
      "100%|██████████| 10000/10000 [03:30<00:00, 47.54it/s]\n"
     ]
    },
    {
     "data": {
      "text/plain": [
       "377.192"
      ]
     },
     "execution_count": 27,
     "metadata": {},
     "output_type": "execute_result"
    }
   ],
   "source": [
    "# threshold 0.9353\n",
    "arl(phi1=0, phi2=0.1, delta = 0, gamma = 1, run = 10000, length = 1000, cl = 0.9353)"
   ]
  },
  {
   "cell_type": "code",
   "execution_count": 29,
   "metadata": {},
   "outputs": [
    {
     "name": "stderr",
     "output_type": "stream",
     "text": [
      "100%|██████████| 10000/10000 [03:27<00:00, 48.23it/s]\n"
     ]
    },
    {
     "data": {
      "text/plain": [
       "376.3554"
      ]
     },
     "execution_count": 29,
     "metadata": {},
     "output_type": "execute_result"
    }
   ],
   "source": [
    "# threshold 0.9353\n",
    "arl(phi1=0, phi2=0.1, delta = 0, gamma = 1, run = 10000, length = 1000, cl = 0.9353)"
   ]
  },
  {
   "cell_type": "markdown",
   "metadata": {},
   "source": [
    "#### 달민이 모델 0.9353 -> 568"
   ]
  },
  {
   "cell_type": "code",
   "execution_count": 78,
   "metadata": {},
   "outputs": [
    {
     "name": "stderr",
     "output_type": "stream",
     "text": [
      "100%|██████████| 10000/10000 [04:32<00:00, 36.69it/s]\n"
     ]
    },
    {
     "data": {
      "text/plain": [
       "477.8056"
      ]
     },
     "execution_count": 78,
     "metadata": {},
     "output_type": "execute_result"
    }
   ],
   "source": [
    "# threshold 0.9353\n",
    "arl(phi1=0, phi2=0.1, delta = 0, gamma = 1, run = 10000, length = 1000, cl = 0.9353)"
   ]
  },
  {
   "cell_type": "markdown",
   "metadata": {},
   "source": [
    "##### ARL1 구하기"
   ]
  },
  {
   "cell_type": "code",
   "execution_count": 30,
   "metadata": {},
   "outputs": [
    {
     "name": "stderr",
     "output_type": "stream",
     "text": [
      "100%|██████████| 10000/10000 [00:26<00:00, 379.40it/s]\n",
      "100%|██████████| 10000/10000 [00:13<00:00, 744.61it/s]\n",
      "100%|██████████| 10000/10000 [00:09<00:00, 1003.18it/s]\n",
      "100%|██████████| 10000/10000 [00:09<00:00, 1092.26it/s]\n",
      "100%|██████████| 10000/10000 [00:16<00:00, 608.42it/s]\n",
      "100%|██████████| 10000/10000 [00:12<00:00, 808.30it/s]\n",
      "100%|██████████| 10000/10000 [00:09<00:00, 1015.44it/s]\n",
      "100%|██████████| 10000/10000 [00:09<00:00, 1093.83it/s]\n",
      "100%|██████████| 10000/10000 [00:29<00:00, 343.09it/s]\n",
      "100%|██████████| 10000/10000 [00:17<00:00, 568.16it/s]\n",
      "100%|██████████| 10000/10000 [00:12<00:00, 809.30it/s]"
     ]
    },
    {
     "name": "stdout",
     "output_type": "stream",
     "text": [
      "0.5: 34.6679, 1:10.5455,2:4.1389,3:2.5521\n",
      "0.5:16.4328,1:8.677,2:3.9746,3:2.5433\n",
      "1.5:40.1596,2:18.161,3:8.515\n"
     ]
    },
    {
     "name": "stderr",
     "output_type": "stream",
     "text": [
      "\n"
     ]
    }
   ],
   "source": [
    "arl1(phi1=0, phi2=0.1, run=10000, length=1000, cl=0.9353)"
   ]
  },
  {
   "cell_type": "markdown",
   "metadata": {},
   "source": [
    "#### Case2)  phi1 = 0.25, phi2 = 0.2"
   ]
  },
  {
   "cell_type": "markdown",
   "metadata": {},
   "source": [
    "##### threshold 임의 추정"
   ]
  },
  {
   "cell_type": "code",
   "execution_count": 31,
   "metadata": {},
   "outputs": [
    {
     "name": "stderr",
     "output_type": "stream",
     "text": [
      "100%|██████████| 10000/10000 [01:16<00:00, 130.34it/s]\n"
     ]
    },
    {
     "data": {
      "text/plain": [
       "131.4799"
      ]
     },
     "execution_count": 31,
     "metadata": {},
     "output_type": "execute_result"
    }
   ],
   "source": [
    "# threshold 0.94\n",
    "arl(phi1=0.25, phi2=0.2, delta = 0, gamma = 1, run = 10000, length = 1000, cl = 0.94)"
   ]
  },
  {
   "cell_type": "code",
   "execution_count": 32,
   "metadata": {},
   "outputs": [
    {
     "name": "stderr",
     "output_type": "stream",
     "text": [
      "100%|██████████| 10000/10000 [02:08<00:00, 77.77it/s]\n"
     ]
    },
    {
     "data": {
      "text/plain": [
       "227.089"
      ]
     },
     "execution_count": 32,
     "metadata": {},
     "output_type": "execute_result"
    }
   ],
   "source": [
    "# threshold 0.95\n",
    "arl(phi1=0.25, phi2=0.2, delta = 0, gamma = 1, run = 10000, length = 1000, cl = 0.95)"
   ]
  },
  {
   "cell_type": "code",
   "execution_count": 33,
   "metadata": {},
   "outputs": [
    {
     "name": "stderr",
     "output_type": "stream",
     "text": [
      "100%|██████████| 10000/10000 [03:52<00:00, 43.06it/s]\n"
     ]
    },
    {
     "data": {
      "text/plain": [
       "426.2849"
      ]
     },
     "execution_count": 33,
     "metadata": {},
     "output_type": "execute_result"
    }
   ],
   "source": [
    "# threshold 0.96\n",
    "arl(phi1=0.25, phi2=0.2, delta = 0, gamma = 1, run = 10000, length = 1000, cl = 0.96)"
   ]
  },
  {
   "cell_type": "code",
   "execution_count": 34,
   "metadata": {},
   "outputs": [
    {
     "name": "stderr",
     "output_type": "stream",
     "text": [
      "100%|██████████| 10000/10000 [02:54<00:00, 57.26it/s]\n"
     ]
    },
    {
     "data": {
      "text/plain": [
       "315.6125"
      ]
     },
     "execution_count": 34,
     "metadata": {},
     "output_type": "execute_result"
    }
   ],
   "source": [
    "# threshold 0.955\n",
    "arl(phi1=0.25, phi2=0.2, delta = 0, gamma = 1, run = 10000, length = 1000, cl = 0.955)"
   ]
  },
  {
   "cell_type": "code",
   "execution_count": 35,
   "metadata": {},
   "outputs": [
    {
     "name": "stderr",
     "output_type": "stream",
     "text": [
      "100%|██████████| 10000/10000 [03:15<00:00, 51.12it/s]\n"
     ]
    },
    {
     "data": {
      "text/plain": [
       "352.1999"
      ]
     },
     "execution_count": 35,
     "metadata": {},
     "output_type": "execute_result"
    }
   ],
   "source": [
    "# threshold 0.957\n",
    "arl(phi1=0.25, phi2=0.2, delta = 0, gamma = 1, run = 10000, length = 1000, cl = 0.957)"
   ]
  },
  {
   "cell_type": "code",
   "execution_count": 36,
   "metadata": {},
   "outputs": [
    {
     "name": "stderr",
     "output_type": "stream",
     "text": [
      "100%|██████████| 10000/10000 [03:25<00:00, 48.71it/s]\n"
     ]
    },
    {
     "data": {
      "text/plain": [
       "373.8055"
      ]
     },
     "execution_count": 36,
     "metadata": {},
     "output_type": "execute_result"
    }
   ],
   "source": [
    "# threshold 0.958\n",
    "arl(phi1=0.25, phi2=0.2, delta = 0, gamma = 1, run = 10000, length = 1000, cl = 0.958)"
   ]
  },
  {
   "cell_type": "code",
   "execution_count": 37,
   "metadata": {},
   "outputs": [
    {
     "name": "stderr",
     "output_type": "stream",
     "text": [
      "100%|██████████| 10000/10000 [03:25<00:00, 48.59it/s]\n"
     ]
    },
    {
     "data": {
      "text/plain": [
       "372.3714"
      ]
     },
     "execution_count": 37,
     "metadata": {},
     "output_type": "execute_result"
    }
   ],
   "source": [
    "# threshold 0.9578\n",
    "arl(phi1=0.25, phi2=0.2, delta = 0, gamma = 1, run = 10000, length = 1000, cl = 0.9578)"
   ]
  },
  {
   "cell_type": "code",
   "execution_count": 38,
   "metadata": {},
   "outputs": [
    {
     "name": "stderr",
     "output_type": "stream",
     "text": [
      "100%|██████████| 10000/10000 [03:21<00:00, 49.62it/s]\n"
     ]
    },
    {
     "data": {
      "text/plain": [
       "364.5132"
      ]
     },
     "execution_count": 38,
     "metadata": {},
     "output_type": "execute_result"
    }
   ],
   "source": [
    "# threshold 0.9576\n",
    "arl(phi1=0.25, phi2=0.2, delta = 0, gamma = 1, run = 10000, length = 1000, cl = 0.9576)"
   ]
  },
  {
   "cell_type": "code",
   "execution_count": 39,
   "metadata": {},
   "outputs": [
    {
     "name": "stderr",
     "output_type": "stream",
     "text": [
      "100%|██████████| 10000/10000 [03:25<00:00, 48.67it/s]\n"
     ]
    },
    {
     "data": {
      "text/plain": [
       "371.5099"
      ]
     },
     "execution_count": 39,
     "metadata": {},
     "output_type": "execute_result"
    }
   ],
   "source": [
    "# threshold 0.9577\n",
    "arl(phi1=0.25, phi2=0.2, delta = 0, gamma = 1, run = 10000, length = 1000, cl = 0.9577)"
   ]
  },
  {
   "cell_type": "markdown",
   "metadata": {},
   "source": [
    "#### test"
   ]
  },
  {
   "cell_type": "code",
   "execution_count": 40,
   "metadata": {},
   "outputs": [
    {
     "name": "stderr",
     "output_type": "stream",
     "text": [
      "100%|██████████| 10000/10000 [03:23<00:00, 49.18it/s]\n"
     ]
    },
    {
     "data": {
      "text/plain": [
       "365.6224"
      ]
     },
     "execution_count": 40,
     "metadata": {},
     "output_type": "execute_result"
    }
   ],
   "source": [
    "# threshold 0.9577\n",
    "arl(phi1=0.25, phi2=0.2, delta = 0, gamma = 1, run = 10000, length = 1000, cl = 0.9577)"
   ]
  },
  {
   "cell_type": "code",
   "execution_count": 44,
   "metadata": {},
   "outputs": [
    {
     "name": "stderr",
     "output_type": "stream",
     "text": [
      "100%|██████████| 10000/10000 [03:24<00:00, 48.82it/s]\n"
     ]
    },
    {
     "data": {
      "text/plain": [
       "368.7996"
      ]
     },
     "execution_count": 44,
     "metadata": {},
     "output_type": "execute_result"
    }
   ],
   "source": [
    "# threshold 0.9577\n",
    "arl(phi1=0.25, phi2=0.2, delta = 0, gamma = 1, run = 10000, length = 1000, cl = 0.9577)"
   ]
  },
  {
   "cell_type": "code",
   "execution_count": 42,
   "metadata": {},
   "outputs": [
    {
     "name": "stderr",
     "output_type": "stream",
     "text": [
      "100%|██████████| 10000/10000 [03:23<00:00, 49.06it/s]\n"
     ]
    },
    {
     "data": {
      "text/plain": [
       "367.6708"
      ]
     },
     "execution_count": 42,
     "metadata": {},
     "output_type": "execute_result"
    }
   ],
   "source": [
    "# threshold 0.9578\n",
    "arl(phi1=0.25, phi2=0.2, delta = 0, gamma = 1, run = 10000, length = 1000, cl = 0.9578)"
   ]
  },
  {
   "cell_type": "code",
   "execution_count": 43,
   "metadata": {},
   "outputs": [
    {
     "name": "stderr",
     "output_type": "stream",
     "text": [
      "100%|██████████| 10000/10000 [03:25<00:00, 48.75it/s]\n"
     ]
    },
    {
     "data": {
      "text/plain": [
       "369.8193"
      ]
     },
     "execution_count": 43,
     "metadata": {},
     "output_type": "execute_result"
    }
   ],
   "source": [
    "# threshold 0.9578\n",
    "arl(phi1=0.25, phi2=0.2, delta = 0, gamma = 1, run = 10000, length = 1000, cl = 0.9578)"
   ]
  },
  {
   "cell_type": "markdown",
   "metadata": {},
   "source": [
    "##### ARL1 구하기"
   ]
  },
  {
   "cell_type": "code",
   "execution_count": 45,
   "metadata": {},
   "outputs": [
    {
     "name": "stderr",
     "output_type": "stream",
     "text": [
      "100%|██████████| 10000/10000 [00:37<00:00, 265.82it/s]\n",
      "100%|██████████| 10000/10000 [00:17<00:00, 582.11it/s]\n",
      "100%|██████████| 10000/10000 [00:10<00:00, 910.27it/s]\n",
      "100%|██████████| 10000/10000 [00:09<00:00, 1034.14it/s]\n",
      "100%|██████████| 10000/10000 [00:21<00:00, 466.89it/s]\n",
      "100%|██████████| 10000/10000 [00:14<00:00, 673.53it/s]\n",
      "100%|██████████| 10000/10000 [00:10<00:00, 920.07it/s]\n",
      "100%|██████████| 10000/10000 [00:09<00:00, 1042.64it/s]\n",
      "100%|██████████| 10000/10000 [00:39<00:00, 255.43it/s]\n",
      "100%|██████████| 10000/10000 [00:22<00:00, 442.58it/s]\n",
      "100%|██████████| 10000/10000 [00:14<00:00, 679.87it/s]"
     ]
    },
    {
     "name": "stdout",
     "output_type": "stream",
     "text": [
      "0.5: 56.2529, 1:17.3813,2:5.7062,3:3.36\n",
      "0.5:25.3402,1:13.2245,2:5.804,3:3.3257\n",
      "1.5:58.1406,2:27.2822,3:12.7542\n"
     ]
    },
    {
     "name": "stderr",
     "output_type": "stream",
     "text": [
      "\n"
     ]
    }
   ],
   "source": [
    "arl1(phi1=0.25, phi2=0.2, run=10000, length=1000, cl=0.9578)"
   ]
  },
  {
   "cell_type": "markdown",
   "metadata": {},
   "source": [
    "#### Case3)  phi1 = 0.4, phi2 = 0.3"
   ]
  },
  {
   "cell_type": "markdown",
   "metadata": {},
   "source": [
    "##### threshold 임의 추정"
   ]
  },
  {
   "cell_type": "code",
   "execution_count": 46,
   "metadata": {},
   "outputs": [
    {
     "name": "stderr",
     "output_type": "stream",
     "text": [
      "100%|██████████| 10000/10000 [01:02<00:00, 159.62it/s]\n"
     ]
    },
    {
     "data": {
      "text/plain": [
       "102.4332"
      ]
     },
     "execution_count": 46,
     "metadata": {},
     "output_type": "execute_result"
    }
   ],
   "source": [
    "# threshold 0.96\n",
    "arl(phi1=0.4, phi2=0.3, delta = 0, gamma = 1, run = 10000, length = 1000, cl = 0.96)"
   ]
  },
  {
   "cell_type": "code",
   "execution_count": 47,
   "metadata": {},
   "outputs": [
    {
     "name": "stderr",
     "output_type": "stream",
     "text": [
      "100%|██████████| 10000/10000 [01:37<00:00, 102.63it/s]\n"
     ]
    },
    {
     "data": {
      "text/plain": [
       "168.6303"
      ]
     },
     "execution_count": 47,
     "metadata": {},
     "output_type": "execute_result"
    }
   ],
   "source": [
    "# threshold 0.97\n",
    "arl(phi1=0.4, phi2=0.3, delta = 0, gamma = 1, run = 10000, length = 1000, cl = 0.97)"
   ]
  },
  {
   "cell_type": "code",
   "execution_count": 48,
   "metadata": {},
   "outputs": [
    {
     "name": "stderr",
     "output_type": "stream",
     "text": [
      "100%|██████████| 10000/10000 [03:13<00:00, 51.56it/s]\n"
     ]
    },
    {
     "data": {
      "text/plain": [
       "348.7647"
      ]
     },
     "execution_count": 48,
     "metadata": {},
     "output_type": "execute_result"
    }
   ],
   "source": [
    "# threshold 0.98\n",
    "arl(phi1=0.4, phi2=0.3, delta = 0, gamma = 1, run = 10000, length = 1000, cl = 0.98)"
   ]
  },
  {
   "cell_type": "code",
   "execution_count": 49,
   "metadata": {},
   "outputs": [
    {
     "name": "stderr",
     "output_type": "stream",
     "text": [
      "100%|██████████| 10000/10000 [06:57<00:00, 23.96it/s]\n"
     ]
    },
    {
     "data": {
      "text/plain": [
       "763.3083"
      ]
     },
     "execution_count": 49,
     "metadata": {},
     "output_type": "execute_result"
    }
   ],
   "source": [
    "# threshold 0.99\n",
    "arl(phi1=0.4, phi2=0.3, delta = 0, gamma = 1, run = 10000, length = 1000, cl = 0.99)"
   ]
  },
  {
   "cell_type": "code",
   "execution_count": 50,
   "metadata": {},
   "outputs": [
    {
     "name": "stderr",
     "output_type": "stream",
     "text": [
      "100%|██████████| 10000/10000 [04:48<00:00, 34.63it/s]\n"
     ]
    },
    {
     "data": {
      "text/plain": [
       "527.6993"
      ]
     },
     "execution_count": 50,
     "metadata": {},
     "output_type": "execute_result"
    }
   ],
   "source": [
    "# threshold 0.985\n",
    "arl(phi1=0.4, phi2=0.3, delta = 0, gamma = 1, run = 10000, length = 1000, cl = 0.985)"
   ]
  },
  {
   "cell_type": "code",
   "execution_count": 51,
   "metadata": {},
   "outputs": [
    {
     "name": "stderr",
     "output_type": "stream",
     "text": [
      "100%|██████████| 10000/10000 [04:06<00:00, 40.62it/s]\n"
     ]
    },
    {
     "data": {
      "text/plain": [
       "448.3535"
      ]
     },
     "execution_count": 51,
     "metadata": {},
     "output_type": "execute_result"
    }
   ],
   "source": [
    "# threshold 0.983\n",
    "arl(phi1=0.4, phi2=0.3, delta = 0, gamma = 1, run = 10000, length = 1000, cl = 0.983)"
   ]
  },
  {
   "cell_type": "code",
   "execution_count": 52,
   "metadata": {},
   "outputs": [
    {
     "name": "stderr",
     "output_type": "stream",
     "text": [
      "100%|██████████| 10000/10000 [03:28<00:00, 47.88it/s]\n"
     ]
    },
    {
     "data": {
      "text/plain": [
       "377.7714"
      ]
     },
     "execution_count": 52,
     "metadata": {},
     "output_type": "execute_result"
    }
   ],
   "source": [
    "# threshold 0.981\n",
    "arl(phi1=0.4, phi2=0.3, delta = 0, gamma = 1, run = 10000, length = 1000, cl = 0.981)"
   ]
  },
  {
   "cell_type": "code",
   "execution_count": 53,
   "metadata": {},
   "outputs": [
    {
     "name": "stderr",
     "output_type": "stream",
     "text": [
      "100%|██████████| 10000/10000 [03:19<00:00, 50.23it/s]\n"
     ]
    },
    {
     "data": {
      "text/plain": [
       "358.8942"
      ]
     },
     "execution_count": 53,
     "metadata": {},
     "output_type": "execute_result"
    }
   ],
   "source": [
    "# threshold 0.9805\n",
    "arl(phi1=0.4, phi2=0.3, delta = 0, gamma = 1, run = 10000, length = 1000, cl = 0.9805)"
   ]
  },
  {
   "cell_type": "code",
   "execution_count": 54,
   "metadata": {},
   "outputs": [
    {
     "name": "stderr",
     "output_type": "stream",
     "text": [
      "100%|██████████| 10000/10000 [03:24<00:00, 48.95it/s]\n"
     ]
    },
    {
     "data": {
      "text/plain": [
       "365.7701"
      ]
     },
     "execution_count": 54,
     "metadata": {},
     "output_type": "execute_result"
    }
   ],
   "source": [
    "# threshold 0.9807\n",
    "arl(phi1=0.4, phi2=0.3, delta = 0, gamma = 1, run = 10000, length = 1000, cl = 0.9807)"
   ]
  },
  {
   "cell_type": "code",
   "execution_count": 55,
   "metadata": {},
   "outputs": [
    {
     "name": "stderr",
     "output_type": "stream",
     "text": [
      "100%|██████████| 10000/10000 [03:23<00:00, 49.24it/s]\n"
     ]
    },
    {
     "data": {
      "text/plain": [
       "366.5774"
      ]
     },
     "execution_count": 55,
     "metadata": {},
     "output_type": "execute_result"
    }
   ],
   "source": [
    "# threshold 0.9808\n",
    "arl(phi1=0.4, phi2=0.3, delta = 0, gamma = 1, run = 10000, length = 1000, cl = 0.9808)"
   ]
  },
  {
   "cell_type": "code",
   "execution_count": 56,
   "metadata": {},
   "outputs": [
    {
     "name": "stderr",
     "output_type": "stream",
     "text": [
      "100%|██████████| 10000/10000 [03:25<00:00, 48.60it/s]\n"
     ]
    },
    {
     "data": {
      "text/plain": [
       "371.352"
      ]
     },
     "execution_count": 56,
     "metadata": {},
     "output_type": "execute_result"
    }
   ],
   "source": [
    "# threshold 0.9809\n",
    "arl(phi1=0.4, phi2=0.3, delta = 0, gamma = 1, run = 10000, length = 1000, cl = 0.9809)"
   ]
  },
  {
   "cell_type": "markdown",
   "metadata": {},
   "source": [
    "##### test"
   ]
  },
  {
   "cell_type": "code",
   "execution_count": 57,
   "metadata": {},
   "outputs": [
    {
     "name": "stderr",
     "output_type": "stream",
     "text": [
      "100%|██████████| 10000/10000 [03:26<00:00, 48.53it/s]\n"
     ]
    },
    {
     "data": {
      "text/plain": [
       "369.2379"
      ]
     },
     "execution_count": 57,
     "metadata": {},
     "output_type": "execute_result"
    }
   ],
   "source": [
    "# threshold 0.9809\n",
    "arl(phi1=0.4, phi2=0.3, delta = 0, gamma = 1, run = 10000, length = 1000, cl = 0.9809)"
   ]
  },
  {
   "cell_type": "code",
   "execution_count": 58,
   "metadata": {},
   "outputs": [
    {
     "name": "stderr",
     "output_type": "stream",
     "text": [
      "100%|██████████| 10000/10000 [03:29<00:00, 47.82it/s]\n"
     ]
    },
    {
     "data": {
      "text/plain": [
       "376.2502"
      ]
     },
     "execution_count": 58,
     "metadata": {},
     "output_type": "execute_result"
    }
   ],
   "source": [
    "# threshold 0.9809\n",
    "arl(phi1=0.4, phi2=0.3, delta = 0, gamma = 1, run = 10000, length = 1000, cl = 0.9809)"
   ]
  },
  {
   "cell_type": "markdown",
   "metadata": {},
   "source": [
    "##### ARL1 구하기"
   ]
  },
  {
   "cell_type": "code",
   "execution_count": 59,
   "metadata": {},
   "outputs": [
    {
     "name": "stderr",
     "output_type": "stream",
     "text": [
      "100%|██████████| 10000/10000 [00:56<00:00, 177.00it/s]\n",
      "100%|██████████| 10000/10000 [00:24<00:00, 413.32it/s]\n",
      "100%|██████████| 10000/10000 [00:12<00:00, 813.89it/s]\n",
      "100%|██████████| 10000/10000 [00:10<00:00, 989.99it/s]\n",
      "100%|██████████| 10000/10000 [00:28<00:00, 348.70it/s]\n",
      "100%|██████████| 10000/10000 [00:19<00:00, 519.64it/s]\n",
      "100%|██████████| 10000/10000 [00:12<00:00, 808.03it/s]\n",
      "100%|██████████| 10000/10000 [00:10<00:00, 982.85it/s]\n",
      "100%|██████████| 10000/10000 [00:52<00:00, 192.30it/s]\n",
      "100%|██████████| 10000/10000 [00:30<00:00, 325.35it/s]\n",
      "100%|██████████| 10000/10000 [00:19<00:00, 519.37it/s]"
     ]
    },
    {
     "name": "stdout",
     "output_type": "stream",
     "text": [
      "0.5: 91.0459, 1:30.5853,2:8.4439,3:4.4181\n",
      "0.5:39.2104,1:21.4044,2:8.7383,3:4.4624\n",
      "1.5:82.2872,2:42.453,3:21.3166\n"
     ]
    },
    {
     "name": "stderr",
     "output_type": "stream",
     "text": [
      "\n"
     ]
    }
   ],
   "source": [
    "arl1(phi1=0.4, phi2=0.3, run=10000, length=1000, cl=0.9809)"
   ]
  },
  {
   "cell_type": "markdown",
   "metadata": {},
   "source": [
    "#### Case4)  phi1 = 0.6, phi2 = 0.2"
   ]
  },
  {
   "cell_type": "markdown",
   "metadata": {},
   "source": [
    "##### threshold 임의 추정"
   ]
  },
  {
   "cell_type": "code",
   "execution_count": null,
   "metadata": {},
   "outputs": [
    {
     "name": "stderr",
     "output_type": "stream",
     "text": [
      "100%|██████████| 10000/10000 [01:21<00:00, 123.13it/s]\n"
     ]
    },
    {
     "data": {
      "text/plain": [
       "136.7098"
      ]
     },
     "metadata": {},
     "output_type": "display_data"
    }
   ],
   "source": [
    "# threshold 0.97\n",
    "arl(phi1=0.6, phi2=0.2, delta = 0, gamma = 1, run = 10000, length = 1000, cl = 0.97)"
   ]
  },
  {
   "cell_type": "code",
   "execution_count": null,
   "metadata": {},
   "outputs": [
    {
     "name": "stderr",
     "output_type": "stream",
     "text": [
      "100%|██████████| 10000/10000 [06:53<00:00, 24.18it/s]\n"
     ]
    },
    {
     "data": {
      "text/plain": [
       "759.1557"
      ]
     },
     "metadata": {},
     "output_type": "display_data"
    }
   ],
   "source": [
    "# threshold 0.99\n",
    "arl(phi1=0.6, phi2=0.2, delta = 0, gamma = 1, run = 10000, length = 1000, cl = 0.99)"
   ]
  },
  {
   "cell_type": "code",
   "execution_count": null,
   "metadata": {},
   "outputs": [
    {
     "name": "stderr",
     "output_type": "stream",
     "text": [
      "100%|██████████| 10000/10000 [01:53<00:00, 87.87it/s]\n"
     ]
    },
    {
     "data": {
      "text/plain": [
       "196.9295"
      ]
     },
     "metadata": {},
     "output_type": "display_data"
    }
   ],
   "source": [
    "# threshold 0.975\n",
    "arl(phi1=0.6, phi2=0.2, delta = 0, gamma = 1, run = 10000, length = 1000, cl = 0.975)"
   ]
  },
  {
   "cell_type": "code",
   "execution_count": null,
   "metadata": {},
   "outputs": [
    {
     "name": "stderr",
     "output_type": "stream",
     "text": [
      "100%|██████████| 10000/10000 [03:29<00:00, 47.70it/s]\n"
     ]
    },
    {
     "data": {
      "text/plain": [
       "369.8888"
      ]
     },
     "metadata": {},
     "output_type": "display_data"
    }
   ],
   "source": [
    "# threshold 0.982\n",
    "arl(phi1=0.6, phi2=0.2, delta = 0, gamma = 1, run = 10000, length = 1000, cl = 0.982)"
   ]
  },
  {
   "cell_type": "code",
   "execution_count": null,
   "metadata": {},
   "outputs": [
    {
     "name": "stderr",
     "output_type": "stream",
     "text": [
      "100%|██████████| 10000/10000 [03:30<00:00, 47.58it/s]\n"
     ]
    },
    {
     "data": {
      "text/plain": [
       "371.6853"
      ]
     },
     "metadata": {},
     "output_type": "display_data"
    }
   ],
   "source": [
    "# threshold 0.9821\n",
    "arl(phi1=0.6, phi2=0.2, delta = 0, gamma = 1, run = 10000, length = 1000, cl = 0.9821)"
   ]
  },
  {
   "cell_type": "markdown",
   "metadata": {},
   "source": [
    "##### ARL1 구하기"
   ]
  },
  {
   "cell_type": "code",
   "execution_count": null,
   "metadata": {},
   "outputs": [
    {
     "name": "stderr",
     "output_type": "stream",
     "text": [
      "100%|██████████| 10000/10000 [01:06<00:00, 149.37it/s]\n",
      "100%|██████████| 10000/10000 [00:29<00:00, 333.87it/s]\n",
      "100%|██████████| 10000/10000 [00:13<00:00, 732.37it/s]\n",
      "100%|██████████| 10000/10000 [00:10<00:00, 934.36it/s]\n",
      "100%|██████████| 10000/10000 [00:34<00:00, 293.95it/s]\n",
      "100%|██████████| 10000/10000 [00:22<00:00, 440.62it/s]\n",
      "100%|██████████| 10000/10000 [00:13<00:00, 725.80it/s]\n",
      "100%|██████████| 10000/10000 [00:10<00:00, 934.99it/s]\n",
      "100%|██████████| 10000/10000 [00:58<00:00, 171.92it/s]\n",
      "100%|██████████| 10000/10000 [00:35<00:00, 283.46it/s]\n",
      "100%|██████████| 10000/10000 [00:22<00:00, 435.98it/s]"
     ]
    },
    {
     "name": "stdout",
     "output_type": "stream",
     "text": [
      "0.5: 108.217, 1:40.0345,2:10.6237,3:5.0882\n",
      "0.5:47.5339,1:26.9865,2:10.7427,3:5.0014\n",
      "1.5:91.2667,2:49.4644,3:27.0795\n"
     ]
    },
    {
     "name": "stderr",
     "output_type": "stream",
     "text": [
      "\n"
     ]
    }
   ],
   "source": [
    "arl1(phi1=0.6, phi2=0.2, run=10000, length=1000, cl=0.982)"
   ]
  },
  {
   "cell_type": "markdown",
   "metadata": {},
   "source": [
    "#### Case5)  phi1 = 0.8, phi2 = 0.1"
   ]
  },
  {
   "cell_type": "markdown",
   "metadata": {},
   "source": [
    "##### threshold 임의 추정"
   ]
  },
  {
   "cell_type": "code",
   "execution_count": 72,
   "metadata": {},
   "outputs": [
    {
     "name": "stderr",
     "output_type": "stream",
     "text": [
      "100%|██████████| 10000/10000 [02:00<00:00, 82.76it/s]\n"
     ]
    },
    {
     "data": {
      "text/plain": [
       "207.718"
      ]
     },
     "execution_count": 72,
     "metadata": {},
     "output_type": "execute_result"
    }
   ],
   "source": [
    "# threshold 0.99\n",
    "arl(phi1=0.8, phi2=0.1, delta = 0, gamma = 1, run = 10000, length = 1000, cl = 0.99)"
   ]
  },
  {
   "cell_type": "code",
   "execution_count": 73,
   "metadata": {},
   "outputs": [
    {
     "name": "stderr",
     "output_type": "stream",
     "text": [
      "100%|██████████| 10000/10000 [03:56<00:00, 42.30it/s]\n"
     ]
    },
    {
     "data": {
      "text/plain": [
       "427.0596"
      ]
     },
     "execution_count": 73,
     "metadata": {},
     "output_type": "execute_result"
    }
   ],
   "source": [
    "# threshold 0.995\n",
    "arl(phi1=0.8, phi2=0.1, delta = 0, gamma = 1, run = 10000, length = 1000, cl = 0.995)"
   ]
  },
  {
   "cell_type": "code",
   "execution_count": 74,
   "metadata": {},
   "outputs": [
    {
     "name": "stderr",
     "output_type": "stream",
     "text": [
      "100%|██████████| 10000/10000 [03:25<00:00, 48.71it/s]\n"
     ]
    },
    {
     "data": {
      "text/plain": [
       "366.4255"
      ]
     },
     "execution_count": 74,
     "metadata": {},
     "output_type": "execute_result"
    }
   ],
   "source": [
    "# threshold 0.994\n",
    "arl(phi1=0.8, phi2=0.1, delta = 0, gamma = 1, run = 10000, length = 1000, cl = 0.994)"
   ]
  },
  {
   "cell_type": "code",
   "execution_count": 75,
   "metadata": {},
   "outputs": [
    {
     "name": "stderr",
     "output_type": "stream",
     "text": [
      "100%|██████████| 10000/10000 [03:24<00:00, 48.78it/s]\n"
     ]
    },
    {
     "data": {
      "text/plain": [
       "368.1045"
      ]
     },
     "execution_count": 75,
     "metadata": {},
     "output_type": "execute_result"
    }
   ],
   "source": [
    "# threshold 0.9942\n",
    "arl(phi1=0.8, phi2=0.1, delta = 0, gamma = 1, run = 10000, length = 1000, cl = 0.9942)"
   ]
  },
  {
   "cell_type": "code",
   "execution_count": 76,
   "metadata": {},
   "outputs": [
    {
     "name": "stderr",
     "output_type": "stream",
     "text": [
      "100%|██████████| 10000/10000 [03:35<00:00, 46.32it/s]\n"
     ]
    },
    {
     "data": {
      "text/plain": [
       "388.176"
      ]
     },
     "execution_count": 76,
     "metadata": {},
     "output_type": "execute_result"
    }
   ],
   "source": [
    "# threshold 0.9944\n",
    "arl(phi1=0.8, phi2=0.1, delta = 0, gamma = 1, run = 10000, length = 1000, cl = 0.9944)"
   ]
  },
  {
   "cell_type": "code",
   "execution_count": 78,
   "metadata": {},
   "outputs": [
    {
     "name": "stderr",
     "output_type": "stream",
     "text": [
      "100%|██████████| 10000/10000 [03:30<00:00, 47.54it/s]\n"
     ]
    },
    {
     "data": {
      "text/plain": [
       "378.7494"
      ]
     },
     "execution_count": 78,
     "metadata": {},
     "output_type": "execute_result"
    }
   ],
   "source": [
    "# threshold 0.99425\n",
    "arl(phi1=0.8, phi2=0.1, delta = 0, gamma = 1, run = 10000, length = 1000, cl = 0.99425)"
   ]
  },
  {
   "cell_type": "code",
   "execution_count": 79,
   "metadata": {},
   "outputs": [
    {
     "name": "stderr",
     "output_type": "stream",
     "text": [
      "100%|██████████| 10000/10000 [03:26<00:00, 48.40it/s]\n"
     ]
    },
    {
     "data": {
      "text/plain": [
       "375.6117"
      ]
     },
     "execution_count": 79,
     "metadata": {},
     "output_type": "execute_result"
    }
   ],
   "source": [
    "# threshold 0.99421\n",
    "arl(phi1=0.8, phi2=0.1, delta = 0, gamma = 1, run = 10000, length = 1000, cl = 0.99421)"
   ]
  },
  {
   "cell_type": "markdown",
   "metadata": {},
   "source": [
    "##### ARL1 구하기"
   ]
  },
  {
   "cell_type": "code",
   "execution_count": 80,
   "metadata": {},
   "outputs": [
    {
     "name": "stderr",
     "output_type": "stream",
     "text": [
      "100%|██████████| 10000/10000 [01:20<00:00, 124.15it/s]\n",
      "100%|██████████| 10000/10000 [00:37<00:00, 264.64it/s]\n",
      "100%|██████████| 10000/10000 [00:15<00:00, 646.12it/s]\n",
      "100%|██████████| 10000/10000 [00:11<00:00, 900.42it/s]\n",
      "100%|██████████| 10000/10000 [00:43<00:00, 232.29it/s]\n",
      "100%|██████████| 10000/10000 [00:28<00:00, 352.52it/s]\n",
      "100%|██████████| 10000/10000 [00:15<00:00, 627.61it/s]\n",
      "100%|██████████| 10000/10000 [00:11<00:00, 897.60it/s]\n",
      "100%|██████████| 10000/10000 [01:11<00:00, 140.45it/s]\n",
      "100%|██████████| 10000/10000 [00:44<00:00, 224.18it/s]\n",
      "100%|██████████| 10000/10000 [00:29<00:00, 341.21it/s]"
     ]
    },
    {
     "name": "stdout",
     "output_type": "stream",
     "text": [
      "0.5: 136.0466, 1:55.3844,2:14.0664,3:6.0089\n",
      "0.5:65.3272,1:37.5282,2:14.6496,3:5.9454\n",
      "1.5:116.2294,2:67.1549,3:39.2153\n"
     ]
    },
    {
     "name": "stderr",
     "output_type": "stream",
     "text": [
      "\n"
     ]
    }
   ],
   "source": [
    "arl1(phi1=0.8, phi2=0.1, run=10000, length=1000, cl=0.9942)"
   ]
  }
 ],
 "metadata": {
  "kernelspec": {
   "display_name": "my_env",
   "language": "python",
   "name": "python3"
  },
  "language_info": {
   "codemirror_mode": {
    "name": "ipython",
    "version": 3
   },
   "file_extension": ".py",
   "mimetype": "text/x-python",
   "name": "python",
   "nbconvert_exporter": "python",
   "pygments_lexer": "ipython3",
   "version": "3.1.undefined"
  }
 },
 "nbformat": 4,
 "nbformat_minor": 2
}
